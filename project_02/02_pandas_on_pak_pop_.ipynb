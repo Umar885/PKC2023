{
 "cells": [
  {
   "cell_type": "markdown",
   "metadata": {},
   "source": [
    "# Pakistan Population Analysis "
   ]
  },
  {
   "cell_type": "markdown",
   "metadata": {},
   "source": [
    "**Auther Name:** Umar Mehmood\\\n",
    "**Email:** umarmehmood885@gmail.com"
   ]
  },
  {
   "cell_type": "markdown",
   "metadata": {},
   "source": [
    "The Data was collected from the following [link](https://www.kaggle.com/datasets/mabdullahsajid/population-of-pakistan-dataset/data):\n",
    "\n",
    "**Year of Data:**\n",
    "1. 2017\n",
    "2. 1998"
   ]
  },
  {
   "cell_type": "markdown",
   "metadata": {},
   "source": [
    "## *The Dataset Collected from the Source has following Description:*\n",
    "`Description`\n",
    "This dataset contains demographic information from the Pakistan Population Census conducted in 2017. It provides detailed population data at various administrative levels within Pakistan, including provinces, divisions, districts, and sub-divisions. The dataset also includes information on urban and rural populations, gender distribution, transgender individuals, sex ratios, population figures from the 1998 census, and annual growth rates.\n",
    "\n",
    "`Features`\n",
    "Province: The administrative provinces or regions of Pakistan where the census data was collected.\n",
    "\n",
    "Division: The divisions within each province. Divisions are the second level of administrative divisions in Pakistan.\n",
    "\n",
    "District: Districts within each division, representing larger administrative units.\n",
    "\n",
    "Sub-Division: Sub-divisions or tehsils within each district, providing more localized data.\n",
    "\n",
    "Area: The land area (in square kilometers) of each sub-division.\n",
    "\n",
    "Urban Population 2017: The population of urban areas within each sub-division for the year 2017.\n",
    "\n",
    "Rural Population 2017: The population of rural areas within each sub-division for the year 2017.\n",
    "\n",
    "Male Population 2017: The male population within each sub-division for the year 2017.\n",
    "\n",
    "Female Population 2017: The female population within each sub-division for the year 2017.\n",
    "\n",
    "Transgender Population 2017: The population of transgender individuals within each sub-division for the year 2017.\n",
    "\n",
    "Sex Ratio 2017: The sex ratio, calculated as the number of females per 1000 males, within each sub-division for the year 2017.\n",
    "\n",
    "Population in 1998: The total population of each sub-division as recorded in the 1998 census.\n",
    "\n",
    "Annual Growth Rate: The annual growth rate of the population in each sub-division, calculated as the percentage increase from 1998 to 2017.\n",
    "\n",
    "`Data Source`\n",
    "The data in this dataset was collected from official Pakistan Population Census reports and may include data from various government sources. It is essential to provide proper attribution and reference the original sources when using this dataset for analysis or research.\n",
    "\n",
    "`Data Usage`\n",
    "Researchers and analysts can use this dataset to explore demographic trends, population growth, urbanization rates, gender distribution, and more within Pakistan at different administrative levels. Ensure compliance with ethical and legal guidelines when using this data for research or public sharing.\n",
    "\n",
    "Please note that this description is a template, and you should adapt it based on the actual data sources and specific details of your dataset when creating it for Kaggle or any other platform."
   ]
  },
  {
   "cell_type": "markdown",
   "metadata": {},
   "source": [
    "## Purpose of this Analysis"
   ]
  },
  {
   "cell_type": "code",
   "execution_count": 1,
   "metadata": {},
   "outputs": [],
   "source": [
    "# import the libraries\n",
    "import pandas as pd\n",
    "import numpy as np\n",
    "import matplotlib.pyplot as plt\n",
    "import seaborn as sns\n",
    "import plotly.express as px"
   ]
  },
  {
   "cell_type": "code",
   "execution_count": 2,
   "metadata": {},
   "outputs": [
    {
     "data": {
      "text/html": [
       "<div>\n",
       "<style scoped>\n",
       "    .dataframe tbody tr th:only-of-type {\n",
       "        vertical-align: middle;\n",
       "    }\n",
       "\n",
       "    .dataframe tbody tr th {\n",
       "        vertical-align: top;\n",
       "    }\n",
       "\n",
       "    .dataframe thead th {\n",
       "        text-align: right;\n",
       "    }\n",
       "</style>\n",
       "<table border=\"1\" class=\"dataframe\">\n",
       "  <thead>\n",
       "    <tr style=\"text-align: right;\">\n",
       "      <th></th>\n",
       "      <th>Unnamed: 0</th>\n",
       "      <th>PROVINCE</th>\n",
       "      <th>DIVISION</th>\n",
       "      <th>DISTRICT</th>\n",
       "      <th>SUB DIVISION</th>\n",
       "      <th>AREA (sq.km)</th>\n",
       "      <th>ALL SEXES (RURAL)</th>\n",
       "      <th>MALE (RURAL)</th>\n",
       "      <th>FEMALE (RURAL)</th>\n",
       "      <th>TRANSGENDER (RURAL)</th>\n",
       "      <th>...</th>\n",
       "      <th>POPULATION 1998 (RURAL)</th>\n",
       "      <th>ANNUAL GROWTH RATE (RURAL)</th>\n",
       "      <th>ALL SEXES (URBAN)</th>\n",
       "      <th>MALE (URBAN)</th>\n",
       "      <th>FEMALE (URBAN)</th>\n",
       "      <th>TRANSGENDER (URBAN)</th>\n",
       "      <th>SEX RATIO (URBAN)</th>\n",
       "      <th>AVG HOUSEHOLD SIZE (URBAN)</th>\n",
       "      <th>POPULATION 1998 (URBAN)</th>\n",
       "      <th>ANNUAL GROWTH RATE (URBAN)</th>\n",
       "    </tr>\n",
       "  </thead>\n",
       "  <tbody>\n",
       "    <tr>\n",
       "      <th>0</th>\n",
       "      <td>0</td>\n",
       "      <td>PUNJAB</td>\n",
       "      <td>BAHAWALPUR DIVISION</td>\n",
       "      <td>BAHAWALNAGAR DISTRICT</td>\n",
       "      <td>BAHAWALNAGAR TEHSIL</td>\n",
       "      <td>1729.0</td>\n",
       "      <td>619550</td>\n",
       "      <td>316864</td>\n",
       "      <td>302644</td>\n",
       "      <td>42</td>\n",
       "      <td>...</td>\n",
       "      <td>407768</td>\n",
       "      <td>2.22</td>\n",
       "      <td>193840</td>\n",
       "      <td>98391</td>\n",
       "      <td>95402</td>\n",
       "      <td>47</td>\n",
       "      <td>103.13</td>\n",
       "      <td>6.02</td>\n",
       "      <td>133785</td>\n",
       "      <td>1.97</td>\n",
       "    </tr>\n",
       "    <tr>\n",
       "      <th>1</th>\n",
       "      <td>1</td>\n",
       "      <td>PUNJAB</td>\n",
       "      <td>BAHAWALPUR DIVISION</td>\n",
       "      <td>BAHAWALNAGAR DISTRICT</td>\n",
       "      <td>CHISHTIAN TEHSIL</td>\n",
       "      <td>1500.0</td>\n",
       "      <td>540342</td>\n",
       "      <td>273788</td>\n",
       "      <td>266500</td>\n",
       "      <td>54</td>\n",
       "      <td>...</td>\n",
       "      <td>395983</td>\n",
       "      <td>1.65</td>\n",
       "      <td>149424</td>\n",
       "      <td>75546</td>\n",
       "      <td>73851</td>\n",
       "      <td>27</td>\n",
       "      <td>102.30</td>\n",
       "      <td>6.01</td>\n",
       "      <td>102287</td>\n",
       "      <td>2.01</td>\n",
       "    </tr>\n",
       "    <tr>\n",
       "      <th>2</th>\n",
       "      <td>2</td>\n",
       "      <td>PUNJAB</td>\n",
       "      <td>BAHAWALPUR DIVISION</td>\n",
       "      <td>BAHAWALNAGAR DISTRICT</td>\n",
       "      <td>FORT ABBAS TEHSIL</td>\n",
       "      <td>2536.0</td>\n",
       "      <td>361240</td>\n",
       "      <td>182655</td>\n",
       "      <td>178541</td>\n",
       "      <td>44</td>\n",
       "      <td>...</td>\n",
       "      <td>250959</td>\n",
       "      <td>1.93</td>\n",
       "      <td>61528</td>\n",
       "      <td>31360</td>\n",
       "      <td>30150</td>\n",
       "      <td>18</td>\n",
       "      <td>104.01</td>\n",
       "      <td>6.00</td>\n",
       "      <td>34637</td>\n",
       "      <td>3.06</td>\n",
       "    </tr>\n",
       "    <tr>\n",
       "      <th>3</th>\n",
       "      <td>3</td>\n",
       "      <td>PUNJAB</td>\n",
       "      <td>BAHAWALPUR DIVISION</td>\n",
       "      <td>BAHAWALNAGAR DISTRICT</td>\n",
       "      <td>HAROONABAD TEHSIL</td>\n",
       "      <td>1295.0</td>\n",
       "      <td>382115</td>\n",
       "      <td>192278</td>\n",
       "      <td>189808</td>\n",
       "      <td>29</td>\n",
       "      <td>...</td>\n",
       "      <td>297343</td>\n",
       "      <td>1.33</td>\n",
       "      <td>142600</td>\n",
       "      <td>71345</td>\n",
       "      <td>71236</td>\n",
       "      <td>19</td>\n",
       "      <td>100.15</td>\n",
       "      <td>6.02</td>\n",
       "      <td>84424</td>\n",
       "      <td>2.79</td>\n",
       "    </tr>\n",
       "    <tr>\n",
       "      <th>4</th>\n",
       "      <td>4</td>\n",
       "      <td>PUNJAB</td>\n",
       "      <td>BAHAWALPUR DIVISION</td>\n",
       "      <td>BAHAWALNAGAR DISTRICT</td>\n",
       "      <td>MINCHINABAD TEHSIL</td>\n",
       "      <td>1818.0</td>\n",
       "      <td>452723</td>\n",
       "      <td>231506</td>\n",
       "      <td>221178</td>\n",
       "      <td>39</td>\n",
       "      <td>...</td>\n",
       "      <td>316593</td>\n",
       "      <td>1.90</td>\n",
       "      <td>72294</td>\n",
       "      <td>36694</td>\n",
       "      <td>35590</td>\n",
       "      <td>10</td>\n",
       "      <td>103.10</td>\n",
       "      <td>6.34</td>\n",
       "      <td>37668</td>\n",
       "      <td>3.48</td>\n",
       "    </tr>\n",
       "  </tbody>\n",
       "</table>\n",
       "<p>5 rows × 22 columns</p>\n",
       "</div>"
      ],
      "text/plain": [
       "   Unnamed: 0 PROVINCE             DIVISION               DISTRICT  \\\n",
       "0           0   PUNJAB  BAHAWALPUR DIVISION  BAHAWALNAGAR DISTRICT   \n",
       "1           1   PUNJAB  BAHAWALPUR DIVISION  BAHAWALNAGAR DISTRICT   \n",
       "2           2   PUNJAB  BAHAWALPUR DIVISION  BAHAWALNAGAR DISTRICT   \n",
       "3           3   PUNJAB  BAHAWALPUR DIVISION  BAHAWALNAGAR DISTRICT   \n",
       "4           4   PUNJAB  BAHAWALPUR DIVISION  BAHAWALNAGAR DISTRICT   \n",
       "\n",
       "          SUB DIVISION  AREA (sq.km)  ALL SEXES (RURAL)  MALE (RURAL)  \\\n",
       "0  BAHAWALNAGAR TEHSIL        1729.0             619550        316864   \n",
       "1     CHISHTIAN TEHSIL        1500.0             540342        273788   \n",
       "2    FORT ABBAS TEHSIL        2536.0             361240        182655   \n",
       "3    HAROONABAD TEHSIL        1295.0             382115        192278   \n",
       "4   MINCHINABAD TEHSIL        1818.0             452723        231506   \n",
       "\n",
       "   FEMALE (RURAL)  TRANSGENDER (RURAL)  ...  POPULATION 1998 (RURAL)  \\\n",
       "0          302644                   42  ...                   407768   \n",
       "1          266500                   54  ...                   395983   \n",
       "2          178541                   44  ...                   250959   \n",
       "3          189808                   29  ...                   297343   \n",
       "4          221178                   39  ...                   316593   \n",
       "\n",
       "   ANNUAL GROWTH RATE (RURAL)  ALL SEXES (URBAN)  MALE (URBAN)  \\\n",
       "0                        2.22             193840         98391   \n",
       "1                        1.65             149424         75546   \n",
       "2                        1.93              61528         31360   \n",
       "3                        1.33             142600         71345   \n",
       "4                        1.90              72294         36694   \n",
       "\n",
       "   FEMALE (URBAN)  TRANSGENDER (URBAN)  SEX RATIO (URBAN)  \\\n",
       "0           95402                   47             103.13   \n",
       "1           73851                   27             102.30   \n",
       "2           30150                   18             104.01   \n",
       "3           71236                   19             100.15   \n",
       "4           35590                   10             103.10   \n",
       "\n",
       "   AVG HOUSEHOLD SIZE (URBAN)  POPULATION 1998 (URBAN)  \\\n",
       "0                        6.02                   133785   \n",
       "1                        6.01                   102287   \n",
       "2                        6.00                    34637   \n",
       "3                        6.02                    84424   \n",
       "4                        6.34                    37668   \n",
       "\n",
       "   ANNUAL GROWTH RATE (URBAN)  \n",
       "0                        1.97  \n",
       "1                        2.01  \n",
       "2                        3.06  \n",
       "3                        2.79  \n",
       "4                        3.48  \n",
       "\n",
       "[5 rows x 22 columns]"
      ]
     },
     "execution_count": 2,
     "metadata": {},
     "output_type": "execute_result"
    }
   ],
   "source": [
    "# import the data set\n",
    "df = pd.read_excel('population_data.xlsx')\n",
    "df.head()\n"
   ]
  },
  {
   "cell_type": "code",
   "execution_count": 3,
   "metadata": {},
   "outputs": [
    {
     "name": "stdout",
     "output_type": "stream",
     "text": [
      "<class 'pandas.core.frame.DataFrame'>\n",
      "RangeIndex: 528 entries, 0 to 527\n",
      "Data columns (total 22 columns):\n",
      " #   Column                      Non-Null Count  Dtype  \n",
      "---  ------                      --------------  -----  \n",
      " 0   Unnamed: 0                  528 non-null    int64  \n",
      " 1   PROVINCE                    528 non-null    object \n",
      " 2   DIVISION                    528 non-null    object \n",
      " 3   DISTRICT                    528 non-null    object \n",
      " 4   SUB DIVISION                528 non-null    object \n",
      " 5   AREA (sq.km)                528 non-null    float64\n",
      " 6   ALL SEXES (RURAL)           528 non-null    int64  \n",
      " 7   MALE (RURAL)                528 non-null    int64  \n",
      " 8   FEMALE (RURAL)              528 non-null    int64  \n",
      " 9   TRANSGENDER (RURAL)         528 non-null    int64  \n",
      " 10  SEX RATIO (RURAL)           528 non-null    float64\n",
      " 11  AVG HOUSEHOLD SIZE (RURAL)  528 non-null    float64\n",
      " 12  POPULATION 1998 (RURAL)     528 non-null    int64  \n",
      " 13  ANNUAL GROWTH RATE (RURAL)  528 non-null    float64\n",
      " 14  ALL SEXES (URBAN)           528 non-null    int64  \n",
      " 15  MALE (URBAN)                528 non-null    int64  \n",
      " 16  FEMALE (URBAN)              528 non-null    int64  \n",
      " 17  TRANSGENDER (URBAN)         528 non-null    int64  \n",
      " 18  SEX RATIO (URBAN)           528 non-null    float64\n",
      " 19  AVG HOUSEHOLD SIZE (URBAN)  528 non-null    float64\n",
      " 20  POPULATION 1998 (URBAN)     528 non-null    int64  \n",
      " 21  ANNUAL GROWTH RATE (URBAN)  528 non-null    float64\n",
      "dtypes: float64(7), int64(11), object(4)\n",
      "memory usage: 90.9+ KB\n"
     ]
    }
   ],
   "source": [
    "# Explore the data(Composetion)\n",
    "df.info()"
   ]
  },
  {
   "cell_type": "code",
   "execution_count": 4,
   "metadata": {},
   "outputs": [],
   "source": [
    "# Max column printing option\n",
    "pd.set_option('display.max_columns', None)\n",
    "pd.set_option('display.max_rows', None)"
   ]
  },
  {
   "cell_type": "code",
   "execution_count": 5,
   "metadata": {},
   "outputs": [
    {
     "data": {
      "text/html": [
       "<div>\n",
       "<style scoped>\n",
       "    .dataframe tbody tr th:only-of-type {\n",
       "        vertical-align: middle;\n",
       "    }\n",
       "\n",
       "    .dataframe tbody tr th {\n",
       "        vertical-align: top;\n",
       "    }\n",
       "\n",
       "    .dataframe thead th {\n",
       "        text-align: right;\n",
       "    }\n",
       "</style>\n",
       "<table border=\"1\" class=\"dataframe\">\n",
       "  <thead>\n",
       "    <tr style=\"text-align: right;\">\n",
       "      <th></th>\n",
       "      <th>Unnamed: 0</th>\n",
       "      <th>PROVINCE</th>\n",
       "      <th>DIVISION</th>\n",
       "      <th>DISTRICT</th>\n",
       "      <th>SUB DIVISION</th>\n",
       "      <th>AREA (sq.km)</th>\n",
       "      <th>ALL SEXES (RURAL)</th>\n",
       "      <th>MALE (RURAL)</th>\n",
       "      <th>FEMALE (RURAL)</th>\n",
       "      <th>TRANSGENDER (RURAL)</th>\n",
       "      <th>SEX RATIO (RURAL)</th>\n",
       "      <th>AVG HOUSEHOLD SIZE (RURAL)</th>\n",
       "      <th>POPULATION 1998 (RURAL)</th>\n",
       "      <th>ANNUAL GROWTH RATE (RURAL)</th>\n",
       "      <th>ALL SEXES (URBAN)</th>\n",
       "      <th>MALE (URBAN)</th>\n",
       "      <th>FEMALE (URBAN)</th>\n",
       "      <th>TRANSGENDER (URBAN)</th>\n",
       "      <th>SEX RATIO (URBAN)</th>\n",
       "      <th>AVG HOUSEHOLD SIZE (URBAN)</th>\n",
       "      <th>POPULATION 1998 (URBAN)</th>\n",
       "      <th>ANNUAL GROWTH RATE (URBAN)</th>\n",
       "    </tr>\n",
       "  </thead>\n",
       "  <tbody>\n",
       "    <tr>\n",
       "      <th>0</th>\n",
       "      <td>0</td>\n",
       "      <td>PUNJAB</td>\n",
       "      <td>BAHAWALPUR DIVISION</td>\n",
       "      <td>BAHAWALNAGAR DISTRICT</td>\n",
       "      <td>BAHAWALNAGAR TEHSIL</td>\n",
       "      <td>1729.0</td>\n",
       "      <td>619550</td>\n",
       "      <td>316864</td>\n",
       "      <td>302644</td>\n",
       "      <td>42</td>\n",
       "      <td>104.70</td>\n",
       "      <td>6.10</td>\n",
       "      <td>407768</td>\n",
       "      <td>2.22</td>\n",
       "      <td>193840</td>\n",
       "      <td>98391</td>\n",
       "      <td>95402</td>\n",
       "      <td>47</td>\n",
       "      <td>103.13</td>\n",
       "      <td>6.02</td>\n",
       "      <td>133785</td>\n",
       "      <td>1.97</td>\n",
       "    </tr>\n",
       "    <tr>\n",
       "      <th>1</th>\n",
       "      <td>1</td>\n",
       "      <td>PUNJAB</td>\n",
       "      <td>BAHAWALPUR DIVISION</td>\n",
       "      <td>BAHAWALNAGAR DISTRICT</td>\n",
       "      <td>CHISHTIAN TEHSIL</td>\n",
       "      <td>1500.0</td>\n",
       "      <td>540342</td>\n",
       "      <td>273788</td>\n",
       "      <td>266500</td>\n",
       "      <td>54</td>\n",
       "      <td>102.73</td>\n",
       "      <td>6.15</td>\n",
       "      <td>395983</td>\n",
       "      <td>1.65</td>\n",
       "      <td>149424</td>\n",
       "      <td>75546</td>\n",
       "      <td>73851</td>\n",
       "      <td>27</td>\n",
       "      <td>102.30</td>\n",
       "      <td>6.01</td>\n",
       "      <td>102287</td>\n",
       "      <td>2.01</td>\n",
       "    </tr>\n",
       "    <tr>\n",
       "      <th>2</th>\n",
       "      <td>2</td>\n",
       "      <td>PUNJAB</td>\n",
       "      <td>BAHAWALPUR DIVISION</td>\n",
       "      <td>BAHAWALNAGAR DISTRICT</td>\n",
       "      <td>FORT ABBAS TEHSIL</td>\n",
       "      <td>2536.0</td>\n",
       "      <td>361240</td>\n",
       "      <td>182655</td>\n",
       "      <td>178541</td>\n",
       "      <td>44</td>\n",
       "      <td>102.30</td>\n",
       "      <td>6.32</td>\n",
       "      <td>250959</td>\n",
       "      <td>1.93</td>\n",
       "      <td>61528</td>\n",
       "      <td>31360</td>\n",
       "      <td>30150</td>\n",
       "      <td>18</td>\n",
       "      <td>104.01</td>\n",
       "      <td>6.00</td>\n",
       "      <td>34637</td>\n",
       "      <td>3.06</td>\n",
       "    </tr>\n",
       "    <tr>\n",
       "      <th>3</th>\n",
       "      <td>3</td>\n",
       "      <td>PUNJAB</td>\n",
       "      <td>BAHAWALPUR DIVISION</td>\n",
       "      <td>BAHAWALNAGAR DISTRICT</td>\n",
       "      <td>HAROONABAD TEHSIL</td>\n",
       "      <td>1295.0</td>\n",
       "      <td>382115</td>\n",
       "      <td>192278</td>\n",
       "      <td>189808</td>\n",
       "      <td>29</td>\n",
       "      <td>101.30</td>\n",
       "      <td>6.15</td>\n",
       "      <td>297343</td>\n",
       "      <td>1.33</td>\n",
       "      <td>142600</td>\n",
       "      <td>71345</td>\n",
       "      <td>71236</td>\n",
       "      <td>19</td>\n",
       "      <td>100.15</td>\n",
       "      <td>6.02</td>\n",
       "      <td>84424</td>\n",
       "      <td>2.79</td>\n",
       "    </tr>\n",
       "    <tr>\n",
       "      <th>4</th>\n",
       "      <td>4</td>\n",
       "      <td>PUNJAB</td>\n",
       "      <td>BAHAWALPUR DIVISION</td>\n",
       "      <td>BAHAWALNAGAR DISTRICT</td>\n",
       "      <td>MINCHINABAD TEHSIL</td>\n",
       "      <td>1818.0</td>\n",
       "      <td>452723</td>\n",
       "      <td>231506</td>\n",
       "      <td>221178</td>\n",
       "      <td>39</td>\n",
       "      <td>104.67</td>\n",
       "      <td>6.29</td>\n",
       "      <td>316593</td>\n",
       "      <td>1.90</td>\n",
       "      <td>72294</td>\n",
       "      <td>36694</td>\n",
       "      <td>35590</td>\n",
       "      <td>10</td>\n",
       "      <td>103.10</td>\n",
       "      <td>6.34</td>\n",
       "      <td>37668</td>\n",
       "      <td>3.48</td>\n",
       "    </tr>\n",
       "  </tbody>\n",
       "</table>\n",
       "</div>"
      ],
      "text/plain": [
       "   Unnamed: 0 PROVINCE             DIVISION               DISTRICT  \\\n",
       "0           0   PUNJAB  BAHAWALPUR DIVISION  BAHAWALNAGAR DISTRICT   \n",
       "1           1   PUNJAB  BAHAWALPUR DIVISION  BAHAWALNAGAR DISTRICT   \n",
       "2           2   PUNJAB  BAHAWALPUR DIVISION  BAHAWALNAGAR DISTRICT   \n",
       "3           3   PUNJAB  BAHAWALPUR DIVISION  BAHAWALNAGAR DISTRICT   \n",
       "4           4   PUNJAB  BAHAWALPUR DIVISION  BAHAWALNAGAR DISTRICT   \n",
       "\n",
       "          SUB DIVISION  AREA (sq.km)  ALL SEXES (RURAL)  MALE (RURAL)  \\\n",
       "0  BAHAWALNAGAR TEHSIL        1729.0             619550        316864   \n",
       "1     CHISHTIAN TEHSIL        1500.0             540342        273788   \n",
       "2    FORT ABBAS TEHSIL        2536.0             361240        182655   \n",
       "3    HAROONABAD TEHSIL        1295.0             382115        192278   \n",
       "4   MINCHINABAD TEHSIL        1818.0             452723        231506   \n",
       "\n",
       "   FEMALE (RURAL)  TRANSGENDER (RURAL)  SEX RATIO (RURAL)  \\\n",
       "0          302644                   42             104.70   \n",
       "1          266500                   54             102.73   \n",
       "2          178541                   44             102.30   \n",
       "3          189808                   29             101.30   \n",
       "4          221178                   39             104.67   \n",
       "\n",
       "   AVG HOUSEHOLD SIZE (RURAL)  POPULATION 1998 (RURAL)  \\\n",
       "0                        6.10                   407768   \n",
       "1                        6.15                   395983   \n",
       "2                        6.32                   250959   \n",
       "3                        6.15                   297343   \n",
       "4                        6.29                   316593   \n",
       "\n",
       "   ANNUAL GROWTH RATE (RURAL)  ALL SEXES (URBAN)  MALE (URBAN)  \\\n",
       "0                        2.22             193840         98391   \n",
       "1                        1.65             149424         75546   \n",
       "2                        1.93              61528         31360   \n",
       "3                        1.33             142600         71345   \n",
       "4                        1.90              72294         36694   \n",
       "\n",
       "   FEMALE (URBAN)  TRANSGENDER (URBAN)  SEX RATIO (URBAN)  \\\n",
       "0           95402                   47             103.13   \n",
       "1           73851                   27             102.30   \n",
       "2           30150                   18             104.01   \n",
       "3           71236                   19             100.15   \n",
       "4           35590                   10             103.10   \n",
       "\n",
       "   AVG HOUSEHOLD SIZE (URBAN)  POPULATION 1998 (URBAN)  \\\n",
       "0                        6.02                   133785   \n",
       "1                        6.01                   102287   \n",
       "2                        6.00                    34637   \n",
       "3                        6.02                    84424   \n",
       "4                        6.34                    37668   \n",
       "\n",
       "   ANNUAL GROWTH RATE (URBAN)  \n",
       "0                        1.97  \n",
       "1                        2.01  \n",
       "2                        3.06  \n",
       "3                        2.79  \n",
       "4                        3.48  "
      ]
     },
     "execution_count": 5,
     "metadata": {},
     "output_type": "execute_result"
    }
   ],
   "source": [
    "df.head()"
   ]
  },
  {
   "cell_type": "code",
   "execution_count": 6,
   "metadata": {},
   "outputs": [
    {
     "data": {
      "text/plain": [
       "Index(['Unnamed: 0', 'PROVINCE', 'DIVISION', 'DISTRICT', 'SUB DIVISION',\n",
       "       'AREA (sq.km)', 'ALL SEXES (RURAL)', 'MALE (RURAL)', 'FEMALE (RURAL)',\n",
       "       'TRANSGENDER (RURAL)', 'SEX RATIO (RURAL)',\n",
       "       'AVG HOUSEHOLD SIZE (RURAL)', 'POPULATION 1998 (RURAL)',\n",
       "       'ANNUAL GROWTH RATE (RURAL)', 'ALL SEXES (URBAN)', 'MALE (URBAN)',\n",
       "       'FEMALE (URBAN)', 'TRANSGENDER (URBAN)', 'SEX RATIO (URBAN)',\n",
       "       'AVG HOUSEHOLD SIZE (URBAN)', 'POPULATION 1998 (URBAN)',\n",
       "       'ANNUAL GROWTH RATE (URBAN)'],\n",
       "      dtype='object')"
      ]
     },
     "execution_count": 6,
     "metadata": {},
     "output_type": "execute_result"
    }
   ],
   "source": [
    "# lets see all column names at once\n",
    "df.columns "
   ]
  },
  {
   "cell_type": "code",
   "execution_count": 7,
   "metadata": {},
   "outputs": [
    {
     "data": {
      "text/plain": [
       "Unnamed: 0                      int64\n",
       "PROVINCE                       object\n",
       "DIVISION                       object\n",
       "DISTRICT                       object\n",
       "SUB DIVISION                   object\n",
       "AREA (sq.km)                  float64\n",
       "ALL SEXES (RURAL)               int64\n",
       "MALE (RURAL)                    int64\n",
       "FEMALE (RURAL)                  int64\n",
       "TRANSGENDER (RURAL)             int64\n",
       "SEX RATIO (RURAL)             float64\n",
       "AVG HOUSEHOLD SIZE (RURAL)    float64\n",
       "POPULATION 1998 (RURAL)         int64\n",
       "ANNUAL GROWTH RATE (RURAL)    float64\n",
       "ALL SEXES (URBAN)               int64\n",
       "MALE (URBAN)                    int64\n",
       "FEMALE (URBAN)                  int64\n",
       "TRANSGENDER (URBAN)             int64\n",
       "SEX RATIO (URBAN)             float64\n",
       "AVG HOUSEHOLD SIZE (URBAN)    float64\n",
       "POPULATION 1998 (URBAN)         int64\n",
       "ANNUAL GROWTH RATE (URBAN)    float64\n",
       "dtype: object"
      ]
     },
     "execution_count": 7,
     "metadata": {},
     "output_type": "execute_result"
    }
   ],
   "source": [
    "# lets have a look on dtypes\n",
    "df.dtypes"
   ]
  },
  {
   "cell_type": "code",
   "execution_count": 8,
   "metadata": {},
   "outputs": [
    {
     "data": {
      "text/html": [
       "<div>\n",
       "<style scoped>\n",
       "    .dataframe tbody tr th:only-of-type {\n",
       "        vertical-align: middle;\n",
       "    }\n",
       "\n",
       "    .dataframe tbody tr th {\n",
       "        vertical-align: top;\n",
       "    }\n",
       "\n",
       "    .dataframe thead th {\n",
       "        text-align: right;\n",
       "    }\n",
       "</style>\n",
       "<table border=\"1\" class=\"dataframe\">\n",
       "  <thead>\n",
       "    <tr style=\"text-align: right;\">\n",
       "      <th></th>\n",
       "      <th>Unnamed: 0</th>\n",
       "      <th>AREA (sq.km)</th>\n",
       "      <th>ALL SEXES (RURAL)</th>\n",
       "      <th>MALE (RURAL)</th>\n",
       "      <th>FEMALE (RURAL)</th>\n",
       "      <th>TRANSGENDER (RURAL)</th>\n",
       "      <th>SEX RATIO (RURAL)</th>\n",
       "      <th>AVG HOUSEHOLD SIZE (RURAL)</th>\n",
       "      <th>POPULATION 1998 (RURAL)</th>\n",
       "      <th>ANNUAL GROWTH RATE (RURAL)</th>\n",
       "      <th>ALL SEXES (URBAN)</th>\n",
       "      <th>MALE (URBAN)</th>\n",
       "      <th>FEMALE (URBAN)</th>\n",
       "      <th>TRANSGENDER (URBAN)</th>\n",
       "      <th>SEX RATIO (URBAN)</th>\n",
       "      <th>AVG HOUSEHOLD SIZE (URBAN)</th>\n",
       "      <th>POPULATION 1998 (URBAN)</th>\n",
       "      <th>ANNUAL GROWTH RATE (URBAN)</th>\n",
       "    </tr>\n",
       "  </thead>\n",
       "  <tbody>\n",
       "    <tr>\n",
       "      <th>count</th>\n",
       "      <td>528.00000</td>\n",
       "      <td>528.000000</td>\n",
       "      <td>5.280000e+02</td>\n",
       "      <td>5.280000e+02</td>\n",
       "      <td>5.280000e+02</td>\n",
       "      <td>528.000000</td>\n",
       "      <td>528.000000</td>\n",
       "      <td>528.000000</td>\n",
       "      <td>5.280000e+02</td>\n",
       "      <td>528.000000</td>\n",
       "      <td>5.280000e+02</td>\n",
       "      <td>5.280000e+02</td>\n",
       "      <td>5.280000e+02</td>\n",
       "      <td>528.000000</td>\n",
       "      <td>528.000000</td>\n",
       "      <td>528.000000</td>\n",
       "      <td>5.280000e+02</td>\n",
       "      <td>528.000000</td>\n",
       "    </tr>\n",
       "    <tr>\n",
       "      <th>mean</th>\n",
       "      <td>263.50000</td>\n",
       "      <td>1492.005871</td>\n",
       "      <td>2.462780e+05</td>\n",
       "      <td>1.252757e+05</td>\n",
       "      <td>1.209841e+05</td>\n",
       "      <td>18.174242</td>\n",
       "      <td>98.982614</td>\n",
       "      <td>6.277064</td>\n",
       "      <td>1.674280e+05</td>\n",
       "      <td>3.124792</td>\n",
       "      <td>1.408635e+05</td>\n",
       "      <td>7.284339e+04</td>\n",
       "      <td>6.799787e+04</td>\n",
       "      <td>22.276515</td>\n",
       "      <td>75.411269</td>\n",
       "      <td>4.406402</td>\n",
       "      <td>8.014457e+04</td>\n",
       "      <td>1.920814</td>\n",
       "    </tr>\n",
       "    <tr>\n",
       "      <th>std</th>\n",
       "      <td>152.56474</td>\n",
       "      <td>2039.453778</td>\n",
       "      <td>2.711898e+05</td>\n",
       "      <td>1.375630e+05</td>\n",
       "      <td>1.337169e+05</td>\n",
       "      <td>25.522248</td>\n",
       "      <td>26.812660</td>\n",
       "      <td>2.074947</td>\n",
       "      <td>1.783890e+05</td>\n",
       "      <td>9.577872</td>\n",
       "      <td>3.512463e+05</td>\n",
       "      <td>1.823492e+05</td>\n",
       "      <td>1.688725e+05</td>\n",
       "      <td>66.068127</td>\n",
       "      <td>49.687341</td>\n",
       "      <td>2.948336</td>\n",
       "      <td>2.023120e+05</td>\n",
       "      <td>2.098908</td>\n",
       "    </tr>\n",
       "    <tr>\n",
       "      <th>min</th>\n",
       "      <td>0.00000</td>\n",
       "      <td>0.000000</td>\n",
       "      <td>0.000000e+00</td>\n",
       "      <td>0.000000e+00</td>\n",
       "      <td>0.000000e+00</td>\n",
       "      <td>0.000000</td>\n",
       "      <td>0.000000</td>\n",
       "      <td>0.000000</td>\n",
       "      <td>0.000000e+00</td>\n",
       "      <td>0.000000</td>\n",
       "      <td>0.000000e+00</td>\n",
       "      <td>0.000000e+00</td>\n",
       "      <td>0.000000e+00</td>\n",
       "      <td>0.000000</td>\n",
       "      <td>0.000000</td>\n",
       "      <td>0.000000</td>\n",
       "      <td>0.000000e+00</td>\n",
       "      <td>0.000000</td>\n",
       "    </tr>\n",
       "    <tr>\n",
       "      <th>25%</th>\n",
       "      <td>131.75000</td>\n",
       "      <td>425.000000</td>\n",
       "      <td>5.093450e+04</td>\n",
       "      <td>2.712725e+04</td>\n",
       "      <td>2.397900e+04</td>\n",
       "      <td>1.000000</td>\n",
       "      <td>101.105000</td>\n",
       "      <td>5.700000</td>\n",
       "      <td>3.527350e+04</td>\n",
       "      <td>1.440000</td>\n",
       "      <td>0.000000e+00</td>\n",
       "      <td>0.000000e+00</td>\n",
       "      <td>0.000000e+00</td>\n",
       "      <td>0.000000</td>\n",
       "      <td>0.000000</td>\n",
       "      <td>0.000000</td>\n",
       "      <td>0.000000e+00</td>\n",
       "      <td>0.000000</td>\n",
       "    </tr>\n",
       "    <tr>\n",
       "      <th>50%</th>\n",
       "      <td>263.50000</td>\n",
       "      <td>882.000000</td>\n",
       "      <td>1.652410e+05</td>\n",
       "      <td>8.413450e+04</td>\n",
       "      <td>8.204400e+04</td>\n",
       "      <td>10.000000</td>\n",
       "      <td>105.285000</td>\n",
       "      <td>6.310000</td>\n",
       "      <td>1.172065e+05</td>\n",
       "      <td>2.030000</td>\n",
       "      <td>4.325450e+04</td>\n",
       "      <td>2.198000e+04</td>\n",
       "      <td>2.099900e+04</td>\n",
       "      <td>3.000000</td>\n",
       "      <td>103.195000</td>\n",
       "      <td>5.755000</td>\n",
       "      <td>2.129800e+04</td>\n",
       "      <td>1.855000</td>\n",
       "    </tr>\n",
       "    <tr>\n",
       "      <th>75%</th>\n",
       "      <td>395.25000</td>\n",
       "      <td>1734.250000</td>\n",
       "      <td>3.129112e+05</td>\n",
       "      <td>1.605022e+05</td>\n",
       "      <td>1.522190e+05</td>\n",
       "      <td>25.000000</td>\n",
       "      <td>108.347500</td>\n",
       "      <td>7.200000</td>\n",
       "      <td>2.130542e+05</td>\n",
       "      <td>2.812500</td>\n",
       "      <td>1.178148e+05</td>\n",
       "      <td>6.030175e+04</td>\n",
       "      <td>5.746525e+04</td>\n",
       "      <td>19.000000</td>\n",
       "      <td>107.040000</td>\n",
       "      <td>6.340000</td>\n",
       "      <td>6.542225e+04</td>\n",
       "      <td>2.985000</td>\n",
       "    </tr>\n",
       "    <tr>\n",
       "      <th>max</th>\n",
       "      <td>527.00000</td>\n",
       "      <td>18374.000000</td>\n",
       "      <td>2.297375e+06</td>\n",
       "      <td>1.172995e+06</td>\n",
       "      <td>1.124167e+06</td>\n",
       "      <td>213.000000</td>\n",
       "      <td>139.380000</td>\n",
       "      <td>12.430000</td>\n",
       "      <td>1.044035e+06</td>\n",
       "      <td>100.000000</td>\n",
       "      <td>3.653616e+06</td>\n",
       "      <td>1.905921e+06</td>\n",
       "      <td>1.746900e+06</td>\n",
       "      <td>795.000000</td>\n",
       "      <td>297.810000</td>\n",
       "      <td>10.060000</td>\n",
       "      <td>2.075867e+06</td>\n",
       "      <td>19.780000</td>\n",
       "    </tr>\n",
       "  </tbody>\n",
       "</table>\n",
       "</div>"
      ],
      "text/plain": [
       "       Unnamed: 0  AREA (sq.km)  ALL SEXES (RURAL)  MALE (RURAL)  \\\n",
       "count   528.00000    528.000000       5.280000e+02  5.280000e+02   \n",
       "mean    263.50000   1492.005871       2.462780e+05  1.252757e+05   \n",
       "std     152.56474   2039.453778       2.711898e+05  1.375630e+05   \n",
       "min       0.00000      0.000000       0.000000e+00  0.000000e+00   \n",
       "25%     131.75000    425.000000       5.093450e+04  2.712725e+04   \n",
       "50%     263.50000    882.000000       1.652410e+05  8.413450e+04   \n",
       "75%     395.25000   1734.250000       3.129112e+05  1.605022e+05   \n",
       "max     527.00000  18374.000000       2.297375e+06  1.172995e+06   \n",
       "\n",
       "       FEMALE (RURAL)  TRANSGENDER (RURAL)  SEX RATIO (RURAL)  \\\n",
       "count    5.280000e+02           528.000000         528.000000   \n",
       "mean     1.209841e+05            18.174242          98.982614   \n",
       "std      1.337169e+05            25.522248          26.812660   \n",
       "min      0.000000e+00             0.000000           0.000000   \n",
       "25%      2.397900e+04             1.000000         101.105000   \n",
       "50%      8.204400e+04            10.000000         105.285000   \n",
       "75%      1.522190e+05            25.000000         108.347500   \n",
       "max      1.124167e+06           213.000000         139.380000   \n",
       "\n",
       "       AVG HOUSEHOLD SIZE (RURAL)  POPULATION 1998 (RURAL)  \\\n",
       "count                  528.000000             5.280000e+02   \n",
       "mean                     6.277064             1.674280e+05   \n",
       "std                      2.074947             1.783890e+05   \n",
       "min                      0.000000             0.000000e+00   \n",
       "25%                      5.700000             3.527350e+04   \n",
       "50%                      6.310000             1.172065e+05   \n",
       "75%                      7.200000             2.130542e+05   \n",
       "max                     12.430000             1.044035e+06   \n",
       "\n",
       "       ANNUAL GROWTH RATE (RURAL)  ALL SEXES (URBAN)  MALE (URBAN)  \\\n",
       "count                  528.000000       5.280000e+02  5.280000e+02   \n",
       "mean                     3.124792       1.408635e+05  7.284339e+04   \n",
       "std                      9.577872       3.512463e+05  1.823492e+05   \n",
       "min                      0.000000       0.000000e+00  0.000000e+00   \n",
       "25%                      1.440000       0.000000e+00  0.000000e+00   \n",
       "50%                      2.030000       4.325450e+04  2.198000e+04   \n",
       "75%                      2.812500       1.178148e+05  6.030175e+04   \n",
       "max                    100.000000       3.653616e+06  1.905921e+06   \n",
       "\n",
       "       FEMALE (URBAN)  TRANSGENDER (URBAN)  SEX RATIO (URBAN)  \\\n",
       "count    5.280000e+02           528.000000         528.000000   \n",
       "mean     6.799787e+04            22.276515          75.411269   \n",
       "std      1.688725e+05            66.068127          49.687341   \n",
       "min      0.000000e+00             0.000000           0.000000   \n",
       "25%      0.000000e+00             0.000000           0.000000   \n",
       "50%      2.099900e+04             3.000000         103.195000   \n",
       "75%      5.746525e+04            19.000000         107.040000   \n",
       "max      1.746900e+06           795.000000         297.810000   \n",
       "\n",
       "       AVG HOUSEHOLD SIZE (URBAN)  POPULATION 1998 (URBAN)  \\\n",
       "count                  528.000000             5.280000e+02   \n",
       "mean                     4.406402             8.014457e+04   \n",
       "std                      2.948336             2.023120e+05   \n",
       "min                      0.000000             0.000000e+00   \n",
       "25%                      0.000000             0.000000e+00   \n",
       "50%                      5.755000             2.129800e+04   \n",
       "75%                      6.340000             6.542225e+04   \n",
       "max                     10.060000             2.075867e+06   \n",
       "\n",
       "       ANNUAL GROWTH RATE (URBAN)  \n",
       "count                  528.000000  \n",
       "mean                     1.920814  \n",
       "std                      2.098908  \n",
       "min                      0.000000  \n",
       "25%                      0.000000  \n",
       "50%                      1.855000  \n",
       "75%                      2.985000  \n",
       "max                     19.780000  "
      ]
     },
     "execution_count": 8,
     "metadata": {},
     "output_type": "execute_result"
    }
   ],
   "source": [
    "# Summary statistics\n",
    "df.describe()"
   ]
  },
  {
   "cell_type": "code",
   "execution_count": 9,
   "metadata": {},
   "outputs": [
    {
     "data": {
      "text/plain": [
       "Unnamed: 0                    0\n",
       "PROVINCE                      0\n",
       "DIVISION                      0\n",
       "DISTRICT                      0\n",
       "SUB DIVISION                  0\n",
       "AREA (sq.km)                  0\n",
       "ALL SEXES (RURAL)             0\n",
       "MALE (RURAL)                  0\n",
       "FEMALE (RURAL)                0\n",
       "TRANSGENDER (RURAL)           0\n",
       "SEX RATIO (RURAL)             0\n",
       "AVG HOUSEHOLD SIZE (RURAL)    0\n",
       "POPULATION 1998 (RURAL)       0\n",
       "ANNUAL GROWTH RATE (RURAL)    0\n",
       "ALL SEXES (URBAN)             0\n",
       "MALE (URBAN)                  0\n",
       "FEMALE (URBAN)                0\n",
       "TRANSGENDER (URBAN)           0\n",
       "SEX RATIO (URBAN)             0\n",
       "AVG HOUSEHOLD SIZE (URBAN)    0\n",
       "POPULATION 1998 (URBAN)       0\n",
       "ANNUAL GROWTH RATE (URBAN)    0\n",
       "dtype: int64"
      ]
     },
     "execution_count": 9,
     "metadata": {},
     "output_type": "execute_result"
    }
   ],
   "source": [
    "# how many are the null values\n",
    "df.isnull().sum() "
   ]
  },
  {
   "cell_type": "code",
   "execution_count": 10,
   "metadata": {},
   "outputs": [
    {
     "data": {
      "image/png": "[encoded data removed]",
      "text/plain": [
       "<Figure size 640x480 with 1 Axes>"
      ]
     },
     "metadata": {},
     "output_type": "display_data"
    }
   ],
   "source": [
    "# box plot\n",
    "sns.boxplot(df, x=\"AREA (sq.km)\")\n",
    "plt.show()\n"
   ]
  },
  {
   "cell_type": "code",
   "execution_count": 11,
   "metadata": {},
   "outputs": [
    {
     "data": {
      "image/png": "[encoded data removed]",
      "text/plain": [
       "<Figure size 640x480 with 1 Axes>"
      ]
     },
     "metadata": {},
     "output_type": "display_data"
    }
   ],
   "source": [
    "# hist plot\n",
    "sns.histplot(data=df, x=\"AREA (sq.km)\")\n",
    "plt.show()\n"
   ]
  },
  {
   "cell_type": "code",
   "execution_count": 12,
   "metadata": {},
   "outputs": [
    {
     "data": {
      "text/html": [
       "<div>\n",
       "<style scoped>\n",
       "    .dataframe tbody tr th:only-of-type {\n",
       "        vertical-align: middle;\n",
       "    }\n",
       "\n",
       "    .dataframe tbody tr th {\n",
       "        vertical-align: top;\n",
       "    }\n",
       "\n",
       "    .dataframe thead th {\n",
       "        text-align: right;\n",
       "    }\n",
       "</style>\n",
       "<table border=\"1\" class=\"dataframe\">\n",
       "  <thead>\n",
       "    <tr style=\"text-align: right;\">\n",
       "      <th></th>\n",
       "      <th>count</th>\n",
       "      <th>mean</th>\n",
       "      <th>std</th>\n",
       "      <th>min</th>\n",
       "      <th>25%</th>\n",
       "      <th>50%</th>\n",
       "      <th>75%</th>\n",
       "      <th>max</th>\n",
       "    </tr>\n",
       "  </thead>\n",
       "  <tbody>\n",
       "    <tr>\n",
       "      <th>Unnamed: 0</th>\n",
       "      <td>528.0</td>\n",
       "      <td>263.500000</td>\n",
       "      <td>152.564740</td>\n",
       "      <td>0.0</td>\n",
       "      <td>131.750</td>\n",
       "      <td>263.500</td>\n",
       "      <td>395.2500</td>\n",
       "      <td>527.00</td>\n",
       "    </tr>\n",
       "    <tr>\n",
       "      <th>AREA (sq.km)</th>\n",
       "      <td>528.0</td>\n",
       "      <td>1492.005871</td>\n",
       "      <td>2039.453778</td>\n",
       "      <td>0.0</td>\n",
       "      <td>425.000</td>\n",
       "      <td>882.000</td>\n",
       "      <td>1734.2500</td>\n",
       "      <td>18374.00</td>\n",
       "    </tr>\n",
       "    <tr>\n",
       "      <th>ALL SEXES (RURAL)</th>\n",
       "      <td>528.0</td>\n",
       "      <td>246278.011364</td>\n",
       "      <td>271189.816559</td>\n",
       "      <td>0.0</td>\n",
       "      <td>50934.500</td>\n",
       "      <td>165241.000</td>\n",
       "      <td>312911.2500</td>\n",
       "      <td>2297375.00</td>\n",
       "    </tr>\n",
       "    <tr>\n",
       "      <th>MALE (RURAL)</th>\n",
       "      <td>528.0</td>\n",
       "      <td>125275.687500</td>\n",
       "      <td>137563.021458</td>\n",
       "      <td>0.0</td>\n",
       "      <td>27127.250</td>\n",
       "      <td>84134.500</td>\n",
       "      <td>160502.2500</td>\n",
       "      <td>1172995.00</td>\n",
       "    </tr>\n",
       "    <tr>\n",
       "      <th>FEMALE (RURAL)</th>\n",
       "      <td>528.0</td>\n",
       "      <td>120984.149621</td>\n",
       "      <td>133716.898296</td>\n",
       "      <td>0.0</td>\n",
       "      <td>23979.000</td>\n",
       "      <td>82044.000</td>\n",
       "      <td>152219.0000</td>\n",
       "      <td>1124167.00</td>\n",
       "    </tr>\n",
       "    <tr>\n",
       "      <th>TRANSGENDER (RURAL)</th>\n",
       "      <td>528.0</td>\n",
       "      <td>18.174242</td>\n",
       "      <td>25.522248</td>\n",
       "      <td>0.0</td>\n",
       "      <td>1.000</td>\n",
       "      <td>10.000</td>\n",
       "      <td>25.0000</td>\n",
       "      <td>213.00</td>\n",
       "    </tr>\n",
       "    <tr>\n",
       "      <th>SEX RATIO (RURAL)</th>\n",
       "      <td>528.0</td>\n",
       "      <td>98.982614</td>\n",
       "      <td>26.812660</td>\n",
       "      <td>0.0</td>\n",
       "      <td>101.105</td>\n",
       "      <td>105.285</td>\n",
       "      <td>108.3475</td>\n",
       "      <td>139.38</td>\n",
       "    </tr>\n",
       "    <tr>\n",
       "      <th>AVG HOUSEHOLD SIZE (RURAL)</th>\n",
       "      <td>528.0</td>\n",
       "      <td>6.277064</td>\n",
       "      <td>2.074947</td>\n",
       "      <td>0.0</td>\n",
       "      <td>5.700</td>\n",
       "      <td>6.310</td>\n",
       "      <td>7.2000</td>\n",
       "      <td>12.43</td>\n",
       "    </tr>\n",
       "    <tr>\n",
       "      <th>POPULATION 1998 (RURAL)</th>\n",
       "      <td>528.0</td>\n",
       "      <td>167427.994318</td>\n",
       "      <td>178388.976993</td>\n",
       "      <td>0.0</td>\n",
       "      <td>35273.500</td>\n",
       "      <td>117206.500</td>\n",
       "      <td>213054.2500</td>\n",
       "      <td>1044035.00</td>\n",
       "    </tr>\n",
       "    <tr>\n",
       "      <th>ANNUAL GROWTH RATE (RURAL)</th>\n",
       "      <td>528.0</td>\n",
       "      <td>3.124792</td>\n",
       "      <td>9.577872</td>\n",
       "      <td>0.0</td>\n",
       "      <td>1.440</td>\n",
       "      <td>2.030</td>\n",
       "      <td>2.8125</td>\n",
       "      <td>100.00</td>\n",
       "    </tr>\n",
       "    <tr>\n",
       "      <th>ALL SEXES (URBAN)</th>\n",
       "      <td>528.0</td>\n",
       "      <td>140863.528409</td>\n",
       "      <td>351246.279136</td>\n",
       "      <td>0.0</td>\n",
       "      <td>0.000</td>\n",
       "      <td>43254.500</td>\n",
       "      <td>117814.7500</td>\n",
       "      <td>3653616.00</td>\n",
       "    </tr>\n",
       "    <tr>\n",
       "      <th>MALE (URBAN)</th>\n",
       "      <td>528.0</td>\n",
       "      <td>72843.386364</td>\n",
       "      <td>182349.241379</td>\n",
       "      <td>0.0</td>\n",
       "      <td>0.000</td>\n",
       "      <td>21980.000</td>\n",
       "      <td>60301.7500</td>\n",
       "      <td>1905921.00</td>\n",
       "    </tr>\n",
       "    <tr>\n",
       "      <th>FEMALE (URBAN)</th>\n",
       "      <td>528.0</td>\n",
       "      <td>67997.865530</td>\n",
       "      <td>168872.528212</td>\n",
       "      <td>0.0</td>\n",
       "      <td>0.000</td>\n",
       "      <td>20999.000</td>\n",
       "      <td>57465.2500</td>\n",
       "      <td>1746900.00</td>\n",
       "    </tr>\n",
       "    <tr>\n",
       "      <th>TRANSGENDER (URBAN)</th>\n",
       "      <td>528.0</td>\n",
       "      <td>22.276515</td>\n",
       "      <td>66.068127</td>\n",
       "      <td>0.0</td>\n",
       "      <td>0.000</td>\n",
       "      <td>3.000</td>\n",
       "      <td>19.0000</td>\n",
       "      <td>795.00</td>\n",
       "    </tr>\n",
       "    <tr>\n",
       "      <th>SEX RATIO (URBAN)</th>\n",
       "      <td>528.0</td>\n",
       "      <td>75.411269</td>\n",
       "      <td>49.687341</td>\n",
       "      <td>0.0</td>\n",
       "      <td>0.000</td>\n",
       "      <td>103.195</td>\n",
       "      <td>107.0400</td>\n",
       "      <td>297.81</td>\n",
       "    </tr>\n",
       "    <tr>\n",
       "      <th>AVG HOUSEHOLD SIZE (URBAN)</th>\n",
       "      <td>528.0</td>\n",
       "      <td>4.406402</td>\n",
       "      <td>2.948336</td>\n",
       "      <td>0.0</td>\n",
       "      <td>0.000</td>\n",
       "      <td>5.755</td>\n",
       "      <td>6.3400</td>\n",
       "      <td>10.06</td>\n",
       "    </tr>\n",
       "    <tr>\n",
       "      <th>POPULATION 1998 (URBAN)</th>\n",
       "      <td>528.0</td>\n",
       "      <td>80144.566288</td>\n",
       "      <td>202312.019227</td>\n",
       "      <td>0.0</td>\n",
       "      <td>0.000</td>\n",
       "      <td>21298.000</td>\n",
       "      <td>65422.2500</td>\n",
       "      <td>2075867.00</td>\n",
       "    </tr>\n",
       "    <tr>\n",
       "      <th>ANNUAL GROWTH RATE (URBAN)</th>\n",
       "      <td>528.0</td>\n",
       "      <td>1.920814</td>\n",
       "      <td>2.098908</td>\n",
       "      <td>0.0</td>\n",
       "      <td>0.000</td>\n",
       "      <td>1.855</td>\n",
       "      <td>2.9850</td>\n",
       "      <td>19.78</td>\n",
       "    </tr>\n",
       "  </tbody>\n",
       "</table>\n",
       "</div>"
      ],
      "text/plain": [
       "                            count           mean            std  min  \\\n",
       "Unnamed: 0                  528.0     263.500000     152.564740  0.0   \n",
       "AREA (sq.km)                528.0    1492.005871    2039.453778  0.0   \n",
       "ALL SEXES (RURAL)           528.0  246278.011364  271189.816559  0.0   \n",
       "MALE (RURAL)                528.0  125275.687500  137563.021458  0.0   \n",
       "FEMALE (RURAL)              528.0  120984.149621  133716.898296  0.0   \n",
       "TRANSGENDER (RURAL)         528.0      18.174242      25.522248  0.0   \n",
       "SEX RATIO (RURAL)           528.0      98.982614      26.812660  0.0   \n",
       "AVG HOUSEHOLD SIZE (RURAL)  528.0       6.277064       2.074947  0.0   \n",
       "POPULATION 1998 (RURAL)     528.0  167427.994318  178388.976993  0.0   \n",
       "ANNUAL GROWTH RATE (RURAL)  528.0       3.124792       9.577872  0.0   \n",
       "ALL SEXES (URBAN)           528.0  140863.528409  351246.279136  0.0   \n",
       "MALE (URBAN)                528.0   72843.386364  182349.241379  0.0   \n",
       "FEMALE (URBAN)              528.0   67997.865530  168872.528212  0.0   \n",
       "TRANSGENDER (URBAN)         528.0      22.276515      66.068127  0.0   \n",
       "SEX RATIO (URBAN)           528.0      75.411269      49.687341  0.0   \n",
       "AVG HOUSEHOLD SIZE (URBAN)  528.0       4.406402       2.948336  0.0   \n",
       "POPULATION 1998 (URBAN)     528.0   80144.566288  202312.019227  0.0   \n",
       "ANNUAL GROWTH RATE (URBAN)  528.0       1.920814       2.098908  0.0   \n",
       "\n",
       "                                  25%         50%          75%         max  \n",
       "Unnamed: 0                    131.750     263.500     395.2500      527.00  \n",
       "AREA (sq.km)                  425.000     882.000    1734.2500    18374.00  \n",
       "ALL SEXES (RURAL)           50934.500  165241.000  312911.2500  2297375.00  \n",
       "MALE (RURAL)                27127.250   84134.500  160502.2500  1172995.00  \n",
       "FEMALE (RURAL)              23979.000   82044.000  152219.0000  1124167.00  \n",
       "TRANSGENDER (RURAL)             1.000      10.000      25.0000      213.00  \n",
       "SEX RATIO (RURAL)             101.105     105.285     108.3475      139.38  \n",
       "AVG HOUSEHOLD SIZE (RURAL)      5.700       6.310       7.2000       12.43  \n",
       "POPULATION 1998 (RURAL)     35273.500  117206.500  213054.2500  1044035.00  \n",
       "ANNUAL GROWTH RATE (RURAL)      1.440       2.030       2.8125      100.00  \n",
       "ALL SEXES (URBAN)               0.000   43254.500  117814.7500  3653616.00  \n",
       "MALE (URBAN)                    0.000   21980.000   60301.7500  1905921.00  \n",
       "FEMALE (URBAN)                  0.000   20999.000   57465.2500  1746900.00  \n",
       "TRANSGENDER (URBAN)             0.000       3.000      19.0000      795.00  \n",
       "SEX RATIO (URBAN)               0.000     103.195     107.0400      297.81  \n",
       "AVG HOUSEHOLD SIZE (URBAN)      0.000       5.755       6.3400       10.06  \n",
       "POPULATION 1998 (URBAN)         0.000   21298.000   65422.2500  2075867.00  \n",
       "ANNUAL GROWTH RATE (URBAN)      0.000       1.855       2.9850       19.78  "
      ]
     },
     "execution_count": 12,
     "metadata": {},
     "output_type": "execute_result"
    }
   ],
   "source": [
    "# Transpose the Data\n",
    "df.describe().T"
   ]
  },
  {
   "cell_type": "code",
   "execution_count": 13,
   "metadata": {},
   "outputs": [
    {
     "data": {
      "text/plain": [
       "Index(['Unnamed: 0', 'PROVINCE', 'DIVISION', 'DISTRICT', 'SUB DIVISION',\n",
       "       'AREA (sq.km)', 'ALL SEXES (RURAL)', 'MALE (RURAL)', 'FEMALE (RURAL)',\n",
       "       'TRANSGENDER (RURAL)', 'SEX RATIO (RURAL)',\n",
       "       'AVG HOUSEHOLD SIZE (RURAL)', 'POPULATION 1998 (RURAL)',\n",
       "       'ANNUAL GROWTH RATE (RURAL)', 'ALL SEXES (URBAN)', 'MALE (URBAN)',\n",
       "       'FEMALE (URBAN)', 'TRANSGENDER (URBAN)', 'SEX RATIO (URBAN)',\n",
       "       'AVG HOUSEHOLD SIZE (URBAN)', 'POPULATION 1998 (URBAN)',\n",
       "       'ANNUAL GROWTH RATE (URBAN)'],\n",
       "      dtype='object')"
      ]
     },
     "execution_count": 13,
     "metadata": {},
     "output_type": "execute_result"
    }
   ],
   "source": [
    "df.columns"
   ]
  },
  {
   "cell_type": "code",
   "execution_count": 14,
   "metadata": {},
   "outputs": [
    {
     "data": {
      "image/png": "[encoded data removed]",
      "text/plain": [
       "<Figure size 640x480 with 1 Axes>"
      ]
     },
     "metadata": {},
     "output_type": "display_data"
    }
   ],
   "source": [
    "sns.boxplot(df, x='PROVINCE', y='ALL SEXES (RURAL)')\n",
    "plt.show()"
   ]
  },
  {
   "cell_type": "code",
   "execution_count": 15,
   "metadata": {},
   "outputs": [
    {
     "data": {
      "text/plain": [
       "495"
      ]
     },
     "execution_count": 15,
     "metadata": {},
     "output_type": "execute_result"
    }
   ],
   "source": [
    "# it is very hard to plot, therefore, we will use group by function to make tabulated data output\n",
    "df['ALL SEXES (RURAL)'].nunique()"
   ]
  },
  {
   "cell_type": "code",
   "execution_count": 16,
   "metadata": {},
   "outputs": [
    {
     "data": {
      "text/plain": [
       "ALL SEXES (RURAL)\n",
       "0          34\n",
       "2665        1\n",
       "2868        1\n",
       "5184        1\n",
       "5721        1\n",
       "7583        1\n",
       "7881        1\n",
       "8423        1\n",
       "8584        1\n",
       "9441        1\n",
       "9458        1\n",
       "10217       1\n",
       "10708       1\n",
       "10886       1\n",
       "11730       1\n",
       "11811       1\n",
       "12279       1\n",
       "12952       1\n",
       "13831       1\n",
       "14213       1\n",
       "15345       1\n",
       "15681       1\n",
       "16329       1\n",
       "16646       1\n",
       "16914       1\n",
       "17027       1\n",
       "17465       1\n",
       "18058       1\n",
       "18390       1\n",
       "18452       1\n",
       "18510       1\n",
       "19011       1\n",
       "19497       1\n",
       "20489       1\n",
       "20600       1\n",
       "20768       1\n",
       "20790       1\n",
       "22283       1\n",
       "23215       1\n",
       "23386       1\n",
       "23963       1\n",
       "26155       1\n",
       "26394       1\n",
       "26790       1\n",
       "27015       1\n",
       "27149       1\n",
       "27265       1\n",
       "27548       1\n",
       "27664       1\n",
       "27709       1\n",
       "27962       1\n",
       "28054       1\n",
       "28624       1\n",
       "29315       1\n",
       "29846       1\n",
       "31016       1\n",
       "31339       1\n",
       "32125       1\n",
       "32670       1\n",
       "32686       1\n",
       "33242       1\n",
       "34101       1\n",
       "34191       1\n",
       "34477       1\n",
       "34504       1\n",
       "35495       1\n",
       "36569       1\n",
       "37302       1\n",
       "37588       1\n",
       "37599       1\n",
       "38634       1\n",
       "38860       1\n",
       "39290       1\n",
       "39945       1\n",
       "40010       1\n",
       "40188       1\n",
       "40266       1\n",
       "40567       1\n",
       "40629       1\n",
       "40867       1\n",
       "41516       1\n",
       "42318       1\n",
       "42411       1\n",
       "42867       1\n",
       "43112       1\n",
       "43341       1\n",
       "43365       1\n",
       "43652       1\n",
       "44490       1\n",
       "44595       1\n",
       "45156       1\n",
       "46171       1\n",
       "47494       1\n",
       "48235       1\n",
       "49393       1\n",
       "49480       1\n",
       "50283       1\n",
       "50413       1\n",
       "50753       1\n",
       "50995       1\n",
       "51154       1\n",
       "52947       1\n",
       "54540       1\n",
       "55326       1\n",
       "55429       1\n",
       "56859       1\n",
       "57754       1\n",
       "58144       1\n",
       "58204       1\n",
       "58256       1\n",
       "58646       1\n",
       "59132       1\n",
       "60339       1\n",
       "61741       1\n",
       "61951       1\n",
       "63885       1\n",
       "64153       1\n",
       "64199       1\n",
       "64206       1\n",
       "64761       1\n",
       "64765       1\n",
       "65678       1\n",
       "68506       1\n",
       "73833       1\n",
       "73890       1\n",
       "74461       1\n",
       "74881       1\n",
       "75003       1\n",
       "75974       1\n",
       "76470       1\n",
       "76493       1\n",
       "76536       1\n",
       "77101       1\n",
       "77139       1\n",
       "77906       1\n",
       "78494       1\n",
       "78705       1\n",
       "80124       1\n",
       "83629       1\n",
       "84170       1\n",
       "88279       1\n",
       "88788       1\n",
       "89711       1\n",
       "89758       1\n",
       "92298       1\n",
       "92497       1\n",
       "96280       1\n",
       "96888       1\n",
       "96894       1\n",
       "96901       1\n",
       "97469       1\n",
       "97481       1\n",
       "97576       1\n",
       "97665       1\n",
       "98180       1\n",
       "98430       1\n",
       "98501       1\n",
       "101386      1\n",
       "102059      1\n",
       "102700      1\n",
       "102811      1\n",
       "103423      1\n",
       "103603      1\n",
       "104282      1\n",
       "105950      1\n",
       "107033      1\n",
       "107248      1\n",
       "107323      1\n",
       "109231      1\n",
       "110175      1\n",
       "110842      1\n",
       "111203      1\n",
       "113591      1\n",
       "114984      1\n",
       "115622      1\n",
       "117020      1\n",
       "117467      1\n",
       "117609      1\n",
       "118072      1\n",
       "118839      1\n",
       "119244      1\n",
       "119368      1\n",
       "119570      1\n",
       "120944      1\n",
       "121954      1\n",
       "122023      1\n",
       "123329      1\n",
       "124318      1\n",
       "125985      1\n",
       "126001      1\n",
       "126096      1\n",
       "129761      1\n",
       "130318      1\n",
       "131056      1\n",
       "132551      1\n",
       "134064      1\n",
       "134459      1\n",
       "135729      1\n",
       "140304      1\n",
       "142021      1\n",
       "142462      1\n",
       "142935      1\n",
       "144167      1\n",
       "144917      1\n",
       "145254      1\n",
       "145298      1\n",
       "145932      1\n",
       "146400      1\n",
       "147733      1\n",
       "148730      1\n",
       "150226      1\n",
       "150844      1\n",
       "150895      1\n",
       "152608      1\n",
       "152952      1\n",
       "153156      1\n",
       "153536      1\n",
       "153891      1\n",
       "155482      1\n",
       "155574      1\n",
       "158824      1\n",
       "160136      1\n",
       "160375      1\n",
       "160904      1\n",
       "160967      1\n",
       "161083      1\n",
       "161621      1\n",
       "162757      1\n",
       "162822      1\n",
       "163829      1\n",
       "165222      1\n",
       "165260      1\n",
       "165467      1\n",
       "166106      1\n",
       "169297      1\n",
       "169334      1\n",
       "169661      1\n",
       "169885      1\n",
       "172149      1\n",
       "173240      1\n",
       "174017      1\n",
       "175680      1\n",
       "176011      1\n",
       "178752      1\n",
       "179266      1\n",
       "180502      1\n",
       "180580      1\n",
       "180739      1\n",
       "184986      1\n",
       "185121      1\n",
       "186533      1\n",
       "189707      1\n",
       "190520      1\n",
       "191480      1\n",
       "192457      1\n",
       "194711      1\n",
       "196133      1\n",
       "196995      1\n",
       "201329      1\n",
       "202777      1\n",
       "202935      1\n",
       "204169      1\n",
       "204998      1\n",
       "206942      1\n",
       "208567      1\n",
       "208615      1\n",
       "208968      1\n",
       "212652      1\n",
       "215932      1\n",
       "217484      1\n",
       "218751      1\n",
       "219389      1\n",
       "219567      1\n",
       "221431      1\n",
       "221598      1\n",
       "222710      1\n",
       "223051      1\n",
       "223171      1\n",
       "224423      1\n",
       "225927      1\n",
       "226736      1\n",
       "228350      1\n",
       "228548      1\n",
       "229942      1\n",
       "230630      1\n",
       "234249      1\n",
       "236336      1\n",
       "239323      1\n",
       "239455      1\n",
       "241743      1\n",
       "242750      1\n",
       "244090      1\n",
       "245116      1\n",
       "246875      1\n",
       "246934      1\n",
       "247204      1\n",
       "247319      1\n",
       "248079      1\n",
       "248098      1\n",
       "250916      1\n",
       "251221      1\n",
       "252462      1\n",
       "252551      1\n",
       "254416      1\n",
       "254761      1\n",
       "257051      1\n",
       "258899      1\n",
       "259933      1\n",
       "260082      1\n",
       "262064      1\n",
       "262749      1\n",
       "262926      1\n",
       "264463      1\n",
       "264964      1\n",
       "265358      1\n",
       "265945      1\n",
       "266891      1\n",
       "267060      1\n",
       "267636      1\n",
       "267642      1\n",
       "267947      1\n",
       "268160      1\n",
       "269971      1\n",
       "272063      1\n",
       "272443      1\n",
       "272882      1\n",
       "273131      1\n",
       "273257      1\n",
       "275472      1\n",
       "276325      1\n",
       "277268      1\n",
       "279085      1\n",
       "280006      1\n",
       "280636      1\n",
       "281087      1\n",
       "281837      1\n",
       "283507      1\n",
       "284170      1\n",
       "284663      1\n",
       "284840      1\n",
       "284881      1\n",
       "288462      1\n",
       "289633      1\n",
       "292404      1\n",
       "294310      1\n",
       "294561      1\n",
       "296247      1\n",
       "297638      1\n",
       "297950      1\n",
       "298045      1\n",
       "299779      1\n",
       "301629      1\n",
       "301937      1\n",
       "302028      1\n",
       "303520      1\n",
       "303644      1\n",
       "304828      1\n",
       "306210      1\n",
       "306768      1\n",
       "307342      1\n",
       "308928      1\n",
       "311355      1\n",
       "311373      1\n",
       "317526      1\n",
       "322755      1\n",
       "322957      1\n",
       "327492      1\n",
       "328748      1\n",
       "329407      1\n",
       "330876      1\n",
       "336263      1\n",
       "337903      1\n",
       "339307      1\n",
       "339754      1\n",
       "340747      1\n",
       "340828      1\n",
       "343225      1\n",
       "343562      1\n",
       "343986      1\n",
       "346413      1\n",
       "346476      1\n",
       "354176      1\n",
       "354809      1\n",
       "360477      1\n",
       "361240      1\n",
       "365900      1\n",
       "371911      1\n",
       "373410      1\n",
       "378004      1\n",
       "378026      1\n",
       "382115      1\n",
       "382666      1\n",
       "382741      1\n",
       "383046      1\n",
       "384652      1\n",
       "385776      1\n",
       "386479      1\n",
       "391144      1\n",
       "392143      1\n",
       "393252      1\n",
       "394678      1\n",
       "395425      1\n",
       "399687      1\n",
       "400049      1\n",
       "404562      1\n",
       "423052      1\n",
       "426737      1\n",
       "432114      1\n",
       "443449      1\n",
       "451306      1\n",
       "452723      1\n",
       "453663      1\n",
       "460844      1\n",
       "467938      1\n",
       "474764      1\n",
       "480671      1\n",
       "482391      1\n",
       "485434      1\n",
       "486176      1\n",
       "487518      1\n",
       "487627      1\n",
       "494109      1\n",
       "507431      1\n",
       "508361      1\n",
       "510209      1\n",
       "518313      1\n",
       "519601      1\n",
       "527716      1\n",
       "528906      1\n",
       "530559      1\n",
       "540342      1\n",
       "545974      1\n",
       "555795      1\n",
       "558662      1\n",
       "564422      1\n",
       "566018      1\n",
       "571132      1\n",
       "580592      1\n",
       "585160      1\n",
       "585751      1\n",
       "590387      1\n",
       "595880      1\n",
       "618660      1\n",
       "618946      1\n",
       "619550      1\n",
       "620442      1\n",
       "639860      1\n",
       "641189      1\n",
       "643101      1\n",
       "650120      1\n",
       "652771      1\n",
       "659042      1\n",
       "663615      1\n",
       "705564      1\n",
       "719133      1\n",
       "723361      1\n",
       "723498      1\n",
       "737167      1\n",
       "739299      1\n",
       "742723      1\n",
       "749218      1\n",
       "753853      1\n",
       "760440      1\n",
       "773871      1\n",
       "781334      1\n",
       "783165      1\n",
       "783612      1\n",
       "787629      1\n",
       "792513      1\n",
       "809002      1\n",
       "825158      1\n",
       "827602      1\n",
       "845004      1\n",
       "872623      1\n",
       "876944      1\n",
       "902476      1\n",
       "908155      1\n",
       "929447      1\n",
       "947220      1\n",
       "954998      1\n",
       "982018      1\n",
       "999966      1\n",
       "1033260     1\n",
       "1035377     1\n",
       "1043978     1\n",
       "1045577     1\n",
       "1067880     1\n",
       "1093354     1\n",
       "1115287     1\n",
       "1158817     1\n",
       "1238708     1\n",
       "1267317     1\n",
       "1385109     1\n",
       "1425154     1\n",
       "2297375     1\n",
       "dtype: int64"
      ]
     },
     "execution_count": 16,
     "metadata": {},
     "output_type": "execute_result"
    }
   ],
   "source": [
    "df.groupby(['ALL SEXES (RURAL)']).size()"
   ]
  },
  {
   "cell_type": "code",
   "execution_count": 17,
   "metadata": {},
   "outputs": [
    {
     "data": {
      "text/plain": [
       "PROVINCE\n",
       "PUNJAB         480160.293706\n",
       "KPK            350603.380282\n",
       "SINDH          167968.182482\n",
       "KPK/FATA        99733.760870\n",
       "BALOCHISTAN     67783.465649\n",
       "Name: ALL SEXES (RURAL), dtype: float64"
      ]
     },
     "execution_count": 17,
     "metadata": {},
     "output_type": "execute_result"
    }
   ],
   "source": [
    "df.groupby('PROVINCE')['ALL SEXES (RURAL)'].mean().sort_values(ascending=False)"
   ]
  },
  {
   "cell_type": "code",
   "execution_count": 18,
   "metadata": {},
   "outputs": [
    {
     "data": {
      "text/plain": [
       "PROVINCE\n",
       "KPK            74461\n",
       "KPK/FATA        2868\n",
       "BALOCHISTAN     2665\n",
       "PUNJAB             0\n",
       "SINDH              0\n",
       "Name: ALL SEXES (RURAL), dtype: int64"
      ]
     },
     "execution_count": 18,
     "metadata": {},
     "output_type": "execute_result"
    }
   ],
   "source": [
    "df.groupby('PROVINCE')['ALL SEXES (RURAL)'].min().sort_values(ascending=False)"
   ]
  },
  {
   "cell_type": "code",
   "execution_count": 19,
   "metadata": {},
   "outputs": [
    {
     "data": {
      "text/plain": [
       "DIVISION\n",
       "PESHAWAR DIVISION               2297375\n",
       "FAISALABAD DIVISION             1425154\n",
       "D.G.KHAN DIVISION               1385109\n",
       "MULTAN DIVISION                 1238708\n",
       "RAWALPINDI DIVISION             1158817\n",
       "GUJRANWALA DIVISION             1115287\n",
       "SAHIWAL DIVISION                1067880\n",
       "BAHAWALPUR DIVISION             1045577\n",
       "MARDAN DIVISION                 1043978\n",
       "LAHORE DIVISION                  947220\n",
       "BANNU DIVISION                   908155\n",
       "SARGODHA DIVISION                876944\n",
       "HAZARA DIVISION                  872623\n",
       "Quetta Division                  723361\n",
       "MALAKAND DIVISION                650120\n",
       "KOHAT DIVISION                   620442\n",
       "DERA ISMAIL KHAN DIVISION        507431\n",
       "Karachi Division                 385776\n",
       "Shaheed Benazirabad Division     384652\n",
       "Sukkur Division                  382741\n",
       "Mirpurkhas Division              382666\n",
       "Hyderabad Division               373410\n",
       "Larkana Division                 371911\n",
       "Badin Division                   346413\n",
       "Zhob Division                    206942\n",
       "Makran Division                  202777\n",
       "Naseerabad Division              172149\n",
       "Kalat Division                   165260\n",
       "Name: ALL SEXES (RURAL), dtype: int64"
      ]
     },
     "execution_count": 19,
     "metadata": {},
     "output_type": "execute_result"
    }
   ],
   "source": [
    "df.groupby('DIVISION')['ALL SEXES (RURAL)'].max().sort_values(ascending=False)"
   ]
  },
  {
   "cell_type": "code",
   "execution_count": 20,
   "metadata": {},
   "outputs": [
    {
     "data": {
      "text/plain": [
       "130034790"
      ]
     },
     "execution_count": 20,
     "metadata": {},
     "output_type": "execute_result"
    }
   ],
   "source": [
    "df['ALL SEXES (RURAL)'].sum() # the rural population of pakistan in 2017 was "
   ]
  },
  {
   "cell_type": "code",
   "execution_count": 21,
   "metadata": {},
   "outputs": [
    {
     "name": "stdout",
     "output_type": "stream",
     "text": [
      "The Total Rural Population of Pakistan in 2017 is: 130034790\n"
     ]
    }
   ],
   "source": [
    "print('The Total Rural Population of Pakistan in 2017 is:', df['ALL SEXES (RURAL)'].sum())"
   ]
  },
  {
   "cell_type": "code",
   "execution_count": 22,
   "metadata": {},
   "outputs": [
    {
     "name": "stdout",
     "output_type": "stream",
     "text": [
      "The Total Rural Population of Pakistan in 1998 is: 42316331\n"
     ]
    }
   ],
   "source": [
    "print('The Total Rural Population of Pakistan in 1998 is:', df['POPULATION 1998 (URBAN)'].sum())"
   ]
  },
  {
   "cell_type": "code",
   "execution_count": 23,
   "metadata": {},
   "outputs": [
    {
     "name": "stdout",
     "output_type": "stream",
     "text": [
      "The Rural Population Increased from 1998 to 2017 is: 41632809\n"
     ]
    }
   ],
   "source": [
    "# How much Rural Population increased from 1998 - 2017?\n",
    "pop_rural_1998 = df['POPULATION 1998 (RURAL)'].sum()\n",
    "pop_rural_2017 = df['ALL SEXES (RURAL)'].sum()\n",
    "pop_change = pop_rural_2017 - pop_rural_1998\n",
    "\n",
    "print('The Rural Population Increased from 1998 to 2017 is:', pop_change)   "
   ]
  },
  {
   "cell_type": "code",
   "execution_count": 24,
   "metadata": {},
   "outputs": [
    {
     "name": "stdout",
     "output_type": "stream",
     "text": [
      "The Urban Population Increased from 1998 to 2017 is: 32059612\n"
     ]
    }
   ],
   "source": [
    "# How much Urban Population increased from 1998 - 2017?\n",
    "pop_urban_1998 = df['POPULATION 1998 (URBAN)'].sum()\n",
    "pop_urban_2017 = df['ALL SEXES (URBAN)'].sum()\n",
    "pop_change = pop_urban_2017 - pop_urban_1998\n",
    "\n",
    "print('The Urban Population Increased from 1998 to 2017 is:', pop_change)"
   ]
  },
  {
   "cell_type": "code",
   "execution_count": 25,
   "metadata": {},
   "outputs": [
    {
     "name": "stdout",
     "output_type": "stream",
     "text": [
      "The Rural Population Increased from 1998 to 2017 is: 147.09488240993153\n"
     ]
    }
   ],
   "source": [
    "# The Rural Population Differnce covert the data into percentage\n",
    "pop_change = pop_rural_2017/ pop_rural_1998*100\n",
    "\n",
    "print('The Rural Population Increased from 1998 to 2017 is:', pop_change)"
   ]
  },
  {
   "cell_type": "code",
   "execution_count": 26,
   "metadata": {},
   "outputs": [
    {
     "data": {
      "text/plain": [
       "Index(['Unnamed: 0', 'PROVINCE', 'DIVISION', 'DISTRICT', 'SUB DIVISION',\n",
       "       'AREA (sq.km)', 'ALL SEXES (RURAL)', 'MALE (RURAL)', 'FEMALE (RURAL)',\n",
       "       'TRANSGENDER (RURAL)', 'SEX RATIO (RURAL)',\n",
       "       'AVG HOUSEHOLD SIZE (RURAL)', 'POPULATION 1998 (RURAL)',\n",
       "       'ANNUAL GROWTH RATE (RURAL)', 'ALL SEXES (URBAN)', 'MALE (URBAN)',\n",
       "       'FEMALE (URBAN)', 'TRANSGENDER (URBAN)', 'SEX RATIO (URBAN)',\n",
       "       'AVG HOUSEHOLD SIZE (URBAN)', 'POPULATION 1998 (URBAN)',\n",
       "       'ANNUAL GROWTH RATE (URBAN)'],\n",
       "      dtype='object')"
      ]
     },
     "execution_count": 26,
     "metadata": {},
     "output_type": "execute_result"
    }
   ],
   "source": [
    "df.columns"
   ]
  },
  {
   "cell_type": "code",
   "execution_count": 27,
   "metadata": {},
   "outputs": [],
   "source": [
    "# Marge the columns\n",
    "df['SEX_RURAL'] = df['FEMALE (RURAL)'] + df['MALE (RURAL)'] + df['TRANSGENDER (RURAL)']\n",
    "\n",
    "df['SEX_URBAN'] = df['FEMALE (URBAN)'] + df['MALE (URBAN)'] + df['TRANSGENDER (URBAN)']"
   ]
  },
  {
   "cell_type": "code",
   "execution_count": 28,
   "metadata": {},
   "outputs": [
    {
     "data": {
      "text/html": [
       "<div>\n",
       "<style scoped>\n",
       "    .dataframe tbody tr th:only-of-type {\n",
       "        vertical-align: middle;\n",
       "    }\n",
       "\n",
       "    .dataframe tbody tr th {\n",
       "        vertical-align: top;\n",
       "    }\n",
       "\n",
       "    .dataframe thead th {\n",
       "        text-align: right;\n",
       "    }\n",
       "</style>\n",
       "<table border=\"1\" class=\"dataframe\">\n",
       "  <thead>\n",
       "    <tr style=\"text-align: right;\">\n",
       "      <th></th>\n",
       "      <th>Unnamed: 0</th>\n",
       "      <th>PROVINCE</th>\n",
       "      <th>DIVISION</th>\n",
       "      <th>DISTRICT</th>\n",
       "      <th>SUB DIVISION</th>\n",
       "      <th>AREA (sq.km)</th>\n",
       "      <th>ALL SEXES (RURAL)</th>\n",
       "      <th>MALE (RURAL)</th>\n",
       "      <th>FEMALE (RURAL)</th>\n",
       "      <th>TRANSGENDER (RURAL)</th>\n",
       "      <th>SEX RATIO (RURAL)</th>\n",
       "      <th>AVG HOUSEHOLD SIZE (RURAL)</th>\n",
       "      <th>POPULATION 1998 (RURAL)</th>\n",
       "      <th>ANNUAL GROWTH RATE (RURAL)</th>\n",
       "      <th>ALL SEXES (URBAN)</th>\n",
       "      <th>MALE (URBAN)</th>\n",
       "      <th>FEMALE (URBAN)</th>\n",
       "      <th>TRANSGENDER (URBAN)</th>\n",
       "      <th>SEX RATIO (URBAN)</th>\n",
       "      <th>AVG HOUSEHOLD SIZE (URBAN)</th>\n",
       "      <th>POPULATION 1998 (URBAN)</th>\n",
       "      <th>ANNUAL GROWTH RATE (URBAN)</th>\n",
       "      <th>SEX_RURAL</th>\n",
       "      <th>SEX_URBAN</th>\n",
       "    </tr>\n",
       "  </thead>\n",
       "  <tbody>\n",
       "    <tr>\n",
       "      <th>0</th>\n",
       "      <td>0</td>\n",
       "      <td>PUNJAB</td>\n",
       "      <td>BAHAWALPUR DIVISION</td>\n",
       "      <td>BAHAWALNAGAR DISTRICT</td>\n",
       "      <td>BAHAWALNAGAR TEHSIL</td>\n",
       "      <td>1729.0</td>\n",
       "      <td>619550</td>\n",
       "      <td>316864</td>\n",
       "      <td>302644</td>\n",
       "      <td>42</td>\n",
       "      <td>104.70</td>\n",
       "      <td>6.10</td>\n",
       "      <td>407768</td>\n",
       "      <td>2.22</td>\n",
       "      <td>193840</td>\n",
       "      <td>98391</td>\n",
       "      <td>95402</td>\n",
       "      <td>47</td>\n",
       "      <td>103.13</td>\n",
       "      <td>6.02</td>\n",
       "      <td>133785</td>\n",
       "      <td>1.97</td>\n",
       "      <td>619550</td>\n",
       "      <td>193840</td>\n",
       "    </tr>\n",
       "    <tr>\n",
       "      <th>1</th>\n",
       "      <td>1</td>\n",
       "      <td>PUNJAB</td>\n",
       "      <td>BAHAWALPUR DIVISION</td>\n",
       "      <td>BAHAWALNAGAR DISTRICT</td>\n",
       "      <td>CHISHTIAN TEHSIL</td>\n",
       "      <td>1500.0</td>\n",
       "      <td>540342</td>\n",
       "      <td>273788</td>\n",
       "      <td>266500</td>\n",
       "      <td>54</td>\n",
       "      <td>102.73</td>\n",
       "      <td>6.15</td>\n",
       "      <td>395983</td>\n",
       "      <td>1.65</td>\n",
       "      <td>149424</td>\n",
       "      <td>75546</td>\n",
       "      <td>73851</td>\n",
       "      <td>27</td>\n",
       "      <td>102.30</td>\n",
       "      <td>6.01</td>\n",
       "      <td>102287</td>\n",
       "      <td>2.01</td>\n",
       "      <td>540342</td>\n",
       "      <td>149424</td>\n",
       "    </tr>\n",
       "    <tr>\n",
       "      <th>2</th>\n",
       "      <td>2</td>\n",
       "      <td>PUNJAB</td>\n",
       "      <td>BAHAWALPUR DIVISION</td>\n",
       "      <td>BAHAWALNAGAR DISTRICT</td>\n",
       "      <td>FORT ABBAS TEHSIL</td>\n",
       "      <td>2536.0</td>\n",
       "      <td>361240</td>\n",
       "      <td>182655</td>\n",
       "      <td>178541</td>\n",
       "      <td>44</td>\n",
       "      <td>102.30</td>\n",
       "      <td>6.32</td>\n",
       "      <td>250959</td>\n",
       "      <td>1.93</td>\n",
       "      <td>61528</td>\n",
       "      <td>31360</td>\n",
       "      <td>30150</td>\n",
       "      <td>18</td>\n",
       "      <td>104.01</td>\n",
       "      <td>6.00</td>\n",
       "      <td>34637</td>\n",
       "      <td>3.06</td>\n",
       "      <td>361240</td>\n",
       "      <td>61528</td>\n",
       "    </tr>\n",
       "    <tr>\n",
       "      <th>3</th>\n",
       "      <td>3</td>\n",
       "      <td>PUNJAB</td>\n",
       "      <td>BAHAWALPUR DIVISION</td>\n",
       "      <td>BAHAWALNAGAR DISTRICT</td>\n",
       "      <td>HAROONABAD TEHSIL</td>\n",
       "      <td>1295.0</td>\n",
       "      <td>382115</td>\n",
       "      <td>192278</td>\n",
       "      <td>189808</td>\n",
       "      <td>29</td>\n",
       "      <td>101.30</td>\n",
       "      <td>6.15</td>\n",
       "      <td>297343</td>\n",
       "      <td>1.33</td>\n",
       "      <td>142600</td>\n",
       "      <td>71345</td>\n",
       "      <td>71236</td>\n",
       "      <td>19</td>\n",
       "      <td>100.15</td>\n",
       "      <td>6.02</td>\n",
       "      <td>84424</td>\n",
       "      <td>2.79</td>\n",
       "      <td>382115</td>\n",
       "      <td>142600</td>\n",
       "    </tr>\n",
       "    <tr>\n",
       "      <th>4</th>\n",
       "      <td>4</td>\n",
       "      <td>PUNJAB</td>\n",
       "      <td>BAHAWALPUR DIVISION</td>\n",
       "      <td>BAHAWALNAGAR DISTRICT</td>\n",
       "      <td>MINCHINABAD TEHSIL</td>\n",
       "      <td>1818.0</td>\n",
       "      <td>452723</td>\n",
       "      <td>231506</td>\n",
       "      <td>221178</td>\n",
       "      <td>39</td>\n",
       "      <td>104.67</td>\n",
       "      <td>6.29</td>\n",
       "      <td>316593</td>\n",
       "      <td>1.90</td>\n",
       "      <td>72294</td>\n",
       "      <td>36694</td>\n",
       "      <td>35590</td>\n",
       "      <td>10</td>\n",
       "      <td>103.10</td>\n",
       "      <td>6.34</td>\n",
       "      <td>37668</td>\n",
       "      <td>3.48</td>\n",
       "      <td>452723</td>\n",
       "      <td>72294</td>\n",
       "    </tr>\n",
       "  </tbody>\n",
       "</table>\n",
       "</div>"
      ],
      "text/plain": [
       "   Unnamed: 0 PROVINCE             DIVISION               DISTRICT  \\\n",
       "0           0   PUNJAB  BAHAWALPUR DIVISION  BAHAWALNAGAR DISTRICT   \n",
       "1           1   PUNJAB  BAHAWALPUR DIVISION  BAHAWALNAGAR DISTRICT   \n",
       "2           2   PUNJAB  BAHAWALPUR DIVISION  BAHAWALNAGAR DISTRICT   \n",
       "3           3   PUNJAB  BAHAWALPUR DIVISION  BAHAWALNAGAR DISTRICT   \n",
       "4           4   PUNJAB  BAHAWALPUR DIVISION  BAHAWALNAGAR DISTRICT   \n",
       "\n",
       "          SUB DIVISION  AREA (sq.km)  ALL SEXES (RURAL)  MALE (RURAL)  \\\n",
       "0  BAHAWALNAGAR TEHSIL        1729.0             619550        316864   \n",
       "1     CHISHTIAN TEHSIL        1500.0             540342        273788   \n",
       "2    FORT ABBAS TEHSIL        2536.0             361240        182655   \n",
       "3    HAROONABAD TEHSIL        1295.0             382115        192278   \n",
       "4   MINCHINABAD TEHSIL        1818.0             452723        231506   \n",
       "\n",
       "   FEMALE (RURAL)  TRANSGENDER (RURAL)  SEX RATIO (RURAL)  \\\n",
       "0          302644                   42             104.70   \n",
       "1          266500                   54             102.73   \n",
       "2          178541                   44             102.30   \n",
       "3          189808                   29             101.30   \n",
       "4          221178                   39             104.67   \n",
       "\n",
       "   AVG HOUSEHOLD SIZE (RURAL)  POPULATION 1998 (RURAL)  \\\n",
       "0                        6.10                   407768   \n",
       "1                        6.15                   395983   \n",
       "2                        6.32                   250959   \n",
       "3                        6.15                   297343   \n",
       "4                        6.29                   316593   \n",
       "\n",
       "   ANNUAL GROWTH RATE (RURAL)  ALL SEXES (URBAN)  MALE (URBAN)  \\\n",
       "0                        2.22             193840         98391   \n",
       "1                        1.65             149424         75546   \n",
       "2                        1.93              61528         31360   \n",
       "3                        1.33             142600         71345   \n",
       "4                        1.90              72294         36694   \n",
       "\n",
       "   FEMALE (URBAN)  TRANSGENDER (URBAN)  SEX RATIO (URBAN)  \\\n",
       "0           95402                   47             103.13   \n",
       "1           73851                   27             102.30   \n",
       "2           30150                   18             104.01   \n",
       "3           71236                   19             100.15   \n",
       "4           35590                   10             103.10   \n",
       "\n",
       "   AVG HOUSEHOLD SIZE (URBAN)  POPULATION 1998 (URBAN)  \\\n",
       "0                        6.02                   133785   \n",
       "1                        6.01                   102287   \n",
       "2                        6.00                    34637   \n",
       "3                        6.02                    84424   \n",
       "4                        6.34                    37668   \n",
       "\n",
       "   ANNUAL GROWTH RATE (URBAN)  SEX_RURAL  SEX_URBAN  \n",
       "0                        1.97     619550     193840  \n",
       "1                        2.01     540342     149424  \n",
       "2                        3.06     361240      61528  \n",
       "3                        2.79     382115     142600  \n",
       "4                        3.48     452723      72294  "
      ]
     },
     "execution_count": 28,
     "metadata": {},
     "output_type": "execute_result"
    }
   ],
   "source": [
    "df.head()"
   ]
  },
  {
   "cell_type": "code",
   "execution_count": 29,
   "metadata": {},
   "outputs": [
    {
     "name": "stdout",
     "output_type": "stream",
     "text": [
      "The Sex Ratio Increased from 1998 to 2017 is: -55658847\n"
     ]
    }
   ],
   "source": [
    "pop_sex_rural = df['SEX_RURAL'].sum()\n",
    "\n",
    "pop_sex_urban = df['SEX_URBAN'].sum()\n",
    "\n",
    "pop_change = pop_sex_urban - pop_sex_rural\n",
    "\n",
    "print('The Sex Ratio Increased from 1998 to 2017 is:', pop_change)"
   ]
  },
  {
   "cell_type": "code",
   "execution_count": 74,
   "metadata": {},
   "outputs": [
    {
     "name": "stdout",
     "output_type": "stream",
     "text": [
      "The Sex Ratio Increased from 1998 to 2017 is: 57.19695706049127\n"
     ]
    }
   ],
   "source": [
    "# Sex Ration Differnce covert the data into percentage\n",
    "pop_change = pop_sex_urban/ pop_sex_rural*100\n",
    "\n",
    "print('The Sex Ratio Increased from 1998 to 2017 is:', pop_change)"
   ]
  },
  {
   "cell_type": "markdown",
   "metadata": {},
   "source": [
    "## Social Media Icons\n",
    "\n",
    "[LinkedIn](https://www.linkedin.com/in/umar-mehmood-147224294/)\n",
    "<br>\n",
    "<img src=\"images.png\" alt=\"LinkedIn\" width=\"50\"/>\n",
    "\n",
    "[Twitter](https://twitter.com/UmarMeh12214006)\n",
    "<br>\n",
    "<img src=\"https://raw.githubusercontent.com/path-to-your-twitter-icon.png\" alt=\"Twitter\" width=\"50\"/>\n",
    "\n",
    "[Kaggle](https://raw.githubusercontent.com/path-to-your-kaggle-icon.png)\n",
    "<br>\n",
    "<img src=\"https://raw.githubusercontent.com/path-to-your-kaggle-icon.png\" alt=\"Kaggle\" width=\"50\"/>\n",
    "\n",
    "[GitHub](https://raw.githubusercontent.com/path-to-your-github-icon.png)\n",
    "<br>\n",
    "<img src=\"https://raw.githubusercontent.com/path-to-your-github-icon.png\" alt=\"GitHub\" width=\"50\"/>\n",
    "\n"
   ]
  },
  {
   "cell_type": "markdown",
   "metadata": {},
   "source": [
    "## Social Media Icons\n",
    "\n",
    "[![LinkedIn](https://raw.githubusercontent.com/path-to-your-linkedin-icon.png)](https://www.linkedin.com/in/yourprofile)\n",
    "\n",
    "[![Twitter](https://raw.githubusercontent.com/path-to-your-twitter-icon.png)](https://twitter.com/yourhandle)\n",
    "\n",
    "[![Kaggle](https://raw.githubusercontent.com/path-to-your-kaggle-icon.png)](https://www.kaggle.com/yourprofile)\n",
    "\n",
    "[![GitHub](https://raw.githubusercontent.com/path-to-your-github-icon.png)](https://github.com/yourusername)\n",
    "\n"
   ]
  },
  {
   "cell_type": "code",
   "execution_count": 30,
   "metadata": {},
   "outputs": [
    {
     "data": {
      "application/vnd.plotly.v1+json": {
       "config": {
        "plotlyServerURL": "https://plot.ly"
       },
       "data": [
        {
         "hovertemplate": "ALL SEXES (RURAL)=%{x}<br>ALL SEXES (URBAN)=%{y}<br>SEX RATIO (RURAL)=%{z}<br>SEX RATIO (URBAN)=%{marker.color}<extra></extra>",
         "legendgroup": "",
         "marker": {
          "color": [
           103.13,
           102.3,
           104.01,
           100.15,
           103.1,
           104.56,
           105.53,
           135.02,
           99.81,
           102.31,
           103.7,
           103.56,
           102.34,
           104.33,
           103.78,
           0,
           102.95,
           100.07,
           107.55,
           102.78,
           103.65,
           102.32,
           103.93,
           104,
           108.22,
           0,
           103.39,
           105.64,
           106.11,
           102.65,
           107,
           100.51,
           102.24,
           106.01,
           102.27,
           106.33,
           100.96,
           103.28,
           103.89,
           101.5,
           104.25,
           101.59,
           99.39,
           100.44,
           100.65,
           96.9,
           101.17,
           104.22,
           103.33,
           100.22,
           96.9,
           97.47,
           113,
           94.21,
           101.47,
           103.11,
           93.49,
           96.04,
           97.43,
           99.55,
           95.03,
           95.35,
           97.56,
           98.16,
           94.35,
           104.82,
           108.45,
           106.63,
           104.82,
           106.47,
           110.55,
           109.1,
           110.89,
           112.09,
           107.39,
           102.37,
           102,
           104.79,
           107.62,
           104.38,
           99.16,
           102.16,
           105.59,
           100.39,
           102.54,
           104.14,
           101.46,
           101.46,
           104.23,
           101.29,
           101.87,
           105.31,
           131.57,
           103.97,
           100.94,
           100.65,
           102.82,
           112.38,
           100.03,
           102.77,
           99.4,
           91.95,
           96.6,
           98.32,
           102.64,
           107.21,
           91.42,
           97.24,
           114.57,
           105.1,
           101.71,
           95.3,
           98.51,
           100.3,
           91.86,
           102.27,
           108.43,
           106.57,
           104.63,
           104.27,
           111.82,
           100.68,
           102.43,
           103.22,
           100.92,
           103.5,
           105.98,
           105.85,
           103.46,
           103.13,
           100.96,
           102.2,
           91.77,
           101.51,
           97.79,
           105.84,
           102.03,
           101.48,
           101.11,
           103.19,
           102.88,
           104.53,
           102.14,
           105.86,
           107.44,
           105.47,
           104.36,
           107.06,
           105.51,
           102.53,
           106.57,
           104.62,
           108.53,
           109.76,
           108.14,
           111.16,
           110.31,
           105.51,
           107.79,
           107.75,
           107.12,
           107.39,
           106.14,
           105.88,
           0,
           104.66,
           108.16,
           105.54,
           106.06,
           107.36,
           106.79,
           106.64,
           109.6,
           106.5,
           106.82,
           106.43,
           107.91,
           105.35,
           108.34,
           108.33,
           109.27,
           108.26,
           106.12,
           111.38,
           106.13,
           113.7,
           109.6,
           117.5,
           117.57,
           108.03,
           106.4,
           113.95,
           109.43,
           114.63,
           109.31,
           116.74,
           107.58,
           109.3,
           123.37,
           111.94,
           107.93,
           105.62,
           109.02,
           116.17,
           0,
           0,
           118.49,
           108.91,
           100.33,
           104.45,
           104.85,
           104.89,
           104.93,
           103.23,
           103.21,
           103.1,
           0,
           102.81,
           107.25,
           107.73,
           105.37,
           102.19,
           102.55,
           104.77,
           103.13,
           105.34,
           105.48,
           105.48,
           105.13,
           106.1,
           0,
           107.63,
           105.9,
           105.38,
           106.49,
           107.75,
           122.59,
           132.28,
           109.14,
           107.27,
           0,
           109.74,
           110.51,
           103.65,
           104.49,
           107.1,
           111.75,
           106.24,
           103.56,
           105.37,
           107.05,
           105.23,
           107.62,
           106.88,
           105.68,
           105.61,
           106.11,
           106.08,
           106.59,
           106.44,
           106.3,
           106.93,
           108.24,
           106.68,
           104.78,
           107.64,
           106.67,
           103.97,
           105.77,
           107.42,
           105.6,
           106.3,
           105.62,
           109.83,
           107.04,
           107.03,
           132.73,
           106.31,
           109.11,
           105.69,
           101.97,
           0,
           0,
           113.74,
           0,
           0,
           102.77,
           0,
           98.18,
           111.34,
           0,
           0,
           0,
           0,
           109.23,
           0,
           109.81,
           0,
           0,
           114.06,
           117.3,
           112.18,
           110.19,
           102.61,
           110.45,
           0,
           0,
           108.43,
           115.86,
           0,
           0,
           0,
           104.1,
           0,
           0,
           0,
           0,
           109.39,
           123.85,
           108.66,
           129.01,
           113.96,
           0,
           0,
           114.29,
           0,
           0,
           124.85,
           0,
           112.48,
           0,
           0,
           0,
           114.19,
           0,
           0,
           105.83,
           102.62,
           102.65,
           0,
           0,
           0,
           105.7,
           108.7,
           0,
           118.1,
           0,
           0,
           0,
           104.25,
           0,
           0,
           0,
           107.43,
           0,
           104.18,
           0,
           0,
           112.01,
           0,
           0,
           113.52,
           109.79,
           0,
           101.08,
           104.59,
           107.65,
           102.61,
           0,
           112.05,
           0,
           0,
           110.32,
           0,
           0,
           0,
           0,
           0,
           106.61,
           109.47,
           0,
           157.83,
           0,
           0,
           106.62,
           0,
           0,
           0,
           0,
           108.72,
           0,
           98.83,
           108.05,
           0,
           0,
           111,
           0,
           109.4,
           0,
           128.07,
           126.92,
           0,
           0,
           0,
           111.18,
           0,
           0,
           0,
           0,
           0,
           123.13,
           123.79,
           0,
           107.7,
           100.54,
           0,
           109.87,
           106.22,
           106.71,
           109.97,
           111.74,
           113.6,
           103.87,
           0,
           0,
           0,
           103.86,
           0,
           103.2,
           0,
           0,
           0,
           0,
           0,
           0,
           0,
           94.71,
           98.84,
           112.83,
           102.75,
           0,
           100.66,
           0,
           0,
           105.41,
           104.62,
           96.35,
           100.28,
           96.46,
           103.71,
           105.64,
           107.04,
           103.52,
           107.86,
           102.56,
           108.54,
           0,
           0,
           0,
           0,
           112.21,
           0,
           0,
           0,
           0,
           107.31,
           101.37,
           105.87,
           0,
           105.83,
           111.32,
           103.02,
           0,
           0,
           0,
           107.16,
           105.71,
           0,
           0,
           106.36,
           0,
           106.36,
           0,
           0,
           0,
           0,
           0,
           0,
           0,
           0,
           0,
           0,
           0,
           0,
           0,
           108.34,
           111.31,
           0,
           103.69,
           96.99,
           0,
           0,
           0,
           0,
           0,
           0,
           0,
           0,
           0,
           0,
           0,
           0,
           297.81,
           0,
           0,
           0,
           0,
           0,
           0,
           0,
           0,
           0,
           0,
           0,
           0,
           0,
           0,
           0
          ],
          "coloraxis": "coloraxis",
          "symbol": "circle"
         },
         "mode": "markers",
         "name": "",
         "scene": "scene",
         "showlegend": false,
         "type": "scatter3d",
         "x": [
          619550,
          540342,
          361240,
          382115,
          452723,
          902476,
          0,
          467938,
          340747,
          221431,
          564422,
          749218,
          982018,
          1045577,
          999966,
          212652,
          827602,
          705564,
          580592,
          204169,
          783612,
          595880,
          555795,
          1093354,
          1385109,
          34191,
          739299,
          494109,
          391144,
          339754,
          277268,
          329407,
          284170,
          34101,
          1425154,
          1267317,
          486176,
          618660,
          268160,
          365900,
          1035377,
          474764,
          482391,
          236336,
          378026,
          652771,
          73890,
          641189,
          330876,
          485434,
          530559,
          954998,
          781334,
          192457,
          400049,
          354176,
          328748,
          451306,
          487627,
          460844,
          590387,
          399687,
          643101,
          719133,
          272882,
          1115287,
          663615,
          845004,
          301629,
          753853,
          0,
          0,
          0,
          0,
          0,
          773871,
          166106,
          169885,
          510209,
          426737,
          218751,
          155574,
          947220,
          299779,
          809002,
          585160,
          639860,
          453663,
          394678,
          585751,
          487518,
          432114,
          1238708,
          528906,
          787629,
          825158,
          783165,
          222710,
          259933,
          153891,
          284881,
          247319,
          226736,
          518313,
          119368,
          126096,
          110175,
          337903,
          165222,
          254761,
          272443,
          175680,
          566018,
          160136,
          162822,
          96894,
          75974,
          1158817,
          176011,
          1033260,
          760440,
          404562,
          742723,
          792513,
          929447,
          1067880,
          571132,
          280006,
          294310,
          242750,
          392143,
          223051,
          103603,
          208615,
          289633,
          618946,
          306210,
          234249,
          254416,
          386479,
          876944,
          284663,
          306768,
          322957,
          281087,
          346413,
          123329,
          340828,
          279085,
          265358,
          262064,
          360477,
          0,
          373410,
          0,
          0,
          145932,
          119570,
          165467,
          130318,
          144167,
          297950,
          145254,
          189707,
          190520,
          142021,
          161083,
          174017,
          223171,
          173240,
          230630,
          150895,
          153536,
          150844,
          55429,
          294561,
          304828,
          0,
          0,
          0,
          0,
          0,
          0,
          0,
          0,
          0,
          0,
          0,
          0,
          0,
          0,
          0,
          0,
          160904,
          121954,
          0,
          0,
          0,
          0,
          0,
          0,
          0,
          0,
          248098,
          64153,
          385776,
          129761,
          29846,
          146400,
          191480,
          371911,
          292404,
          115622,
          113591,
          58144,
          83629,
          117467,
          160375,
          229942,
          343986,
          262749,
          196995,
          162757,
          247204,
          215932,
          280636,
          251221,
          201329,
          196133,
          140304,
          150226,
          142462,
          244090,
          26155,
          147733,
          219389,
          327492,
          298045,
          135729,
          225927,
          117609,
          161621,
          248079,
          179266,
          107033,
          160967,
          382666,
          239455,
          283507,
          169661,
          273131,
          267060,
          125985,
          281837,
          339307,
          265945,
          260082,
          204998,
          384652,
          297638,
          134064,
          307342,
          224423,
          382741,
          119244,
          252551,
          308928,
          180739,
          169334,
          208567,
          245116,
          262926,
          258899,
          122023,
          180580,
          43652,
          336263,
          284840,
          102811,
          0,
          8584,
          18390,
          40010,
          20600,
          5721,
          10708,
          92298,
          65678,
          165260,
          29315,
          49393,
          32670,
          42318,
          31016,
          117020,
          23386,
          97576,
          37588,
          32125,
          77906,
          64199,
          80124,
          32686,
          16914,
          27664,
          35495,
          11730,
          34504,
          42867,
          64765,
          38860,
          28624,
          98430,
          40266,
          38634,
          34477,
          27548,
          12952,
          47494,
          8423,
          7881,
          26790,
          10886,
          44595,
          37302,
          76470,
          52947,
          202777,
          50995,
          97665,
          42411,
          16646,
          16329,
          178752,
          23215,
          74881,
          172149,
          109231,
          43365,
          88279,
          9441,
          43341,
          56859,
          27149,
          14213,
          20489,
          96901,
          49480,
          76536,
          134459,
          131056,
          58204,
          88788,
          40567,
          58256,
          111203,
          22283,
          18510,
          311355,
          61741,
          114984,
          120944,
          132551,
          103423,
          102700,
          97469,
          272063,
          18452,
          19011,
          723361,
          527716,
          19497,
          20790,
          18058,
          27265,
          28054,
          40629,
          10217,
          48235,
          50753,
          12279,
          9458,
          17027,
          73833,
          27709,
          41516,
          7583,
          44490,
          2665,
          60339,
          92497,
          64206,
          158824,
          15345,
          33242,
          97481,
          27962,
          50283,
          55326,
          142935,
          148730,
          40867,
          37599,
          31339,
          84170,
          152952,
          20768,
          5184,
          13831,
          17465,
          206942,
          908155,
          208968,
          519601,
          266891,
          124318,
          507431,
          77139,
          303520,
          252462,
          343562,
          737167,
          301937,
          180502,
          296247,
          144917,
          723498,
          273257,
          872623,
          264964,
          96888,
          74461,
          228350,
          77101,
          276325,
          202935,
          221598,
          194711,
          620442,
          102059,
          155482,
          241743,
          257051,
          343225,
          1043978,
          545974,
          264463,
          558662,
          250916,
          275472,
          659042,
          288462,
          393252,
          267642,
          383046,
          2297375,
          354809,
          269971,
          118072,
          152608,
          228548,
          169297,
          508361,
          105950,
          145298,
          267947,
          89758,
          186533,
          126001,
          302028,
          217484,
          423052,
          317526,
          219567,
          378004,
          480671,
          395425,
          185121,
          322755,
          650120,
          303644,
          346476,
          2868,
          76493,
          246875,
          311373,
          78494,
          267636,
          107248,
          43112,
          68506,
          118839,
          26394,
          64761,
          443449,
          163829,
          239323,
          40188,
          101386,
          246934,
          61951,
          78705,
          89711,
          36569,
          98501,
          51154,
          57754,
          75003,
          39945,
          11811,
          27015,
          184986,
          96280,
          15681,
          39290,
          46171,
          59132,
          23963,
          107323,
          63885,
          104282,
          110842,
          58646,
          98180,
          54540,
          45156,
          50413,
          153156
         ],
         "y": [
          193840,
          149424,
          61528,
          142600,
          72294,
          176110,
          682116,
          107948,
          115613,
          41492,
          48883,
          232867,
          51888,
          484606,
          261622,
          0,
          397362,
          51666,
          97193,
          48371,
          193476,
          44504,
          159382,
          254147,
          240378,
          0,
          110090,
          212661,
          14545,
          34087,
          278528,
          109615,
          48796,
          3210158,
          39873,
          226606,
          156938,
          84495,
          27554,
          67634,
          429441,
          73803,
          174831,
          135674,
          44220,
          87246,
          185874,
          2165340,
          248814,
          49377,
          299713,
          542708,
          229928,
          54864,
          263867,
          138862,
          43423,
          217232,
          65703,
          135695,
          81643,
          39319,
          204016,
          121714,
          137941,
          680864,
          162708,
          488579,
          58894,
          180599,
          1632702,
          3653616,
          2703569,
          848541,
          2281557,
          110135,
          61498,
          73491,
          284280,
          212852,
          54056,
          41885,
          608440,
          43646,
          149594,
          271097,
          122095,
          41554,
          106285,
          117762,
          67453,
          1827001,
          84368,
          80098,
          232030,
          128452,
          145647,
          212493,
          66500,
          63218,
          55308,
          48194,
          45195,
          138214,
          22574,
          43142,
          15595,
          64083,
          73243,
          190471,
          64398,
          26185,
          112044,
          60610,
          54239,
          22401,
          157043,
          2097824,
          501547,
          342525,
          445879,
          54160,
          112306,
          176686,
          94733,
          420951,
          112807,
          80421,
          52281,
          14145,
          298014,
          19780,
          13753,
          21413,
          84561,
          147411,
          95840,
          121957,
          59953,
          65499,
          658208,
          68662,
          37719,
          131619,
          53353,
          98287,
          48685,
          58400,
          182580,
          29031,
          72413,
          99382,
          725153,
          92896,
          703690,
          304779,
          292131,
          21196,
          104350,
          14944,
          118472,
          43160,
          21037,
          12161,
          0,
          20300,
          17727,
          35308,
          36185,
          17999,
          213915,
          6381,
          33788,
          101868,
          23202,
          4270,
          47128,
          101876,
          496094,
          449098,
          446347,
          871245,
          708598,
          761631,
          841800,
          792451,
          479433,
          128313,
          473119,
          363967,
          661926,
          141905,
          832583,
          401115,
          550332,
          70611,
          845797,
          520195,
          403574,
          1126141,
          546196,
          384389,
          520830,
          195143,
          0,
          0,
          670004,
          201565,
          12619,
          191098,
          93501,
          100970,
          42312,
          37819,
          27623,
          118935,
          0,
          69144,
          136169,
          90980,
          26510,
          32205,
          62202,
          488006,
          116485,
          35937,
          24919,
          47427,
          196158,
          73713,
          0,
          59388,
          29042,
          234133,
          21000,
          16805,
          23315,
          7484,
          13142,
          18512,
          0,
          58280,
          11801,
          39194,
          12972,
          9249,
          182122,
          62089,
          38869,
          76988,
          95448,
          105839,
          27208,
          50996,
          93485,
          191083,
          56922,
          152025,
          93341,
          51306,
          279338,
          65825,
          86286,
          124346,
          30423,
          75270,
          44496,
          43349,
          93884,
          231845,
          95181,
          85656,
          93865,
          38620,
          94606,
          276571,
          100109,
          85742,
          26925,
          231459,
          21761,
          0,
          0,
          12476,
          0,
          0,
          36796,
          0,
          35597,
          51388,
          0,
          0,
          0,
          0,
          182444,
          0,
          33321,
          0,
          0,
          22209,
          37788,
          24603,
          12855,
          7679,
          177823,
          0,
          0,
          29515,
          29423,
          0,
          0,
          0,
          34997,
          0,
          0,
          0,
          0,
          21835,
          90201,
          18268,
          17753,
          34557,
          0,
          0,
          39846,
          0,
          0,
          213831,
          0,
          48343,
          0,
          0,
          0,
          80411,
          0,
          0,
          80958,
          76753,
          7815,
          0,
          0,
          0,
          16600,
          15240,
          0,
          19140,
          0,
          0,
          0,
          96316,
          0,
          0,
          0,
          12867,
          0,
          16265,
          0,
          0,
          123206,
          0,
          0,
          26124,
          46396,
          0,
          29402,
          39997,
          35547,
          37850,
          0,
          999385,
          0,
          0,
          27625,
          0,
          0,
          0,
          0,
          0,
          72740,
          13303,
          0,
          11259,
          0,
          0,
          17443,
          0,
          0,
          0,
          0,
          64674,
          0,
          3392,
          12201,
          0,
          0,
          34865,
          0,
          28428,
          0,
          10042,
          54849,
          0,
          0,
          0,
          14135,
          0,
          0,
          0,
          0,
          0,
          46164,
          49948,
          0,
          59273,
          29979,
          0,
          218018,
          24753,
          77566,
          39881,
          47064,
          245670,
          48315,
          0,
          0,
          0,
          133100,
          0,
          144898,
          0,
          0,
          0,
          0,
          0,
          0,
          0,
          48801,
          53701,
          228555,
          41371,
          0,
          51086,
          0,
          0,
          359024,
          81198,
          41319,
          26214,
          155405,
          53026,
          145801,
          91490,
          32913,
          86122,
          55370,
          1969823,
          0,
          0,
          0,
          0,
          49780,
          0,
          0,
          0,
          0,
          331377,
          94019,
          61889,
          0,
          117973,
          48016,
          42547,
          0,
          0,
          0,
          40314,
          44100,
          0,
          0,
          67686,
          0,
          67686,
          0,
          0,
          0,
          0,
          0,
          0,
          0,
          0,
          0,
          0,
          0,
          0,
          0,
          63728,
          33729,
          0,
          32543,
          5502,
          0,
          0,
          0,
          0,
          0,
          0,
          0,
          0,
          0,
          0,
          0,
          0,
          4364,
          0,
          0,
          0,
          0,
          0,
          0,
          0,
          0,
          0,
          0,
          0,
          0,
          0,
          0,
          0
         ],
         "z": [
          104.7,
          102.73,
          102.3,
          101.3,
          104.67,
          104.68,
          0,
          104.9,
          100.88,
          104.13,
          104.77,
          104.17,
          104.07,
          105.57,
          106.91,
          106.02,
          98.39,
          100.5,
          106.99,
          103.86,
          103.73,
          106.56,
          105.44,
          105.16,
          105.75,
          114.9,
          104.53,
          106.63,
          109.53,
          104.41,
          104.69,
          104.26,
          101.33,
          105.88,
          105.25,
          105.66,
          102.02,
          104.48,
          102.39,
          102.77,
          104.17,
          103.26,
          100.95,
          102.33,
          101.38,
          101.03,
          105.36,
          100.77,
          102.91,
          100.81,
          96.74,
          92.25,
          89.15,
          91.39,
          100.7,
          104.05,
          95.69,
          93.05,
          95.17,
          100.14,
          95.04,
          95.35,
          97.37,
          95.78,
          92.77,
          95.45,
          106.09,
          108.03,
          108.18,
          108.05,
          0,
          0,
          0,
          0,
          0,
          105.03,
          100.66,
          103.07,
          108.3,
          106.05,
          103.6,
          105.63,
          108.9,
          101.58,
          104.58,
          103.68,
          101.9,
          101.32,
          104.15,
          103.12,
          102.82,
          107.66,
          105.6,
          102.83,
          101.81,
          101.01,
          102.86,
          101.11,
          99.15,
          102.8,
          97.26,
          90.87,
          95.1,
          90.76,
          95.96,
          95.23,
          92.22,
          92.63,
          93.43,
          94.64,
          93.92,
          91.39,
          92.14,
          94.15,
          91.45,
          102.23,
          99.18,
          103.79,
          102.78,
          105.86,
          105.07,
          104.04,
          102.98,
          104.43,
          101.39,
          105.08,
          104.35,
          105.63,
          104.53,
          104.54,
          99.05,
          100.7,
          91.85,
          99.02,
          95.63,
          99.71,
          103.08,
          100.84,
          98.84,
          103.98,
          103.42,
          99.87,
          102.17,
          106.9,
          107.01,
          106.05,
          106.28,
          107.34,
          106.65,
          105.89,
          104.86,
          104.91,
          0,
          107.33,
          0,
          0,
          115.96,
          109.21,
          106.8,
          119.41,
          106.14,
          106.49,
          105.64,
          108.25,
          108.53,
          109,
          108.12,
          105.84,
          106.46,
          107.61,
          106.23,
          105.37,
          107.25,
          108.64,
          110.25,
          108.37,
          108.24,
          0,
          0,
          0,
          0,
          0,
          0,
          0,
          0,
          0,
          0,
          0,
          0,
          0,
          0,
          0,
          0,
          110.77,
          110.97,
          0,
          0,
          0,
          0,
          0,
          0,
          0,
          0,
          114.46,
          118.23,
          111.87,
          113.84,
          110.97,
          102.95,
          105.03,
          105.25,
          103.93,
          103.93,
          103.36,
          103.61,
          101.72,
          103.48,
          103.23,
          108.44,
          106.62,
          107.86,
          104.04,
          104.53,
          104,
          103.54,
          105.28,
          110.37,
          104.42,
          106,
          106.55,
          107.15,
          107.26,
          106.42,
          105.77,
          106.78,
          107.24,
          122.66,
          124.5,
          109.32,
          110.45,
          106.39,
          109.86,
          110.97,
          106.21,
          106.83,
          105.82,
          108.01,
          106.36,
          105.36,
          106.55,
          108.32,
          107.28,
          106.87,
          109.1,
          107.97,
          106.07,
          106.13,
          106.86,
          107.15,
          108.12,
          107.37,
          105.47,
          107.45,
          105.65,
          106.27,
          105.19,
          107.43,
          105.77,
          106.62,
          106.53,
          105.22,
          106.91,
          105.85,
          111.45,
          105.45,
          106.85,
          107.6,
          108.82,
          110.23,
          0,
          101.98,
          111.25,
          109.93,
          103.4,
          119.28,
          110.66,
          107.5,
          108.5,
          105.37,
          106.5,
          106.19,
          108.5,
          115.25,
          107.69,
          106.84,
          105.96,
          110.87,
          116.07,
          118.58,
          108.03,
          111.71,
          108.47,
          109.88,
          111.11,
          108.2,
          103.99,
          104.36,
          107.39,
          107.38,
          110.8,
          108.98,
          105.31,
          106.08,
          114.72,
          109.8,
          106.03,
          108.44,
          104.77,
          109.5,
          106.29,
          111.23,
          112.04,
          115.35,
          108.65,
          123.7,
          115.65,
          134.77,
          118.75,
          113.94,
          122.8,
          98.45,
          116.82,
          106.57,
          109.59,
          120,
          104.25,
          105.53,
          104.4,
          106.1,
          106.86,
          105.19,
          108.9,
          109.7,
          108.8,
          109,
          109.7,
          120,
          109.34,
          108.4,
          105.54,
          106.88,
          104.34,
          106.46,
          105.29,
          109.11,
          107.66,
          113.6,
          139.38,
          112.24,
          122.05,
          108.34,
          104.95,
          106.27,
          103.58,
          109.33,
          110.44,
          107.26,
          108.82,
          104.69,
          108.09,
          110.54,
          118.72,
          110.89,
          123.08,
          94.07,
          98.64,
          117.36,
          113.68,
          127.52,
          111.54,
          109.11,
          110.39,
          122.05,
          97.69,
          111.75,
          118.09,
          113.55,
          109.08,
          117.83,
          115.66,
          108.23,
          101.92,
          111.08,
          131.62,
          110.66,
          113.59,
          113.66,
          109.62,
          113.57,
          114.77,
          110.84,
          112.38,
          115.72,
          117.42,
          121.7,
          123.09,
          125.91,
          104.17,
          117.98,
          129.29,
          116.17,
          101.66,
          105.32,
          101.61,
          100.95,
          107.94,
          105.65,
          107.46,
          103.92,
          106.27,
          104.15,
          102.06,
          99.07,
          100.26,
          99.9,
          99.12,
          98.1,
          97.71,
          100.18,
          91.72,
          104.3,
          96.68,
          117.88,
          118.4,
          117.84,
          117.95,
          91.86,
          90.56,
          95.64,
          97.51,
          93.8,
          95.9,
          100.92,
          99.31,
          101.32,
          104.49,
          103.24,
          98.79,
          96.76,
          109.25,
          104.06,
          100.29,
          101.61,
          101.16,
          101.22,
          104.34,
          99.1,
          99.24,
          96.6,
          101.3,
          105.55,
          93.92,
          102.51,
          105.7,
          104.72,
          106.53,
          103.95,
          106.19,
          106.26,
          96.51,
          103.77,
          98.35,
          102.12,
          87.65,
          102.04,
          95.74,
          97.72,
          98.21,
          94.48,
          100.31,
          100.43,
          100.21,
          101.9,
          100.35,
          105.9,
          105.68,
          107.04,
          101.09,
          102.24,
          107.01,
          106.67,
          101.92,
          107.68,
          95.75,
          103,
          103.97,
          107.86,
          108.72,
          97.81,
          97.98,
          102.87,
          106.2,
          105.03,
          100.04,
          104.59,
          101.18,
          102.93,
          99.36,
          108.33,
          115.95,
          111.28,
          104.44,
          101.95,
          110.44,
          103.67,
          112.51,
          99.15,
          101.29,
          100.41,
          102.27,
          108.76,
          108.81,
          111.42,
          110.25,
          111.03,
          109.96,
          119.68,
          113.3
         ]
        }
       ],
       "layout": {
        "coloraxis": {
         "colorbar": {
          "title": {
           "text": "SEX RATIO (URBAN)"
          }
         },
         "colorscale": [
          [
           0,
           "#0d0887"
          ],
          [
           0.1111111111111111,
           "#46039f"
          ],
          [
           0.2222222222222222,
           "#7201a8"
          ],
          [
           0.3333333333333333,
           "#9c179e"
          ],
          [
           0.4444444444444444,
           "#bd3786"
          ],
          [
           0.5555555555555556,
           "#d8576b"
          ],
          [
           0.6666666666666666,
           "#ed7953"
          ],
          [
           0.7777777777777778,
           "#fb9f3a"
          ],
          [
           0.8888888888888888,
           "#fdca26"
          ],
          [
           1,
           "#f0f921"
          ]
         ]
        },
        "legend": {
         "tracegroupgap": 0
        },
        "margin": {
         "t": 60
        },
        "scene": {
         "domain": {
          "x": [
           0,
           1
          ],
          "y": [
           0,
           1
          ]
         },
         "xaxis": {
          "title": {
           "text": "ALL SEXES (RURAL)"
          }
         },
         "yaxis": {
          "title": {
           "text": "ALL SEXES (URBAN)"
          }
         },
         "zaxis": {
          "title": {
           "text": "SEX RATIO (RURAL)"
          }
         }
        },
        "template": {
         "data": {
          "bar": [
           {
            "error_x": {
             "color": "#2a3f5f"
            },
            "error_y": {
             "color": "#2a3f5f"
            },
            "marker": {
             "line": {
              "color": "#E5ECF6",
              "width": 0.5
             },
             "pattern": {
              "fillmode": "overlay",
              "size": 10,
              "solidity": 0.2
             }
            },
            "type": "bar"
           }
          ],
          "barpolar": [
           {
            "marker": {
             "line": {
              "color": "#E5ECF6",
              "width": 0.5
             },
             "pattern": {
              "fillmode": "overlay",
              "size": 10,
              "solidity": 0.2
             }
            },
            "type": "barpolar"
           }
          ],
          "carpet": [
           {
            "aaxis": {
             "endlinecolor": "#2a3f5f",
             "gridcolor": "white",
             "linecolor": "white",
             "minorgridcolor": "white",
             "startlinecolor": "#2a3f5f"
            },
            "baxis": {
             "endlinecolor": "#2a3f5f",
             "gridcolor": "white",
             "linecolor": "white",
             "minorgridcolor": "white",
             "startlinecolor": "#2a3f5f"
            },
            "type": "carpet"
           }
          ],
          "choropleth": [
           {
            "colorbar": {
             "outlinewidth": 0,
             "ticks": ""
            },
            "type": "choropleth"
           }
          ],
          "contour": [
           {
            "colorbar": {
             "outlinewidth": 0,
             "ticks": ""
            },
            "colorscale": [
             [
              0,
              "#0d0887"
             ],
             [
              0.1111111111111111,
              "#46039f"
             ],
             [
              0.2222222222222222,
              "#7201a8"
             ],
             [
              0.3333333333333333,
              "#9c179e"
             ],
             [
              0.4444444444444444,
              "#bd3786"
             ],
             [
              0.5555555555555556,
              "#d8576b"
             ],
             [
              0.6666666666666666,
              "#ed7953"
             ],
             [
              0.7777777777777778,
              "#fb9f3a"
             ],
             [
              0.8888888888888888,
              "#fdca26"
             ],
             [
              1,
              "#f0f921"
             ]
            ],
            "type": "contour"
           }
          ],
          "contourcarpet": [
           {
            "colorbar": {
             "outlinewidth": 0,
             "ticks": ""
            },
            "type": "contourcarpet"
           }
          ],
          "heatmap": [
           {
            "colorbar": {
             "outlinewidth": 0,
             "ticks": ""
            },
            "colorscale": [
             [
              0,
              "#0d0887"
             ],
             [
              0.1111111111111111,
              "#46039f"
             ],
             [
              0.2222222222222222,
              "#7201a8"
             ],
             [
              0.3333333333333333,
              "#9c179e"
             ],
             [
              0.4444444444444444,
              "#bd3786"
             ],
             [
              0.5555555555555556,
              "#d8576b"
             ],
             [
              0.6666666666666666,
              "#ed7953"
             ],
             [
              0.7777777777777778,
              "#fb9f3a"
             ],
             [
              0.8888888888888888,
              "#fdca26"
             ],
             [
              1,
              "#f0f921"
             ]
            ],
            "type": "heatmap"
           }
          ],
          "heatmapgl": [
           {
            "colorbar": {
             "outlinewidth": 0,
             "ticks": ""
            },
            "colorscale": [
             [
              0,
              "#0d0887"
             ],
             [
              0.1111111111111111,
              "#46039f"
             ],
             [
              0.2222222222222222,
              "#7201a8"
             ],
             [
              0.3333333333333333,
              "#9c179e"
             ],
             [
              0.4444444444444444,
              "#bd3786"
             ],
             [
              0.5555555555555556,
              "#d8576b"
             ],
             [
              0.6666666666666666,
              "#ed7953"
             ],
             [
              0.7777777777777778,
              "#fb9f3a"
             ],
             [
              0.8888888888888888,
              "#fdca26"
             ],
             [
              1,
              "#f0f921"
             ]
            ],
            "type": "heatmapgl"
           }
          ],
          "histogram": [
           {
            "marker": {
             "pattern": {
              "fillmode": "overlay",
              "size": 10,
              "solidity": 0.2
             }
            },
            "type": "histogram"
           }
          ],
          "histogram2d": [
           {
            "colorbar": {
             "outlinewidth": 0,
             "ticks": ""
            },
            "colorscale": [
             [
              0,
              "#0d0887"
             ],
             [
              0.1111111111111111,
              "#46039f"
             ],
             [
              0.2222222222222222,
              "#7201a8"
             ],
             [
              0.3333333333333333,
              "#9c179e"
             ],
             [
              0.4444444444444444,
              "#bd3786"
             ],
             [
              0.5555555555555556,
              "#d8576b"
             ],
             [
              0.6666666666666666,
              "#ed7953"
             ],
             [
              0.7777777777777778,
              "#fb9f3a"
             ],
             [
              0.8888888888888888,
              "#fdca26"
             ],
             [
              1,
              "#f0f921"
             ]
            ],
            "type": "histogram2d"
           }
          ],
          "histogram2dcontour": [
           {
            "colorbar": {
             "outlinewidth": 0,
             "ticks": ""
            },
            "colorscale": [
             [
              0,
              "#0d0887"
             ],
             [
              0.1111111111111111,
              "#46039f"
             ],
             [
              0.2222222222222222,
              "#7201a8"
             ],
             [
              0.3333333333333333,
              "#9c179e"
             ],
             [
              0.4444444444444444,
              "#bd3786"
             ],
             [
              0.5555555555555556,
              "#d8576b"
             ],
             [
              0.6666666666666666,
              "#ed7953"
             ],
             [
              0.7777777777777778,
              "#fb9f3a"
             ],
             [
              0.8888888888888888,
              "#fdca26"
             ],
             [
              1,
              "#f0f921"
             ]
            ],
            "type": "histogram2dcontour"
           }
          ],
          "mesh3d": [
           {
            "colorbar": {
             "outlinewidth": 0,
             "ticks": ""
            },
            "type": "mesh3d"
           }
          ],
          "parcoords": [
           {
            "line": {
             "colorbar": {
              "outlinewidth": 0,
              "ticks": ""
             }
            },
            "type": "parcoords"
           }
          ],
          "pie": [
           {
            "automargin": true,
            "type": "pie"
           }
          ],
          "scatter": [
           {
            "fillpattern": {
             "fillmode": "overlay",
             "size": 10,
             "solidity": 0.2
            },
            "type": "scatter"
           }
          ],
          "scatter3d": [
           {
            "line": {
             "colorbar": {
              "outlinewidth": 0,
              "ticks": ""
             }
            },
            "marker": {
             "colorbar": {
              "outlinewidth": 0,
              "ticks": ""
             }
            },
            "type": "scatter3d"
           }
          ],
          "scattercarpet": [
           {
            "marker": {
             "colorbar": {
              "outlinewidth": 0,
              "ticks": ""
             }
            },
            "type": "scattercarpet"
           }
          ],
          "scattergeo": [
           {
            "marker": {
             "colorbar": {
              "outlinewidth": 0,
              "ticks": ""
             }
            },
            "type": "scattergeo"
           }
          ],
          "scattergl": [
           {
            "marker": {
             "colorbar": {
              "outlinewidth": 0,
              "ticks": ""
             }
            },
            "type": "scattergl"
           }
          ],
          "scattermapbox": [
           {
            "marker": {
             "colorbar": {
              "outlinewidth": 0,
              "ticks": ""
             }
            },
            "type": "scattermapbox"
           }
          ],
          "scatterpolar": [
           {
            "marker": {
             "colorbar": {
              "outlinewidth": 0,
              "ticks": ""
             }
            },
            "type": "scatterpolar"
           }
          ],
          "scatterpolargl": [
           {
            "marker": {
             "colorbar": {
              "outlinewidth": 0,
              "ticks": ""
             }
            },
            "type": "scatterpolargl"
           }
          ],
          "scatterternary": [
           {
            "marker": {
             "colorbar": {
              "outlinewidth": 0,
              "ticks": ""
             }
            },
            "type": "scatterternary"
           }
          ],
          "surface": [
           {
            "colorbar": {
             "outlinewidth": 0,
             "ticks": ""
            },
            "colorscale": [
             [
              0,
              "#0d0887"
             ],
             [
              0.1111111111111111,
              "#46039f"
             ],
             [
              0.2222222222222222,
              "#7201a8"
             ],
             [
              0.3333333333333333,
              "#9c179e"
             ],
             [
              0.4444444444444444,
              "#bd3786"
             ],
             [
              0.5555555555555556,
              "#d8576b"
             ],
             [
              0.6666666666666666,
              "#ed7953"
             ],
             [
              0.7777777777777778,
              "#fb9f3a"
             ],
             [
              0.8888888888888888,
              "#fdca26"
             ],
             [
              1,
              "#f0f921"
             ]
            ],
            "type": "surface"
           }
          ],
          "table": [
           {
            "cells": {
             "fill": {
              "color": "#EBF0F8"
             },
             "line": {
              "color": "white"
             }
            },
            "header": {
             "fill": {
              "color": "#C8D4E3"
             },
             "line": {
              "color": "white"
             }
            },
            "type": "table"
           }
          ]
         },
         "layout": {
          "annotationdefaults": {
           "arrowcolor": "#2a3f5f",
           "arrowhead": 0,
           "arrowwidth": 1
          },
          "autotypenumbers": "strict",
          "coloraxis": {
           "colorbar": {
            "outlinewidth": 0,
            "ticks": ""
           }
          },
          "colorscale": {
           "diverging": [
            [
             0,
             "#8e0152"
            ],
            [
             0.1,
             "#c51b7d"
            ],
            [
             0.2,
             "#de77ae"
            ],
            [
             0.3,
             "#f1b6da"
            ],
            [
             0.4,
             "#fde0ef"
            ],
            [
             0.5,
             "#f7f7f7"
            ],
            [
             0.6,
             "#e6f5d0"
            ],
            [
             0.7,
             "#b8e186"
            ],
            [
             0.8,
             "#7fbc41"
            ],
            [
             0.9,
             "#4d9221"
            ],
            [
             1,
             "#276419"
            ]
           ],
           "sequential": [
            [
             0,
             "#0d0887"
            ],
            [
             0.1111111111111111,
             "#46039f"
            ],
            [
             0.2222222222222222,
             "#7201a8"
            ],
            [
             0.3333333333333333,
             "#9c179e"
            ],
            [
             0.4444444444444444,
             "#bd3786"
            ],
            [
             0.5555555555555556,
             "#d8576b"
            ],
            [
             0.6666666666666666,
             "#ed7953"
            ],
            [
             0.7777777777777778,
             "#fb9f3a"
            ],
            [
             0.8888888888888888,
             "#fdca26"
            ],
            [
             1,
             "#f0f921"
            ]
           ],
           "sequentialminus": [
            [
             0,
             "#0d0887"
            ],
            [
             0.1111111111111111,
             "#46039f"
            ],
            [
             0.2222222222222222,
             "#7201a8"
            ],
            [
             0.3333333333333333,
             "#9c179e"
            ],
            [
             0.4444444444444444,
             "#bd3786"
            ],
            [
             0.5555555555555556,
             "#d8576b"
            ],
            [
             0.6666666666666666,
             "#ed7953"
            ],
            [
             0.7777777777777778,
             "#fb9f3a"
            ],
            [
             0.8888888888888888,
             "#fdca26"
            ],
            [
             1,
             "#f0f921"
            ]
           ]
          },
          "colorway": [
           "#636efa",
           "#EF553B",
           "#00cc96",
           "#ab63fa",
           "#FFA15A",
           "#19d3f3",
           "#FF6692",
           "#B6E880",
           "#FF97FF",
           "#FECB52"
          ],
          "font": {
           "color": "#2a3f5f"
          },
          "geo": {
           "bgcolor": "white",
           "lakecolor": "white",
           "landcolor": "#E5ECF6",
           "showlakes": true,
           "showland": true,
           "subunitcolor": "white"
          },
          "hoverlabel": {
           "align": "left"
          },
          "hovermode": "closest",
          "mapbox": {
           "style": "light"
          },
          "paper_bgcolor": "white",
          "plot_bgcolor": "#E5ECF6",
          "polar": {
           "angularaxis": {
            "gridcolor": "white",
            "linecolor": "white",
            "ticks": ""
           },
           "bgcolor": "#E5ECF6",
           "radialaxis": {
            "gridcolor": "white",
            "linecolor": "white",
            "ticks": ""
           }
          },
          "scene": {
           "xaxis": {
            "backgroundcolor": "#E5ECF6",
            "gridcolor": "white",
            "gridwidth": 2,
            "linecolor": "white",
            "showbackground": true,
            "ticks": "",
            "zerolinecolor": "white"
           },
           "yaxis": {
            "backgroundcolor": "#E5ECF6",
            "gridcolor": "white",
            "gridwidth": 2,
            "linecolor": "white",
            "showbackground": true,
            "ticks": "",
            "zerolinecolor": "white"
           },
           "zaxis": {
            "backgroundcolor": "#E5ECF6",
            "gridcolor": "white",
            "gridwidth": 2,
            "linecolor": "white",
            "showbackground": true,
            "ticks": "",
            "zerolinecolor": "white"
           }
          },
          "shapedefaults": {
           "line": {
            "color": "#2a3f5f"
           }
          },
          "ternary": {
           "aaxis": {
            "gridcolor": "white",
            "linecolor": "white",
            "ticks": ""
           },
           "baxis": {
            "gridcolor": "white",
            "linecolor": "white",
            "ticks": ""
           },
           "bgcolor": "#E5ECF6",
           "caxis": {
            "gridcolor": "white",
            "linecolor": "white",
            "ticks": ""
           }
          },
          "title": {
           "x": 0.05
          },
          "xaxis": {
           "automargin": true,
           "gridcolor": "white",
           "linecolor": "white",
           "ticks": "",
           "title": {
            "standoff": 15
           },
           "zerolinecolor": "white",
           "zerolinewidth": 2
          },
          "yaxis": {
           "automargin": true,
           "gridcolor": "white",
           "linecolor": "white",
           "ticks": "",
           "title": {
            "standoff": 15
           },
           "zerolinecolor": "white",
           "zerolinewidth": 2
          }
         }
        }
       }
      }
     },
     "metadata": {},
     "output_type": "display_data"
    }
   ],
   "source": [
    "fig = px.scatter_3d(df, x='ALL SEXES (RURAL)', y='ALL SEXES (URBAN)', z='SEX RATIO (RURAL)', color='SEX RATIO (URBAN)')\n",
    "fig.show()"
   ]
  },
  {
   "cell_type": "code",
   "execution_count": 38,
   "metadata": {},
   "outputs": [
    {
     "data": {
      "application/vnd.plotly.v1+json": {
       "config": {
        "plotlyServerURL": "https://plot.ly"
       },
       "data": [
        {
         "alignmentgroup": "True",
         "customdata": [
          [
           104.7
          ],
          [
           102.73
          ],
          [
           102.3
          ],
          [
           101.3
          ],
          [
           104.67
          ],
          [
           104.68
          ],
          [
           0
          ],
          [
           104.9
          ],
          [
           100.88
          ],
          [
           104.13
          ],
          [
           104.77
          ],
          [
           104.17
          ],
          [
           104.07
          ],
          [
           105.57
          ],
          [
           106.91
          ],
          [
           106.02
          ],
          [
           98.39
          ],
          [
           100.5
          ],
          [
           106.99
          ],
          [
           103.86
          ],
          [
           103.73
          ],
          [
           106.56
          ],
          [
           105.44
          ],
          [
           105.16
          ],
          [
           105.75
          ],
          [
           114.9
          ],
          [
           104.53
          ],
          [
           106.63
          ],
          [
           109.53
          ],
          [
           104.41
          ],
          [
           104.69
          ],
          [
           104.26
          ],
          [
           101.33
          ],
          [
           105.88
          ],
          [
           105.25
          ],
          [
           105.66
          ],
          [
           102.02
          ],
          [
           104.48
          ],
          [
           102.39
          ],
          [
           102.77
          ],
          [
           104.17
          ],
          [
           103.26
          ],
          [
           100.95
          ],
          [
           102.33
          ],
          [
           101.38
          ],
          [
           101.03
          ],
          [
           105.36
          ],
          [
           100.77
          ],
          [
           102.91
          ],
          [
           100.81
          ],
          [
           96.74
          ],
          [
           92.25
          ],
          [
           89.15
          ],
          [
           91.39
          ],
          [
           100.7
          ],
          [
           104.05
          ],
          [
           95.69
          ],
          [
           93.05
          ],
          [
           95.17
          ],
          [
           100.14
          ],
          [
           95.04
          ],
          [
           95.35
          ],
          [
           97.37
          ],
          [
           95.78
          ],
          [
           92.77
          ],
          [
           95.45
          ],
          [
           106.09
          ],
          [
           108.03
          ],
          [
           108.18
          ],
          [
           108.05
          ],
          [
           0
          ],
          [
           0
          ],
          [
           0
          ],
          [
           0
          ],
          [
           0
          ],
          [
           105.03
          ],
          [
           100.66
          ],
          [
           103.07
          ],
          [
           108.3
          ],
          [
           106.05
          ],
          [
           103.6
          ],
          [
           105.63
          ],
          [
           108.9
          ],
          [
           101.58
          ],
          [
           104.58
          ],
          [
           103.68
          ],
          [
           101.9
          ],
          [
           101.32
          ],
          [
           104.15
          ],
          [
           103.12
          ],
          [
           102.82
          ],
          [
           107.66
          ],
          [
           105.6
          ],
          [
           102.83
          ],
          [
           101.81
          ],
          [
           101.01
          ],
          [
           102.86
          ],
          [
           101.11
          ],
          [
           99.15
          ],
          [
           102.8
          ],
          [
           97.26
          ],
          [
           90.87
          ],
          [
           95.1
          ],
          [
           90.76
          ],
          [
           95.96
          ],
          [
           95.23
          ],
          [
           92.22
          ],
          [
           92.63
          ],
          [
           93.43
          ],
          [
           94.64
          ],
          [
           93.92
          ],
          [
           91.39
          ],
          [
           92.14
          ],
          [
           94.15
          ],
          [
           91.45
          ],
          [
           102.23
          ],
          [
           99.18
          ],
          [
           103.79
          ],
          [
           102.78
          ],
          [
           105.86
          ],
          [
           105.07
          ],
          [
           104.04
          ],
          [
           102.98
          ],
          [
           104.43
          ],
          [
           101.39
          ],
          [
           105.08
          ],
          [
           104.35
          ],
          [
           105.63
          ],
          [
           104.53
          ],
          [
           104.54
          ],
          [
           99.05
          ],
          [
           100.7
          ],
          [
           91.85
          ],
          [
           99.02
          ],
          [
           95.63
          ],
          [
           99.71
          ],
          [
           103.08
          ],
          [
           100.84
          ],
          [
           98.84
          ],
          [
           103.98
          ],
          [
           103.42
          ],
          [
           99.87
          ],
          [
           102.17
          ]
         ],
         "hovertemplate": "PROVINCE=PUNJAB<br>RURAL=%{x}<br>URBAN=%{y}<br>SEX RATIO (RURAL)=%{customdata[0]}<extra></extra>",
         "legendgroup": "PUNJAB",
         "marker": {
          "color": "rgb(127, 60, 141)",
          "pattern": {
           "shape": ""
          }
         },
         "name": "PUNJAB",
         "offsetgroup": "PUNJAB",
         "orientation": "v",
         "showlegend": true,
         "text": [
          104.7,
          102.73,
          102.3,
          101.3,
          104.67,
          104.68,
          0,
          104.9,
          100.88,
          104.13,
          104.77,
          104.17,
          104.07,
          105.57,
          106.91,
          106.02,
          98.39,
          100.5,
          106.99,
          103.86,
          103.73,
          106.56,
          105.44,
          105.16,
          105.75,
          114.9,
          104.53,
          106.63,
          109.53,
          104.41,
          104.69,
          104.26,
          101.33,
          105.88,
          105.25,
          105.66,
          102.02,
          104.48,
          102.39,
          102.77,
          104.17,
          103.26,
          100.95,
          102.33,
          101.38,
          101.03,
          105.36,
          100.77,
          102.91,
          100.81,
          96.74,
          92.25,
          89.15,
          91.39,
          100.7,
          104.05,
          95.69,
          93.05,
          95.17,
          100.14,
          95.04,
          95.35,
          97.37,
          95.78,
          92.77,
          95.45,
          106.09,
          108.03,
          108.18,
          108.05,
          0,
          0,
          0,
          0,
          0,
          105.03,
          100.66,
          103.07,
          108.3,
          106.05,
          103.6,
          105.63,
          108.9,
          101.58,
          104.58,
          103.68,
          101.9,
          101.32,
          104.15,
          103.12,
          102.82,
          107.66,
          105.6,
          102.83,
          101.81,
          101.01,
          102.86,
          101.11,
          99.15,
          102.8,
          97.26,
          90.87,
          95.1,
          90.76,
          95.96,
          95.23,
          92.22,
          92.63,
          93.43,
          94.64,
          93.92,
          91.39,
          92.14,
          94.15,
          91.45,
          102.23,
          99.18,
          103.79,
          102.78,
          105.86,
          105.07,
          104.04,
          102.98,
          104.43,
          101.39,
          105.08,
          104.35,
          105.63,
          104.53,
          104.54,
          99.05,
          100.7,
          91.85,
          99.02,
          95.63,
          99.71,
          103.08,
          100.84,
          98.84,
          103.98,
          103.42,
          99.87,
          102.17
         ],
         "textposition": "auto",
         "type": "bar",
         "x": [
          619550,
          540342,
          361240,
          382115,
          452723,
          902476,
          0,
          467938,
          340747,
          221431,
          564422,
          749218,
          982018,
          1045577,
          999966,
          212652,
          827602,
          705564,
          580592,
          204169,
          783612,
          595880,
          555795,
          1093354,
          1385109,
          34191,
          739299,
          494109,
          391144,
          339754,
          277268,
          329407,
          284170,
          34101,
          1425154,
          1267317,
          486176,
          618660,
          268160,
          365900,
          1035377,
          474764,
          482391,
          236336,
          378026,
          652771,
          73890,
          641189,
          330876,
          485434,
          530559,
          954998,
          781334,
          192457,
          400049,
          354176,
          328748,
          451306,
          487627,
          460844,
          590387,
          399687,
          643101,
          719133,
          272882,
          1115287,
          663615,
          845004,
          301629,
          753853,
          0,
          0,
          0,
          0,
          0,
          773871,
          166106,
          169885,
          510209,
          426737,
          218751,
          155574,
          947220,
          299779,
          809002,
          585160,
          639860,
          453663,
          394678,
          585751,
          487518,
          432114,
          1238708,
          528906,
          787629,
          825158,
          783165,
          222710,
          259933,
          153891,
          284881,
          247319,
          226736,
          518313,
          119368,
          126096,
          110175,
          337903,
          165222,
          254761,
          272443,
          175680,
          566018,
          160136,
          162822,
          96894,
          75974,
          1158817,
          176011,
          1033260,
          760440,
          404562,
          742723,
          792513,
          929447,
          1067880,
          571132,
          280006,
          294310,
          242750,
          392143,
          223051,
          103603,
          208615,
          289633,
          618946,
          306210,
          234249,
          254416,
          386479,
          876944,
          284663,
          306768
         ],
         "xaxis": "x",
         "y": [
          193840,
          149424,
          61528,
          142600,
          72294,
          176110,
          682116,
          107948,
          115613,
          41492,
          48883,
          232867,
          51888,
          484606,
          261622,
          0,
          397362,
          51666,
          97193,
          48371,
          193476,
          44504,
          159382,
          254147,
          240378,
          0,
          110090,
          212661,
          14545,
          34087,
          278528,
          109615,
          48796,
          3210158,
          39873,
          226606,
          156938,
          84495,
          27554,
          67634,
          429441,
          73803,
          174831,
          135674,
          44220,
          87246,
          185874,
          2165340,
          248814,
          49377,
          299713,
          542708,
          229928,
          54864,
          263867,
          138862,
          43423,
          217232,
          65703,
          135695,
          81643,
          39319,
          204016,
          121714,
          137941,
          680864,
          162708,
          488579,
          58894,
          180599,
          1632702,
          3653616,
          2703569,
          848541,
          2281557,
          110135,
          61498,
          73491,
          284280,
          212852,
          54056,
          41885,
          608440,
          43646,
          149594,
          271097,
          122095,
          41554,
          106285,
          117762,
          67453,
          1827001,
          84368,
          80098,
          232030,
          128452,
          145647,
          212493,
          66500,
          63218,
          55308,
          48194,
          45195,
          138214,
          22574,
          43142,
          15595,
          64083,
          73243,
          190471,
          64398,
          26185,
          112044,
          60610,
          54239,
          22401,
          157043,
          2097824,
          501547,
          342525,
          445879,
          54160,
          112306,
          176686,
          94733,
          420951,
          112807,
          80421,
          52281,
          14145,
          298014,
          19780,
          13753,
          21413,
          84561,
          147411,
          95840,
          121957,
          59953,
          65499,
          658208,
          68662,
          37719
         ],
         "yaxis": "y"
        },
        {
         "alignmentgroup": "True",
         "customdata": [
          [
           106.9
          ],
          [
           107.01
          ],
          [
           106.05
          ],
          [
           106.28
          ],
          [
           107.34
          ],
          [
           106.65
          ],
          [
           105.89
          ],
          [
           104.86
          ],
          [
           104.91
          ],
          [
           0
          ],
          [
           107.33
          ],
          [
           0
          ],
          [
           0
          ],
          [
           115.96
          ],
          [
           109.21
          ],
          [
           106.8
          ],
          [
           119.41
          ],
          [
           106.14
          ],
          [
           106.49
          ],
          [
           105.64
          ],
          [
           108.25
          ],
          [
           108.53
          ],
          [
           109
          ],
          [
           108.12
          ],
          [
           105.84
          ],
          [
           106.46
          ],
          [
           107.61
          ],
          [
           106.23
          ],
          [
           105.37
          ],
          [
           107.25
          ],
          [
           108.64
          ],
          [
           110.25
          ],
          [
           108.37
          ],
          [
           108.24
          ],
          [
           0
          ],
          [
           0
          ],
          [
           0
          ],
          [
           0
          ],
          [
           0
          ],
          [
           0
          ],
          [
           0
          ],
          [
           0
          ],
          [
           0
          ],
          [
           0
          ],
          [
           0
          ],
          [
           0
          ],
          [
           0
          ],
          [
           0
          ],
          [
           0
          ],
          [
           0
          ],
          [
           110.77
          ],
          [
           110.97
          ],
          [
           0
          ],
          [
           0
          ],
          [
           0
          ],
          [
           0
          ],
          [
           0
          ],
          [
           0
          ],
          [
           0
          ],
          [
           0
          ],
          [
           114.46
          ],
          [
           118.23
          ],
          [
           111.87
          ],
          [
           113.84
          ],
          [
           110.97
          ],
          [
           102.95
          ],
          [
           105.03
          ],
          [
           105.25
          ],
          [
           103.93
          ],
          [
           103.93
          ],
          [
           103.36
          ],
          [
           103.61
          ],
          [
           101.72
          ],
          [
           103.48
          ],
          [
           103.23
          ],
          [
           108.44
          ],
          [
           106.62
          ],
          [
           107.86
          ],
          [
           104.04
          ],
          [
           104.53
          ],
          [
           104
          ],
          [
           103.54
          ],
          [
           105.28
          ],
          [
           110.37
          ],
          [
           104.42
          ],
          [
           106
          ],
          [
           106.55
          ],
          [
           107.15
          ],
          [
           107.26
          ],
          [
           106.42
          ],
          [
           105.77
          ],
          [
           106.78
          ],
          [
           107.24
          ],
          [
           122.66
          ],
          [
           124.5
          ],
          [
           109.32
          ],
          [
           110.45
          ],
          [
           106.39
          ],
          [
           109.86
          ],
          [
           110.97
          ],
          [
           106.21
          ],
          [
           106.83
          ],
          [
           105.82
          ],
          [
           108.01
          ],
          [
           106.36
          ],
          [
           105.36
          ],
          [
           106.55
          ],
          [
           108.32
          ],
          [
           107.28
          ],
          [
           106.87
          ],
          [
           109.1
          ],
          [
           107.97
          ],
          [
           106.07
          ],
          [
           106.13
          ],
          [
           106.86
          ],
          [
           107.15
          ],
          [
           108.12
          ],
          [
           107.37
          ],
          [
           105.47
          ],
          [
           107.45
          ],
          [
           105.65
          ],
          [
           106.27
          ],
          [
           105.19
          ],
          [
           107.43
          ],
          [
           105.77
          ],
          [
           106.62
          ],
          [
           106.53
          ],
          [
           105.22
          ],
          [
           106.91
          ],
          [
           105.85
          ],
          [
           111.45
          ],
          [
           105.45
          ],
          [
           106.85
          ],
          [
           107.6
          ],
          [
           108.82
          ],
          [
           110.23
          ],
          [
           0
          ]
         ],
         "hovertemplate": "PROVINCE=SINDH<br>RURAL=%{x}<br>URBAN=%{y}<br>SEX RATIO (RURAL)=%{customdata[0]}<extra></extra>",
         "legendgroup": "SINDH",
         "marker": {
          "color": "rgb(17, 165, 121)",
          "pattern": {
           "shape": ""
          }
         },
         "name": "SINDH",
         "offsetgroup": "SINDH",
         "orientation": "v",
         "showlegend": true,
         "text": [
          106.9,
          107.01,
          106.05,
          106.28,
          107.34,
          106.65,
          105.89,
          104.86,
          104.91,
          0,
          107.33,
          0,
          0,
          115.96,
          109.21,
          106.8,
          119.41,
          106.14,
          106.49,
          105.64,
          108.25,
          108.53,
          109,
          108.12,
          105.84,
          106.46,
          107.61,
          106.23,
          105.37,
          107.25,
          108.64,
          110.25,
          108.37,
          108.24,
          0,
          0,
          0,
          0,
          0,
          0,
          0,
          0,
          0,
          0,
          0,
          0,
          0,
          0,
          0,
          0,
          110.77,
          110.97,
          0,
          0,
          0,
          0,
          0,
          0,
          0,
          0,
          114.46,
          118.23,
          111.87,
          113.84,
          110.97,
          102.95,
          105.03,
          105.25,
          103.93,
          103.93,
          103.36,
          103.61,
          101.72,
          103.48,
          103.23,
          108.44,
          106.62,
          107.86,
          104.04,
          104.53,
          104,
          103.54,
          105.28,
          110.37,
          104.42,
          106,
          106.55,
          107.15,
          107.26,
          106.42,
          105.77,
          106.78,
          107.24,
          122.66,
          124.5,
          109.32,
          110.45,
          106.39,
          109.86,
          110.97,
          106.21,
          106.83,
          105.82,
          108.01,
          106.36,
          105.36,
          106.55,
          108.32,
          107.28,
          106.87,
          109.1,
          107.97,
          106.07,
          106.13,
          106.86,
          107.15,
          108.12,
          107.37,
          105.47,
          107.45,
          105.65,
          106.27,
          105.19,
          107.43,
          105.77,
          106.62,
          106.53,
          105.22,
          106.91,
          105.85,
          111.45,
          105.45,
          106.85,
          107.6,
          108.82,
          110.23,
          0
         ],
         "textposition": "auto",
         "type": "bar",
         "x": [
          322957,
          281087,
          346413,
          123329,
          340828,
          279085,
          265358,
          262064,
          360477,
          0,
          373410,
          0,
          0,
          145932,
          119570,
          165467,
          130318,
          144167,
          297950,
          145254,
          189707,
          190520,
          142021,
          161083,
          174017,
          223171,
          173240,
          230630,
          150895,
          153536,
          150844,
          55429,
          294561,
          304828,
          0,
          0,
          0,
          0,
          0,
          0,
          0,
          0,
          0,
          0,
          0,
          0,
          0,
          0,
          0,
          0,
          160904,
          121954,
          0,
          0,
          0,
          0,
          0,
          0,
          0,
          0,
          248098,
          64153,
          385776,
          129761,
          29846,
          146400,
          191480,
          371911,
          292404,
          115622,
          113591,
          58144,
          83629,
          117467,
          160375,
          229942,
          343986,
          262749,
          196995,
          162757,
          247204,
          215932,
          280636,
          251221,
          201329,
          196133,
          140304,
          150226,
          142462,
          244090,
          26155,
          147733,
          219389,
          327492,
          298045,
          135729,
          225927,
          117609,
          161621,
          248079,
          179266,
          107033,
          160967,
          382666,
          239455,
          283507,
          169661,
          273131,
          267060,
          125985,
          281837,
          339307,
          265945,
          260082,
          204998,
          384652,
          297638,
          134064,
          307342,
          224423,
          382741,
          119244,
          252551,
          308928,
          180739,
          169334,
          208567,
          245116,
          262926,
          258899,
          122023,
          180580,
          43652,
          336263,
          284840,
          102811,
          0
         ],
         "xaxis": "x",
         "y": [
          131619,
          53353,
          98287,
          48685,
          58400,
          182580,
          29031,
          72413,
          99382,
          725153,
          92896,
          703690,
          304779,
          292131,
          21196,
          104350,
          14944,
          118472,
          43160,
          21037,
          12161,
          0,
          20300,
          17727,
          35308,
          36185,
          17999,
          213915,
          6381,
          33788,
          101868,
          23202,
          4270,
          47128,
          101876,
          496094,
          449098,
          446347,
          871245,
          708598,
          761631,
          841800,
          792451,
          479433,
          128313,
          473119,
          363967,
          661926,
          141905,
          832583,
          401115,
          550332,
          70611,
          845797,
          520195,
          403574,
          1126141,
          546196,
          384389,
          520830,
          195143,
          0,
          0,
          670004,
          201565,
          12619,
          191098,
          93501,
          100970,
          42312,
          37819,
          27623,
          118935,
          0,
          69144,
          136169,
          90980,
          26510,
          32205,
          62202,
          488006,
          116485,
          35937,
          24919,
          47427,
          196158,
          73713,
          0,
          59388,
          29042,
          234133,
          21000,
          16805,
          23315,
          7484,
          13142,
          18512,
          0,
          58280,
          11801,
          39194,
          12972,
          9249,
          182122,
          62089,
          38869,
          76988,
          95448,
          105839,
          27208,
          50996,
          93485,
          191083,
          56922,
          152025,
          93341,
          51306,
          279338,
          65825,
          86286,
          124346,
          30423,
          75270,
          44496,
          43349,
          93884,
          231845,
          95181,
          85656,
          93865,
          38620,
          94606,
          276571,
          100109,
          85742,
          26925,
          231459
         ],
         "yaxis": "y"
        },
        {
         "alignmentgroup": "True",
         "customdata": [
          [
           101.98
          ],
          [
           111.25
          ],
          [
           109.93
          ],
          [
           103.4
          ],
          [
           119.28
          ],
          [
           110.66
          ],
          [
           107.5
          ],
          [
           108.5
          ],
          [
           105.37
          ],
          [
           106.5
          ],
          [
           106.19
          ],
          [
           108.5
          ],
          [
           115.25
          ],
          [
           107.69
          ],
          [
           106.84
          ],
          [
           105.96
          ],
          [
           110.87
          ],
          [
           116.07
          ],
          [
           118.58
          ],
          [
           108.03
          ],
          [
           111.71
          ],
          [
           108.47
          ],
          [
           109.88
          ],
          [
           111.11
          ],
          [
           108.2
          ],
          [
           103.99
          ],
          [
           104.36
          ],
          [
           107.39
          ],
          [
           107.38
          ],
          [
           110.8
          ],
          [
           108.98
          ],
          [
           105.31
          ],
          [
           106.08
          ],
          [
           114.72
          ],
          [
           109.8
          ],
          [
           106.03
          ],
          [
           108.44
          ],
          [
           104.77
          ],
          [
           109.5
          ],
          [
           106.29
          ],
          [
           111.23
          ],
          [
           112.04
          ],
          [
           115.35
          ],
          [
           108.65
          ],
          [
           123.7
          ],
          [
           115.65
          ],
          [
           134.77
          ],
          [
           118.75
          ],
          [
           113.94
          ],
          [
           122.8
          ],
          [
           98.45
          ],
          [
           116.82
          ],
          [
           106.57
          ],
          [
           109.59
          ],
          [
           120
          ],
          [
           104.25
          ],
          [
           105.53
          ],
          [
           104.4
          ],
          [
           106.1
          ],
          [
           106.86
          ],
          [
           105.19
          ],
          [
           108.9
          ],
          [
           109.7
          ],
          [
           108.8
          ],
          [
           109
          ],
          [
           109.7
          ],
          [
           120
          ],
          [
           109.34
          ],
          [
           108.4
          ],
          [
           105.54
          ],
          [
           106.88
          ],
          [
           104.34
          ],
          [
           106.46
          ],
          [
           105.29
          ],
          [
           109.11
          ],
          [
           107.66
          ],
          [
           113.6
          ],
          [
           139.38
          ],
          [
           112.24
          ],
          [
           122.05
          ],
          [
           108.34
          ],
          [
           104.95
          ],
          [
           106.27
          ],
          [
           103.58
          ],
          [
           109.33
          ],
          [
           110.44
          ],
          [
           107.26
          ],
          [
           108.82
          ],
          [
           104.69
          ],
          [
           108.09
          ],
          [
           110.54
          ],
          [
           118.72
          ],
          [
           110.89
          ],
          [
           123.08
          ],
          [
           94.07
          ],
          [
           98.64
          ],
          [
           117.36
          ],
          [
           113.68
          ],
          [
           127.52
          ],
          [
           111.54
          ],
          [
           109.11
          ],
          [
           110.39
          ],
          [
           122.05
          ],
          [
           97.69
          ],
          [
           111.75
          ],
          [
           118.09
          ],
          [
           113.55
          ],
          [
           109.08
          ],
          [
           117.83
          ],
          [
           115.66
          ],
          [
           108.23
          ],
          [
           101.92
          ],
          [
           111.08
          ],
          [
           131.62
          ],
          [
           110.66
          ],
          [
           113.59
          ],
          [
           113.66
          ],
          [
           109.62
          ],
          [
           113.57
          ],
          [
           114.77
          ],
          [
           110.84
          ],
          [
           112.38
          ],
          [
           115.72
          ],
          [
           117.42
          ],
          [
           121.7
          ],
          [
           123.09
          ],
          [
           125.91
          ],
          [
           104.17
          ],
          [
           117.98
          ],
          [
           129.29
          ],
          [
           116.17
          ]
         ],
         "hovertemplate": "PROVINCE=BALOCHISTAN<br>RURAL=%{x}<br>URBAN=%{y}<br>SEX RATIO (RURAL)=%{customdata[0]}<extra></extra>",
         "legendgroup": "BALOCHISTAN",
         "marker": {
          "color": "rgb(57, 105, 172)",
          "pattern": {
           "shape": ""
          }
         },
         "name": "BALOCHISTAN",
         "offsetgroup": "BALOCHISTAN",
         "orientation": "v",
         "showlegend": true,
         "text": [
          101.98,
          111.25,
          109.93,
          103.4,
          119.28,
          110.66,
          107.5,
          108.5,
          105.37,
          106.5,
          106.19,
          108.5,
          115.25,
          107.69,
          106.84,
          105.96,
          110.87,
          116.07,
          118.58,
          108.03,
          111.71,
          108.47,
          109.88,
          111.11,
          108.2,
          103.99,
          104.36,
          107.39,
          107.38,
          110.8,
          108.98,
          105.31,
          106.08,
          114.72,
          109.8,
          106.03,
          108.44,
          104.77,
          109.5,
          106.29,
          111.23,
          112.04,
          115.35,
          108.65,
          123.7,
          115.65,
          134.77,
          118.75,
          113.94,
          122.8,
          98.45,
          116.82,
          106.57,
          109.59,
          120,
          104.25,
          105.53,
          104.4,
          106.1,
          106.86,
          105.19,
          108.9,
          109.7,
          108.8,
          109,
          109.7,
          120,
          109.34,
          108.4,
          105.54,
          106.88,
          104.34,
          106.46,
          105.29,
          109.11,
          107.66,
          113.6,
          139.38,
          112.24,
          122.05,
          108.34,
          104.95,
          106.27,
          103.58,
          109.33,
          110.44,
          107.26,
          108.82,
          104.69,
          108.09,
          110.54,
          118.72,
          110.89,
          123.08,
          94.07,
          98.64,
          117.36,
          113.68,
          127.52,
          111.54,
          109.11,
          110.39,
          122.05,
          97.69,
          111.75,
          118.09,
          113.55,
          109.08,
          117.83,
          115.66,
          108.23,
          101.92,
          111.08,
          131.62,
          110.66,
          113.59,
          113.66,
          109.62,
          113.57,
          114.77,
          110.84,
          112.38,
          115.72,
          117.42,
          121.7,
          123.09,
          125.91,
          104.17,
          117.98,
          129.29,
          116.17
         ],
         "textposition": "auto",
         "type": "bar",
         "x": [
          8584,
          18390,
          40010,
          20600,
          5721,
          10708,
          92298,
          65678,
          165260,
          29315,
          49393,
          32670,
          42318,
          31016,
          117020,
          23386,
          97576,
          37588,
          32125,
          77906,
          64199,
          80124,
          32686,
          16914,
          27664,
          35495,
          11730,
          34504,
          42867,
          64765,
          38860,
          28624,
          98430,
          40266,
          38634,
          34477,
          27548,
          12952,
          47494,
          8423,
          7881,
          26790,
          10886,
          44595,
          37302,
          76470,
          52947,
          202777,
          50995,
          97665,
          42411,
          16646,
          16329,
          178752,
          23215,
          74881,
          172149,
          109231,
          43365,
          88279,
          9441,
          43341,
          56859,
          27149,
          14213,
          20489,
          96901,
          49480,
          76536,
          134459,
          131056,
          58204,
          88788,
          40567,
          58256,
          111203,
          22283,
          18510,
          311355,
          61741,
          114984,
          120944,
          132551,
          103423,
          102700,
          97469,
          272063,
          18452,
          19011,
          723361,
          527716,
          19497,
          20790,
          18058,
          27265,
          28054,
          40629,
          10217,
          48235,
          50753,
          12279,
          9458,
          17027,
          73833,
          27709,
          41516,
          7583,
          44490,
          2665,
          60339,
          92497,
          64206,
          158824,
          15345,
          33242,
          97481,
          27962,
          50283,
          55326,
          142935,
          148730,
          40867,
          37599,
          31339,
          84170,
          152952,
          20768,
          5184,
          13831,
          17465,
          206942
         ],
         "xaxis": "x",
         "y": [
          21761,
          0,
          0,
          12476,
          0,
          0,
          36796,
          0,
          35597,
          51388,
          0,
          0,
          0,
          0,
          182444,
          0,
          33321,
          0,
          0,
          22209,
          37788,
          24603,
          12855,
          7679,
          177823,
          0,
          0,
          29515,
          29423,
          0,
          0,
          0,
          34997,
          0,
          0,
          0,
          0,
          21835,
          90201,
          18268,
          17753,
          34557,
          0,
          0,
          39846,
          0,
          0,
          213831,
          0,
          48343,
          0,
          0,
          0,
          80411,
          0,
          0,
          80958,
          76753,
          7815,
          0,
          0,
          0,
          16600,
          15240,
          0,
          19140,
          0,
          0,
          0,
          96316,
          0,
          0,
          0,
          12867,
          0,
          16265,
          0,
          0,
          123206,
          0,
          0,
          26124,
          46396,
          0,
          29402,
          39997,
          35547,
          37850,
          0,
          999385,
          0,
          0,
          27625,
          0,
          0,
          0,
          0,
          0,
          72740,
          13303,
          0,
          11259,
          0,
          0,
          17443,
          0,
          0,
          0,
          0,
          64674,
          0,
          3392,
          12201,
          0,
          0,
          34865,
          0,
          28428,
          0,
          10042,
          54849,
          0,
          0,
          0,
          14135,
          0,
          0,
          0,
          0,
          0,
          46164
         ],
         "yaxis": "y"
        },
        {
         "alignmentgroup": "True",
         "customdata": [
          [
           101.66
          ],
          [
           105.32
          ],
          [
           101.61
          ],
          [
           100.95
          ],
          [
           107.94
          ],
          [
           105.65
          ],
          [
           107.46
          ],
          [
           103.92
          ],
          [
           106.27
          ],
          [
           104.15
          ],
          [
           102.06
          ],
          [
           99.07
          ],
          [
           100.26
          ],
          [
           99.9
          ],
          [
           99.12
          ],
          [
           98.1
          ],
          [
           97.71
          ],
          [
           100.18
          ],
          [
           91.72
          ],
          [
           104.3
          ],
          [
           96.68
          ],
          [
           117.88
          ],
          [
           118.4
          ],
          [
           117.84
          ],
          [
           117.95
          ],
          [
           91.86
          ],
          [
           90.56
          ],
          [
           95.64
          ],
          [
           97.51
          ],
          [
           93.8
          ],
          [
           95.9
          ],
          [
           100.92
          ],
          [
           99.31
          ],
          [
           101.32
          ],
          [
           104.49
          ],
          [
           103.24
          ],
          [
           98.79
          ],
          [
           96.76
          ],
          [
           109.25
          ],
          [
           104.06
          ],
          [
           100.29
          ],
          [
           101.61
          ],
          [
           101.16
          ],
          [
           101.22
          ],
          [
           104.34
          ],
          [
           99.1
          ],
          [
           99.24
          ],
          [
           96.6
          ],
          [
           101.3
          ],
          [
           105.55
          ],
          [
           93.92
          ],
          [
           102.51
          ],
          [
           105.7
          ],
          [
           104.72
          ],
          [
           106.53
          ],
          [
           103.95
          ],
          [
           106.19
          ],
          [
           106.26
          ],
          [
           96.51
          ],
          [
           103.77
          ],
          [
           98.35
          ],
          [
           102.12
          ],
          [
           87.65
          ],
          [
           102.04
          ],
          [
           95.74
          ],
          [
           97.72
          ],
          [
           98.21
          ],
          [
           94.48
          ],
          [
           100.31
          ],
          [
           100.43
          ],
          [
           100.21
          ]
         ],
         "hovertemplate": "PROVINCE=KPK<br>RURAL=%{x}<br>URBAN=%{y}<br>SEX RATIO (RURAL)=%{customdata[0]}<extra></extra>",
         "legendgroup": "KPK",
         "marker": {
          "color": "rgb(242, 183, 1)",
          "pattern": {
           "shape": ""
          }
         },
         "name": "KPK",
         "offsetgroup": "KPK",
         "orientation": "v",
         "showlegend": true,
         "text": [
          101.66,
          105.32,
          101.61,
          100.95,
          107.94,
          105.65,
          107.46,
          103.92,
          106.27,
          104.15,
          102.06,
          99.07,
          100.26,
          99.9,
          99.12,
          98.1,
          97.71,
          100.18,
          91.72,
          104.3,
          96.68,
          117.88,
          118.4,
          117.84,
          117.95,
          91.86,
          90.56,
          95.64,
          97.51,
          93.8,
          95.9,
          100.92,
          99.31,
          101.32,
          104.49,
          103.24,
          98.79,
          96.76,
          109.25,
          104.06,
          100.29,
          101.61,
          101.16,
          101.22,
          104.34,
          99.1,
          99.24,
          96.6,
          101.3,
          105.55,
          93.92,
          102.51,
          105.7,
          104.72,
          106.53,
          103.95,
          106.19,
          106.26,
          96.51,
          103.77,
          98.35,
          102.12,
          87.65,
          102.04,
          95.74,
          97.72,
          98.21,
          94.48,
          100.31,
          100.43,
          100.21
         ],
         "textposition": "auto",
         "type": "bar",
         "x": [
          908155,
          208968,
          519601,
          266891,
          124318,
          507431,
          77139,
          303520,
          252462,
          343562,
          737167,
          301937,
          180502,
          296247,
          144917,
          723498,
          273257,
          872623,
          264964,
          96888,
          74461,
          228350,
          77101,
          276325,
          202935,
          221598,
          194711,
          620442,
          102059,
          155482,
          241743,
          257051,
          343225,
          1043978,
          545974,
          264463,
          558662,
          250916,
          275472,
          659042,
          288462,
          393252,
          267642,
          383046,
          2297375,
          354809,
          269971,
          118072,
          152608,
          228548,
          169297,
          508361,
          105950,
          145298,
          267947,
          89758,
          186533,
          126001,
          302028,
          217484,
          423052,
          317526,
          219567,
          378004,
          480671,
          395425,
          185121,
          322755,
          650120,
          303644,
          346476
         ],
         "xaxis": "x",
         "y": [
          49948,
          0,
          59273,
          29979,
          0,
          218018,
          24753,
          77566,
          39881,
          47064,
          245670,
          48315,
          0,
          0,
          0,
          133100,
          0,
          144898,
          0,
          0,
          0,
          0,
          0,
          0,
          0,
          48801,
          53701,
          228555,
          41371,
          0,
          51086,
          0,
          0,
          359024,
          81198,
          41319,
          26214,
          155405,
          53026,
          145801,
          91490,
          32913,
          86122,
          55370,
          1969823,
          0,
          0,
          0,
          0,
          49780,
          0,
          0,
          0,
          0,
          331377,
          94019,
          61889,
          0,
          117973,
          48016,
          42547,
          0,
          0,
          0,
          40314,
          44100,
          0,
          0,
          67686,
          0,
          67686
         ],
         "yaxis": "y"
        },
        {
         "alignmentgroup": "True",
         "customdata": [
          [
           101.9
          ],
          [
           100.35
          ],
          [
           105.9
          ],
          [
           105.68
          ],
          [
           107.04
          ],
          [
           101.09
          ],
          [
           102.24
          ],
          [
           107.01
          ],
          [
           106.67
          ],
          [
           101.92
          ],
          [
           107.68
          ],
          [
           95.75
          ],
          [
           103
          ],
          [
           103.97
          ],
          [
           107.86
          ],
          [
           108.72
          ],
          [
           97.81
          ],
          [
           97.98
          ],
          [
           102.87
          ],
          [
           106.2
          ],
          [
           105.03
          ],
          [
           100.04
          ],
          [
           104.59
          ],
          [
           101.18
          ],
          [
           102.93
          ],
          [
           99.36
          ],
          [
           108.33
          ],
          [
           115.95
          ],
          [
           111.28
          ],
          [
           104.44
          ],
          [
           101.95
          ],
          [
           110.44
          ],
          [
           103.67
          ],
          [
           112.51
          ],
          [
           99.15
          ],
          [
           101.29
          ],
          [
           100.41
          ],
          [
           102.27
          ],
          [
           108.76
          ],
          [
           108.81
          ],
          [
           111.42
          ],
          [
           110.25
          ],
          [
           111.03
          ],
          [
           109.96
          ],
          [
           119.68
          ],
          [
           113.3
          ]
         ],
         "hovertemplate": "PROVINCE=KPK/FATA<br>RURAL=%{x}<br>URBAN=%{y}<br>SEX RATIO (RURAL)=%{customdata[0]}<extra></extra>",
         "legendgroup": "KPK/FATA",
         "marker": {
          "color": "rgb(231, 63, 116)",
          "pattern": {
           "shape": ""
          }
         },
         "name": "KPK/FATA",
         "offsetgroup": "KPK/FATA",
         "orientation": "v",
         "showlegend": true,
         "text": [
          101.9,
          100.35,
          105.9,
          105.68,
          107.04,
          101.09,
          102.24,
          107.01,
          106.67,
          101.92,
          107.68,
          95.75,
          103,
          103.97,
          107.86,
          108.72,
          97.81,
          97.98,
          102.87,
          106.2,
          105.03,
          100.04,
          104.59,
          101.18,
          102.93,
          99.36,
          108.33,
          115.95,
          111.28,
          104.44,
          101.95,
          110.44,
          103.67,
          112.51,
          99.15,
          101.29,
          100.41,
          102.27,
          108.76,
          108.81,
          111.42,
          110.25,
          111.03,
          109.96,
          119.68,
          113.3
         ],
         "textposition": "auto",
         "type": "bar",
         "x": [
          2868,
          76493,
          246875,
          311373,
          78494,
          267636,
          107248,
          43112,
          68506,
          118839,
          26394,
          64761,
          443449,
          163829,
          239323,
          40188,
          101386,
          246934,
          61951,
          78705,
          89711,
          36569,
          98501,
          51154,
          57754,
          75003,
          39945,
          11811,
          27015,
          184986,
          96280,
          15681,
          39290,
          46171,
          59132,
          23963,
          107323,
          63885,
          104282,
          110842,
          58646,
          98180,
          54540,
          45156,
          50413,
          153156
         ],
         "xaxis": "x",
         "y": [
          0,
          0,
          0,
          0,
          0,
          0,
          0,
          0,
          0,
          0,
          0,
          0,
          0,
          63728,
          33729,
          0,
          32543,
          5502,
          0,
          0,
          0,
          0,
          0,
          0,
          0,
          0,
          0,
          0,
          0,
          0,
          4364,
          0,
          0,
          0,
          0,
          0,
          0,
          0,
          0,
          0,
          0,
          0,
          0,
          0,
          0,
          0
         ],
         "yaxis": "y"
        }
       ],
       "layout": {
        "barmode": "group",
        "height": 600,
        "legend": {
         "title": {
          "text": "PROVINCE"
         },
         "tracegroupgap": 0
        },
        "template": {
         "data": {
          "bar": [
           {
            "error_x": {
             "color": "#2a3f5f"
            },
            "error_y": {
             "color": "#2a3f5f"
            },
            "marker": {
             "line": {
              "color": "#E5ECF6",
              "width": 0.5
             },
             "pattern": {
              "fillmode": "overlay",
              "size": 10,
              "solidity": 0.2
             }
            },
            "type": "bar"
           }
          ],
          "barpolar": [
           {
            "marker": {
             "line": {
              "color": "#E5ECF6",
              "width": 0.5
             },
             "pattern": {
              "fillmode": "overlay",
              "size": 10,
              "solidity": 0.2
             }
            },
            "type": "barpolar"
           }
          ],
          "carpet": [
           {
            "aaxis": {
             "endlinecolor": "#2a3f5f",
             "gridcolor": "white",
             "linecolor": "white",
             "minorgridcolor": "white",
             "startlinecolor": "#2a3f5f"
            },
            "baxis": {
             "endlinecolor": "#2a3f5f",
             "gridcolor": "white",
             "linecolor": "white",
             "minorgridcolor": "white",
             "startlinecolor": "#2a3f5f"
            },
            "type": "carpet"
           }
          ],
          "choropleth": [
           {
            "colorbar": {
             "outlinewidth": 0,
             "ticks": ""
            },
            "type": "choropleth"
           }
          ],
          "contour": [
           {
            "colorbar": {
             "outlinewidth": 0,
             "ticks": ""
            },
            "colorscale": [
             [
              0,
              "#0d0887"
             ],
             [
              0.1111111111111111,
              "#46039f"
             ],
             [
              0.2222222222222222,
              "#7201a8"
             ],
             [
              0.3333333333333333,
              "#9c179e"
             ],
             [
              0.4444444444444444,
              "#bd3786"
             ],
             [
              0.5555555555555556,
              "#d8576b"
             ],
             [
              0.6666666666666666,
              "#ed7953"
             ],
             [
              0.7777777777777778,
              "#fb9f3a"
             ],
             [
              0.8888888888888888,
              "#fdca26"
             ],
             [
              1,
              "#f0f921"
             ]
            ],
            "type": "contour"
           }
          ],
          "contourcarpet": [
           {
            "colorbar": {
             "outlinewidth": 0,
             "ticks": ""
            },
            "type": "contourcarpet"
           }
          ],
          "heatmap": [
           {
            "colorbar": {
             "outlinewidth": 0,
             "ticks": ""
            },
            "colorscale": [
             [
              0,
              "#0d0887"
             ],
             [
              0.1111111111111111,
              "#46039f"
             ],
             [
              0.2222222222222222,
              "#7201a8"
             ],
             [
              0.3333333333333333,
              "#9c179e"
             ],
             [
              0.4444444444444444,
              "#bd3786"
             ],
             [
              0.5555555555555556,
              "#d8576b"
             ],
             [
              0.6666666666666666,
              "#ed7953"
             ],
             [
              0.7777777777777778,
              "#fb9f3a"
             ],
             [
              0.8888888888888888,
              "#fdca26"
             ],
             [
              1,
              "#f0f921"
             ]
            ],
            "type": "heatmap"
           }
          ],
          "heatmapgl": [
           {
            "colorbar": {
             "outlinewidth": 0,
             "ticks": ""
            },
            "colorscale": [
             [
              0,
              "#0d0887"
             ],
             [
              0.1111111111111111,
              "#46039f"
             ],
             [
              0.2222222222222222,
              "#7201a8"
             ],
             [
              0.3333333333333333,
              "#9c179e"
             ],
             [
              0.4444444444444444,
              "#bd3786"
             ],
             [
              0.5555555555555556,
              "#d8576b"
             ],
             [
              0.6666666666666666,
              "#ed7953"
             ],
             [
              0.7777777777777778,
              "#fb9f3a"
             ],
             [
              0.8888888888888888,
              "#fdca26"
             ],
             [
              1,
              "#f0f921"
             ]
            ],
            "type": "heatmapgl"
           }
          ],
          "histogram": [
           {
            "marker": {
             "pattern": {
              "fillmode": "overlay",
              "size": 10,
              "solidity": 0.2
             }
            },
            "type": "histogram"
           }
          ],
          "histogram2d": [
           {
            "colorbar": {
             "outlinewidth": 0,
             "ticks": ""
            },
            "colorscale": [
             [
              0,
              "#0d0887"
             ],
             [
              0.1111111111111111,
              "#46039f"
             ],
             [
              0.2222222222222222,
              "#7201a8"
             ],
             [
              0.3333333333333333,
              "#9c179e"
             ],
             [
              0.4444444444444444,
              "#bd3786"
             ],
             [
              0.5555555555555556,
              "#d8576b"
             ],
             [
              0.6666666666666666,
              "#ed7953"
             ],
             [
              0.7777777777777778,
              "#fb9f3a"
             ],
             [
              0.8888888888888888,
              "#fdca26"
             ],
             [
              1,
              "#f0f921"
             ]
            ],
            "type": "histogram2d"
           }
          ],
          "histogram2dcontour": [
           {
            "colorbar": {
             "outlinewidth": 0,
             "ticks": ""
            },
            "colorscale": [
             [
              0,
              "#0d0887"
             ],
             [
              0.1111111111111111,
              "#46039f"
             ],
             [
              0.2222222222222222,
              "#7201a8"
             ],
             [
              0.3333333333333333,
              "#9c179e"
             ],
             [
              0.4444444444444444,
              "#bd3786"
             ],
             [
              0.5555555555555556,
              "#d8576b"
             ],
             [
              0.6666666666666666,
              "#ed7953"
             ],
             [
              0.7777777777777778,
              "#fb9f3a"
             ],
             [
              0.8888888888888888,
              "#fdca26"
             ],
             [
              1,
              "#f0f921"
             ]
            ],
            "type": "histogram2dcontour"
           }
          ],
          "mesh3d": [
           {
            "colorbar": {
             "outlinewidth": 0,
             "ticks": ""
            },
            "type": "mesh3d"
           }
          ],
          "parcoords": [
           {
            "line": {
             "colorbar": {
              "outlinewidth": 0,
              "ticks": ""
             }
            },
            "type": "parcoords"
           }
          ],
          "pie": [
           {
            "automargin": true,
            "type": "pie"
           }
          ],
          "scatter": [
           {
            "fillpattern": {
             "fillmode": "overlay",
             "size": 10,
             "solidity": 0.2
            },
            "type": "scatter"
           }
          ],
          "scatter3d": [
           {
            "line": {
             "colorbar": {
              "outlinewidth": 0,
              "ticks": ""
             }
            },
            "marker": {
             "colorbar": {
              "outlinewidth": 0,
              "ticks": ""
             }
            },
            "type": "scatter3d"
           }
          ],
          "scattercarpet": [
           {
            "marker": {
             "colorbar": {
              "outlinewidth": 0,
              "ticks": ""
             }
            },
            "type": "scattercarpet"
           }
          ],
          "scattergeo": [
           {
            "marker": {
             "colorbar": {
              "outlinewidth": 0,
              "ticks": ""
             }
            },
            "type": "scattergeo"
           }
          ],
          "scattergl": [
           {
            "marker": {
             "colorbar": {
              "outlinewidth": 0,
              "ticks": ""
             }
            },
            "type": "scattergl"
           }
          ],
          "scattermapbox": [
           {
            "marker": {
             "colorbar": {
              "outlinewidth": 0,
              "ticks": ""
             }
            },
            "type": "scattermapbox"
           }
          ],
          "scatterpolar": [
           {
            "marker": {
             "colorbar": {
              "outlinewidth": 0,
              "ticks": ""
             }
            },
            "type": "scatterpolar"
           }
          ],
          "scatterpolargl": [
           {
            "marker": {
             "colorbar": {
              "outlinewidth": 0,
              "ticks": ""
             }
            },
            "type": "scatterpolargl"
           }
          ],
          "scatterternary": [
           {
            "marker": {
             "colorbar": {
              "outlinewidth": 0,
              "ticks": ""
             }
            },
            "type": "scatterternary"
           }
          ],
          "surface": [
           {
            "colorbar": {
             "outlinewidth": 0,
             "ticks": ""
            },
            "colorscale": [
             [
              0,
              "#0d0887"
             ],
             [
              0.1111111111111111,
              "#46039f"
             ],
             [
              0.2222222222222222,
              "#7201a8"
             ],
             [
              0.3333333333333333,
              "#9c179e"
             ],
             [
              0.4444444444444444,
              "#bd3786"
             ],
             [
              0.5555555555555556,
              "#d8576b"
             ],
             [
              0.6666666666666666,
              "#ed7953"
             ],
             [
              0.7777777777777778,
              "#fb9f3a"
             ],
             [
              0.8888888888888888,
              "#fdca26"
             ],
             [
              1,
              "#f0f921"
             ]
            ],
            "type": "surface"
           }
          ],
          "table": [
           {
            "cells": {
             "fill": {
              "color": "#EBF0F8"
             },
             "line": {
              "color": "white"
             }
            },
            "header": {
             "fill": {
              "color": "#C8D4E3"
             },
             "line": {
              "color": "white"
             }
            },
            "type": "table"
           }
          ]
         },
         "layout": {
          "annotationdefaults": {
           "arrowcolor": "#2a3f5f",
           "arrowhead": 0,
           "arrowwidth": 1
          },
          "autotypenumbers": "strict",
          "coloraxis": {
           "colorbar": {
            "outlinewidth": 0,
            "ticks": ""
           }
          },
          "colorscale": {
           "diverging": [
            [
             0,
             "#8e0152"
            ],
            [
             0.1,
             "#c51b7d"
            ],
            [
             0.2,
             "#de77ae"
            ],
            [
             0.3,
             "#f1b6da"
            ],
            [
             0.4,
             "#fde0ef"
            ],
            [
             0.5,
             "#f7f7f7"
            ],
            [
             0.6,
             "#e6f5d0"
            ],
            [
             0.7,
             "#b8e186"
            ],
            [
             0.8,
             "#7fbc41"
            ],
            [
             0.9,
             "#4d9221"
            ],
            [
             1,
             "#276419"
            ]
           ],
           "sequential": [
            [
             0,
             "#0d0887"
            ],
            [
             0.1111111111111111,
             "#46039f"
            ],
            [
             0.2222222222222222,
             "#7201a8"
            ],
            [
             0.3333333333333333,
             "#9c179e"
            ],
            [
             0.4444444444444444,
             "#bd3786"
            ],
            [
             0.5555555555555556,
             "#d8576b"
            ],
            [
             0.6666666666666666,
             "#ed7953"
            ],
            [
             0.7777777777777778,
             "#fb9f3a"
            ],
            [
             0.8888888888888888,
             "#fdca26"
            ],
            [
             1,
             "#f0f921"
            ]
           ],
           "sequentialminus": [
            [
             0,
             "#0d0887"
            ],
            [
             0.1111111111111111,
             "#46039f"
            ],
            [
             0.2222222222222222,
             "#7201a8"
            ],
            [
             0.3333333333333333,
             "#9c179e"
            ],
            [
             0.4444444444444444,
             "#bd3786"
            ],
            [
             0.5555555555555556,
             "#d8576b"
            ],
            [
             0.6666666666666666,
             "#ed7953"
            ],
            [
             0.7777777777777778,
             "#fb9f3a"
            ],
            [
             0.8888888888888888,
             "#fdca26"
            ],
            [
             1,
             "#f0f921"
            ]
           ]
          },
          "colorway": [
           "#636efa",
           "#EF553B",
           "#00cc96",
           "#ab63fa",
           "#FFA15A",
           "#19d3f3",
           "#FF6692",
           "#B6E880",
           "#FF97FF",
           "#FECB52"
          ],
          "font": {
           "color": "#2a3f5f"
          },
          "geo": {
           "bgcolor": "white",
           "lakecolor": "white",
           "landcolor": "#E5ECF6",
           "showlakes": true,
           "showland": true,
           "subunitcolor": "white"
          },
          "hoverlabel": {
           "align": "left"
          },
          "hovermode": "closest",
          "mapbox": {
           "style": "light"
          },
          "paper_bgcolor": "white",
          "plot_bgcolor": "#E5ECF6",
          "polar": {
           "angularaxis": {
            "gridcolor": "white",
            "linecolor": "white",
            "ticks": ""
           },
           "bgcolor": "#E5ECF6",
           "radialaxis": {
            "gridcolor": "white",
            "linecolor": "white",
            "ticks": ""
           }
          },
          "scene": {
           "xaxis": {
            "backgroundcolor": "#E5ECF6",
            "gridcolor": "white",
            "gridwidth": 2,
            "linecolor": "white",
            "showbackground": true,
            "ticks": "",
            "zerolinecolor": "white"
           },
           "yaxis": {
            "backgroundcolor": "#E5ECF6",
            "gridcolor": "white",
            "gridwidth": 2,
            "linecolor": "white",
            "showbackground": true,
            "ticks": "",
            "zerolinecolor": "white"
           },
           "zaxis": {
            "backgroundcolor": "#E5ECF6",
            "gridcolor": "white",
            "gridwidth": 2,
            "linecolor": "white",
            "showbackground": true,
            "ticks": "",
            "zerolinecolor": "white"
           }
          },
          "shapedefaults": {
           "line": {
            "color": "#2a3f5f"
           }
          },
          "ternary": {
           "aaxis": {
            "gridcolor": "white",
            "linecolor": "white",
            "ticks": ""
           },
           "baxis": {
            "gridcolor": "white",
            "linecolor": "white",
            "ticks": ""
           },
           "bgcolor": "#E5ECF6",
           "caxis": {
            "gridcolor": "white",
            "linecolor": "white",
            "ticks": ""
           }
          },
          "title": {
           "x": 0.05
          },
          "xaxis": {
           "automargin": true,
           "gridcolor": "white",
           "linecolor": "white",
           "ticks": "",
           "title": {
            "standoff": 15
           },
           "zerolinecolor": "white",
           "zerolinewidth": 2
          },
          "yaxis": {
           "automargin": true,
           "gridcolor": "white",
           "linecolor": "white",
           "ticks": "",
           "title": {
            "standoff": 15
           },
           "zerolinecolor": "white",
           "zerolinewidth": 2
          }
         }
        },
        "title": {
         "text": "SEX RATIO"
        },
        "width": 800,
        "xaxis": {
         "anchor": "y",
         "domain": [
          0,
          1
         ],
         "title": {
          "text": "RURAL"
         }
        },
        "yaxis": {
         "anchor": "x",
         "domain": [
          0,
          1
         ],
         "title": {
          "text": "URBAN"
         }
        }
       }
      }
     },
     "metadata": {},
     "output_type": "display_data"
    }
   ],
   "source": [
    "fig = px.bar(df, x= 'SEX_RURAL', color='PROVINCE', y='SEX_URBAN', barmode='group', title='SEX RATIO', labels={'SEX_RURAL':'RURAL', 'SEX_URBAN':'URBAN'}, height=600, width=800, hover_data=['SEX RATIO (RURAL)'], text='SEX RATIO (RURAL)', color_discrete_sequence=px.colors.qualitative.Bold)\n",
    "fig.show()"
   ]
  }
 ],
 "metadata": {
  "kernelspec": {
   "display_name": "Python 3",
   "language": "python",
   "name": "python3"
  },
  "language_info": {
   "codemirror_mode": {
    "name": "ipython",
    "version": 3
   },
   "file_extension": ".py",
   "mimetype": "text/x-python",
   "name": "python",
   "nbconvert_exporter": "python",
   "pygments_lexer": "ipython3",
   "version": "3.11.0"
  }
 },
 "nbformat": 4,
 "nbformat_minor": 2
}
