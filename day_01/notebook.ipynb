{
 "cells": [
  {
   "cell_type": "markdown",
   "metadata": {},
   "source": []
  }
 ],
 "metadata": {
  "kernelspec": {
   "display_name": "Python 3",
   "language": "python",
   "name": "python3"
  },
  "language_info": {
   "name": "python",
   "version": "3.11.1"
  },
  "orig_nbformat": 4,
  "vscode": {
   "interpreter": {
    "hash": "991402c692bc564f8d8109cc0d13011ed79699c68c33a1f58bd510c5ae540e95"
   }
  }
 },
 "nbformat": 4,
 "nbformat_minor": 2
}
