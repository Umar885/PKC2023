{
 "cells": [
  {
   "cell_type": "code",
   "execution_count": 1,
   "metadata": {},
   "outputs": [],
   "source": [
    "import pandas as pd\n",
    "import numpy as np\n",
    "import seaborn as sns"
   ]
  },
  {
   "cell_type": "code",
   "execution_count": 6,
   "metadata": {},
   "outputs": [],
   "source": [
    "df = pd.read_excel(\"statistics_01.xlsx\")"
   ]
  },
  {
   "cell_type": "code",
   "execution_count": 7,
   "metadata": {},
   "outputs": [
    {
     "data": {
      "text/html": [
       "<div>\n",
       "<style scoped>\n",
       "    .dataframe tbody tr th:only-of-type {\n",
       "        vertical-align: middle;\n",
       "    }\n",
       "\n",
       "    .dataframe tbody tr th {\n",
       "        vertical-align: top;\n",
       "    }\n",
       "\n",
       "    .dataframe thead th {\n",
       "        text-align: right;\n",
       "    }\n",
       "</style>\n",
       "<table border=\"1\" class=\"dataframe\">\n",
       "  <thead>\n",
       "    <tr style=\"text-align: right;\">\n",
       "      <th></th>\n",
       "      <th>index</th>\n",
       "      <th>merchantid</th>\n",
       "      <th>listedproducts</th>\n",
       "      <th>totalunitssold</th>\n",
       "      <th>meanunitssoldperproduct</th>\n",
       "      <th>rating</th>\n",
       "      <th>merchantratingscount</th>\n",
       "      <th>meanproductprices</th>\n",
       "      <th>meanretailprices</th>\n",
       "      <th>averagediscount</th>\n",
       "      <th>meandiscount</th>\n",
       "      <th>meanproductratingscount</th>\n",
       "      <th>totalurgencycount</th>\n",
       "      <th>urgencytextrate</th>\n",
       "    </tr>\n",
       "  </thead>\n",
       "  <tbody>\n",
       "    <tr>\n",
       "      <th>0</th>\n",
       "      <td>0</td>\n",
       "      <td>5357bcf2bb72c5504882e889</td>\n",
       "      <td>2</td>\n",
       "      <td>120000</td>\n",
       "      <td>60000</td>\n",
       "      <td>4.219</td>\n",
       "      <td>320031</td>\n",
       "      <td>9.00</td>\n",
       "      <td>20.0</td>\n",
       "      <td>54</td>\n",
       "      <td>54.0</td>\n",
       "      <td>8836</td>\n",
       "      <td>1.0</td>\n",
       "      <td>50.0</td>\n",
       "    </tr>\n",
       "    <tr>\n",
       "      <th>1</th>\n",
       "      <td>1</td>\n",
       "      <td>5708773c3c02161b3f8c7900</td>\n",
       "      <td>5</td>\n",
       "      <td>107100</td>\n",
       "      <td>21420</td>\n",
       "      <td>3.934</td>\n",
       "      <td>139223</td>\n",
       "      <td>7.76</td>\n",
       "      <td>34.2</td>\n",
       "      <td>61</td>\n",
       "      <td>61.0</td>\n",
       "      <td>4010</td>\n",
       "      <td>3.0</td>\n",
       "      <td>60.0</td>\n",
       "    </tr>\n",
       "    <tr>\n",
       "      <th>2</th>\n",
       "      <td>2</td>\n",
       "      <td>5417aada4ad3ab27e954b76c</td>\n",
       "      <td>2</td>\n",
       "      <td>100007</td>\n",
       "      <td>50004</td>\n",
       "      <td>4.053</td>\n",
       "      <td>108048</td>\n",
       "      <td>8.00</td>\n",
       "      <td>8.0</td>\n",
       "      <td>-1</td>\n",
       "      <td>-1.0</td>\n",
       "      <td>5531</td>\n",
       "      <td>NaN</td>\n",
       "      <td>NaN</td>\n",
       "    </tr>\n",
       "    <tr>\n",
       "      <th>3</th>\n",
       "      <td>3</td>\n",
       "      <td>570f3a713a698c14278bb51e</td>\n",
       "      <td>1</td>\n",
       "      <td>100000</td>\n",
       "      <td>100000</td>\n",
       "      <td>3.889</td>\n",
       "      <td>19248</td>\n",
       "      <td>5.67</td>\n",
       "      <td>19.0</td>\n",
       "      <td>71</td>\n",
       "      <td>71.0</td>\n",
       "      <td>18393</td>\n",
       "      <td>1.0</td>\n",
       "      <td>100.0</td>\n",
       "    </tr>\n",
       "    <tr>\n",
       "      <th>4</th>\n",
       "      <td>4</td>\n",
       "      <td>53082ea15aefb07dfe1f2a4f</td>\n",
       "      <td>1</td>\n",
       "      <td>100000</td>\n",
       "      <td>100000</td>\n",
       "      <td>4.036</td>\n",
       "      <td>366898</td>\n",
       "      <td>5.00</td>\n",
       "      <td>33.0</td>\n",
       "      <td>85</td>\n",
       "      <td>85.0</td>\n",
       "      <td>13789</td>\n",
       "      <td>NaN</td>\n",
       "      <td>NaN</td>\n",
       "    </tr>\n",
       "  </tbody>\n",
       "</table>\n",
       "</div>"
      ],
      "text/plain": [
       "   index                merchantid  listedproducts  totalunitssold   \n",
       "0      0  5357bcf2bb72c5504882e889               2          120000  \\\n",
       "1      1  5708773c3c02161b3f8c7900               5          107100   \n",
       "2      2  5417aada4ad3ab27e954b76c               2          100007   \n",
       "3      3  570f3a713a698c14278bb51e               1          100000   \n",
       "4      4  53082ea15aefb07dfe1f2a4f               1          100000   \n",
       "\n",
       "   meanunitssoldperproduct  rating  merchantratingscount  meanproductprices   \n",
       "0                    60000   4.219                320031               9.00  \\\n",
       "1                    21420   3.934                139223               7.76   \n",
       "2                    50004   4.053                108048               8.00   \n",
       "3                   100000   3.889                 19248               5.67   \n",
       "4                   100000   4.036                366898               5.00   \n",
       "\n",
       "   meanretailprices  averagediscount  meandiscount  meanproductratingscount   \n",
       "0              20.0               54          54.0                     8836  \\\n",
       "1              34.2               61          61.0                     4010   \n",
       "2               8.0               -1          -1.0                     5531   \n",
       "3              19.0               71          71.0                    18393   \n",
       "4              33.0               85          85.0                    13789   \n",
       "\n",
       "   totalurgencycount  urgencytextrate  \n",
       "0                1.0             50.0  \n",
       "1                3.0             60.0  \n",
       "2                NaN              NaN  \n",
       "3                1.0            100.0  \n",
       "4                NaN              NaN  "
      ]
     },
     "execution_count": 7,
     "metadata": {},
     "output_type": "execute_result"
    }
   ],
   "source": [
    "df.head()"
   ]
  },
  {
   "cell_type": "code",
   "execution_count": 8,
   "metadata": {},
   "outputs": [
    {
     "data": {
      "text/plain": [
       "4.043993736951983"
      ]
     },
     "execution_count": 8,
     "metadata": {},
     "output_type": "execute_result"
    }
   ],
   "source": [
    "df['rating'].mean()"
   ]
  },
  {
   "cell_type": "code",
   "execution_count": 9,
   "metadata": {},
   "outputs": [
    {
     "data": {
      "text/plain": [
       "1.6419624217118998"
      ]
     },
     "execution_count": 9,
     "metadata": {},
     "output_type": "execute_result"
    }
   ],
   "source": [
    "df['listedproducts'].mean()"
   ]
  },
  {
   "cell_type": "code",
   "execution_count": 10,
   "metadata": {},
   "outputs": [
    {
     "data": {
      "text/plain": [
       "4.037525914268958"
      ]
     },
     "execution_count": 10,
     "metadata": {},
     "output_type": "execute_result"
    }
   ],
   "source": [
    "from scipy import stats\n",
    "stats.gmean(df['rating'])"
   ]
  },
  {
   "cell_type": "code",
   "execution_count": 11,
   "metadata": {},
   "outputs": [
    {
     "data": {
      "text/plain": [
       "4.030571234441692"
      ]
     },
     "execution_count": 11,
     "metadata": {},
     "output_type": "execute_result"
    }
   ],
   "source": [
    "stats.hmean(df['rating'])"
   ]
  },
  {
   "cell_type": "code",
   "execution_count": 12,
   "metadata": {},
   "outputs": [
    {
     "data": {
      "text/plain": [
       "37.64350599503129"
      ]
     },
     "execution_count": 12,
     "metadata": {},
     "output_type": "execute_result"
    }
   ],
   "source": [
    "data = np.array([10, 20, 30, 40, 50, 60, 70, 80,])\n",
    "stats.gmean(data)"
   ]
  },
  {
   "cell_type": "code",
   "execution_count": 13,
   "metadata": {},
   "outputs": [
    {
     "data": {
      "text/plain": [
       "29.43495400788436"
      ]
     },
     "execution_count": 13,
     "metadata": {},
     "output_type": "execute_result"
    }
   ],
   "source": [
    "stats.hmean(data)"
   ]
  },
  {
   "cell_type": "code",
   "execution_count": 15,
   "metadata": {},
   "outputs": [
    {
     "data": {
      "text/plain": [
       "45.0"
      ]
     },
     "execution_count": 15,
     "metadata": {},
     "output_type": "execute_result"
    }
   ],
   "source": [
    "data.mean()"
   ]
  },
  {
   "cell_type": "code",
   "execution_count": 21,
   "metadata": {},
   "outputs": [
    {
     "data": {
      "text/plain": [
       "4.0555"
      ]
     },
     "execution_count": 21,
     "metadata": {},
     "output_type": "execute_result"
    }
   ],
   "source": [
    "df['rating'].median()"
   ]
  },
  {
   "cell_type": "code",
   "execution_count": 22,
   "metadata": {},
   "outputs": [
    {
     "data": {
      "text/html": [
       "<div>\n",
       "<style scoped>\n",
       "    .dataframe tbody tr th:only-of-type {\n",
       "        vertical-align: middle;\n",
       "    }\n",
       "\n",
       "    .dataframe tbody tr th {\n",
       "        vertical-align: top;\n",
       "    }\n",
       "\n",
       "    .dataframe thead th {\n",
       "        text-align: right;\n",
       "    }\n",
       "</style>\n",
       "<table border=\"1\" class=\"dataframe\">\n",
       "  <thead>\n",
       "    <tr style=\"text-align: right;\">\n",
       "      <th></th>\n",
       "      <th>index</th>\n",
       "      <th>merchantid</th>\n",
       "      <th>listedproducts</th>\n",
       "      <th>totalunitssold</th>\n",
       "      <th>meanunitssoldperproduct</th>\n",
       "      <th>rating</th>\n",
       "      <th>merchantratingscount</th>\n",
       "      <th>meanproductprices</th>\n",
       "      <th>meanretailprices</th>\n",
       "      <th>averagediscount</th>\n",
       "      <th>meandiscount</th>\n",
       "      <th>meanproductratingscount</th>\n",
       "      <th>totalurgencycount</th>\n",
       "      <th>urgencytextrate</th>\n",
       "    </tr>\n",
       "  </thead>\n",
       "  <tbody>\n",
       "    <tr>\n",
       "      <th>0</th>\n",
       "      <td>0</td>\n",
       "      <td>5357bcf2bb72c5504882e889</td>\n",
       "      <td>2</td>\n",
       "      <td>120000</td>\n",
       "      <td>60000</td>\n",
       "      <td>4.219</td>\n",
       "      <td>320031</td>\n",
       "      <td>9.00</td>\n",
       "      <td>20.0</td>\n",
       "      <td>54</td>\n",
       "      <td>54.0</td>\n",
       "      <td>8836</td>\n",
       "      <td>1.0</td>\n",
       "      <td>50.0</td>\n",
       "    </tr>\n",
       "    <tr>\n",
       "      <th>1</th>\n",
       "      <td>1</td>\n",
       "      <td>5708773c3c02161b3f8c7900</td>\n",
       "      <td>5</td>\n",
       "      <td>107100</td>\n",
       "      <td>21420</td>\n",
       "      <td>3.934</td>\n",
       "      <td>139223</td>\n",
       "      <td>7.76</td>\n",
       "      <td>34.2</td>\n",
       "      <td>61</td>\n",
       "      <td>61.0</td>\n",
       "      <td>4010</td>\n",
       "      <td>3.0</td>\n",
       "      <td>60.0</td>\n",
       "    </tr>\n",
       "    <tr>\n",
       "      <th>2</th>\n",
       "      <td>2</td>\n",
       "      <td>5417aada4ad3ab27e954b76c</td>\n",
       "      <td>2</td>\n",
       "      <td>100007</td>\n",
       "      <td>50004</td>\n",
       "      <td>4.053</td>\n",
       "      <td>108048</td>\n",
       "      <td>8.00</td>\n",
       "      <td>8.0</td>\n",
       "      <td>-1</td>\n",
       "      <td>-1.0</td>\n",
       "      <td>5531</td>\n",
       "      <td>NaN</td>\n",
       "      <td>NaN</td>\n",
       "    </tr>\n",
       "    <tr>\n",
       "      <th>3</th>\n",
       "      <td>3</td>\n",
       "      <td>570f3a713a698c14278bb51e</td>\n",
       "      <td>1</td>\n",
       "      <td>100000</td>\n",
       "      <td>100000</td>\n",
       "      <td>3.889</td>\n",
       "      <td>19248</td>\n",
       "      <td>5.67</td>\n",
       "      <td>19.0</td>\n",
       "      <td>71</td>\n",
       "      <td>71.0</td>\n",
       "      <td>18393</td>\n",
       "      <td>1.0</td>\n",
       "      <td>100.0</td>\n",
       "    </tr>\n",
       "    <tr>\n",
       "      <th>4</th>\n",
       "      <td>4</td>\n",
       "      <td>53082ea15aefb07dfe1f2a4f</td>\n",
       "      <td>1</td>\n",
       "      <td>100000</td>\n",
       "      <td>100000</td>\n",
       "      <td>4.036</td>\n",
       "      <td>366898</td>\n",
       "      <td>5.00</td>\n",
       "      <td>33.0</td>\n",
       "      <td>85</td>\n",
       "      <td>85.0</td>\n",
       "      <td>13789</td>\n",
       "      <td>NaN</td>\n",
       "      <td>NaN</td>\n",
       "    </tr>\n",
       "  </tbody>\n",
       "</table>\n",
       "</div>"
      ],
      "text/plain": [
       "   index                merchantid  listedproducts  totalunitssold   \n",
       "0      0  5357bcf2bb72c5504882e889               2          120000  \\\n",
       "1      1  5708773c3c02161b3f8c7900               5          107100   \n",
       "2      2  5417aada4ad3ab27e954b76c               2          100007   \n",
       "3      3  570f3a713a698c14278bb51e               1          100000   \n",
       "4      4  53082ea15aefb07dfe1f2a4f               1          100000   \n",
       "\n",
       "   meanunitssoldperproduct  rating  merchantratingscount  meanproductprices   \n",
       "0                    60000   4.219                320031               9.00  \\\n",
       "1                    21420   3.934                139223               7.76   \n",
       "2                    50004   4.053                108048               8.00   \n",
       "3                   100000   3.889                 19248               5.67   \n",
       "4                   100000   4.036                366898               5.00   \n",
       "\n",
       "   meanretailprices  averagediscount  meandiscount  meanproductratingscount   \n",
       "0              20.0               54          54.0                     8836  \\\n",
       "1              34.2               61          61.0                     4010   \n",
       "2               8.0               -1          -1.0                     5531   \n",
       "3              19.0               71          71.0                    18393   \n",
       "4              33.0               85          85.0                    13789   \n",
       "\n",
       "   totalurgencycount  urgencytextrate  \n",
       "0                1.0             50.0  \n",
       "1                3.0             60.0  \n",
       "2                NaN              NaN  \n",
       "3                1.0            100.0  \n",
       "4                NaN              NaN  "
      ]
     },
     "execution_count": 22,
     "metadata": {},
     "output_type": "execute_result"
    }
   ],
   "source": [
    "df.head()"
   ]
  },
  {
   "cell_type": "code",
   "execution_count": 23,
   "metadata": {},
   "outputs": [
    {
     "data": {
      "text/plain": [
       "0    4.041\n",
       "Name: rating, dtype: float64"
      ]
     },
     "execution_count": 23,
     "metadata": {},
     "output_type": "execute_result"
    }
   ],
   "source": [
    "df['rating'].mode()"
   ]
  },
  {
   "cell_type": "code",
   "execution_count": 24,
   "metadata": {},
   "outputs": [
    {
     "data": {
      "text/plain": [
       "0    88\n",
       "Name: merchantratingscount, dtype: int64"
      ]
     },
     "execution_count": 24,
     "metadata": {},
     "output_type": "execute_result"
    }
   ],
   "source": [
    "df['merchantratingscount'].mode()"
   ]
  },
  {
   "cell_type": "code",
   "execution_count": 25,
   "metadata": {},
   "outputs": [
    {
     "data": {
      "text/plain": [
       "<Axes: >"
      ]
     },
     "execution_count": 25,
     "metadata": {},
     "output_type": "execute_result"
    },
    {
     "data": {
      "image/png": "[encoded data removed]",
      "text/plain": [
       "<Figure size 640x480 with 1 Axes>"
      ]
     },
     "metadata": {},
     "output_type": "display_data"
    }
   ],
   "source": [
    "df['rating'].plot()"
   ]
  },
  {
   "cell_type": "code",
   "execution_count": null,
   "metadata": {},
   "outputs": [],
   "source": [
    "# Mean (Average)\n",
    "def calculate_mean(data):\n",
    "    return sum(data) / len(data)\n",
    "\n",
    "# Median (Middle)\n",
    "def calculate_median(data):\n",
    "    sorted_data = sorted(data)\n",
    "    n = len(sorted_data)\n",
    "    mid = n // 2\n",
    "\n",
    "    if n % 2 == 0:\n",
    "        return (sorted_data[mid - 1] + sorted_data[mid]) / 2\n",
    "    else:\n",
    "        return sorted_data[mid]\n",
    "\n",
    "# Mode (Most Common)\n",
    "from collections import Counter\n",
    "\n",
    "def calculate_mode(data):\n",
    "    counts = Counter(data)\n",
    "    max_count = max(counts.values())\n",
    "    mode = [key for key, value in counts.items() if value == max_count]\n",
    "    \n",
    "    return mode\n",
    "\n",
    "# Example data\n",
    "data = [2, 4, 6, 8, 10]\n",
    "\n",
    "# Calculate and print central tendencies\n",
    "print(f\"Mean: {calculate_mean(data)}\")\n",
    "print(f\"Median: {calculate_median(data)}\")\n",
    "print(f\"Mode: {calculate_mode(data)}\")\n"
   ]
  }
 ],
 "metadata": {
  "kernelspec": {
   "display_name": "Python 3",
   "language": "python",
   "name": "python3"
  },
  "language_info": {
   "codemirror_mode": {
    "name": "ipython",
    "version": 3
   },
   "file_extension": ".py",
   "mimetype": "text/x-python",
   "name": "python",
   "nbconvert_exporter": "python",
   "pygments_lexer": "ipython3",
   "version": "3.11.1"
  }
 },
 "nbformat": 4,
 "nbformat_minor": 2
}
